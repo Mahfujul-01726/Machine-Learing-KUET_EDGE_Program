{
  "nbformat": 4,
  "nbformat_minor": 0,
  "metadata": {
    "colab": {
      "provenance": []
    },
    "kernelspec": {
      "name": "python3",
      "display_name": "Python 3"
    },
    "language_info": {
      "name": "python"
    }
  },
  "cells": [
    {
      "cell_type": "markdown",
      "source": [
        "2. **Session 9: Pandas DataFrame**\n",
        "\n",
        "* Introduction Pandas DataFrame\n",
        "* Creating DataFrame and read_csv()\n",
        "* DataFrame attributes and methods\n",
        "* Dataframe Math Methods\n",
        "* Selecting cols and rows from dataframe\n",
        "* Filtering a Dataframe\n",
        "* Adding new columns\n",
        "* Dataframe function - astype()"
      ],
      "metadata": {
        "id": "3dWNWLPrXoqz"
      }
    },
    {
      "cell_type": "markdown",
      "source": [
        "# 1. Introduction to Pandas DataFrame\n",
        "\n",
        "A DataFrame is a 2-dimensional labeled data structure similar to a table in a relational database or an Excel spreadsheet. It is part of the Pandas library, and its rows and columns are indexed.\n",
        "\n",
        "**Key Features:**\n",
        "* Easy handling of missing data.\n",
        "* Powerful tools for reshaping and pivoting datasets.\n",
        "* Integrated handling of time-series data."
      ],
      "metadata": {
        "id": "-p_DrqCNXxgD"
      }
    },
    {
      "cell_type": "markdown",
      "source": [
        "# 2. Creating a DataFrame and read_csv()"
      ],
      "metadata": {
        "id": "L0bj8melYEPS"
      }
    },
    {
      "cell_type": "markdown",
      "source": [
        "# Creating a DataFrame"
      ],
      "metadata": {
        "id": "Yt6mqzEsYN47"
      }
    },
    {
      "cell_type": "code",
      "execution_count": 1,
      "metadata": {
        "colab": {
          "base_uri": "https://localhost:8080/"
        },
        "id": "8UYhluPnWQLD",
        "outputId": "8b2c511b-2f55-4c7d-817d-311a865f5f53"
      },
      "outputs": [
        {
          "output_type": "stream",
          "name": "stdout",
          "text": [
            "      Name  Age           City\n",
            "0    Alice   24       New York\n",
            "1      Bob   27  San Francisco\n",
            "2  Charlie   22    Los Angeles\n"
          ]
        }
      ],
      "source": [
        "import pandas as pd\n",
        "\n",
        "# From a dictionary\n",
        "data= {'Name':['Alice', 'Bob', 'Charlie'],\n",
        "       'Age':[24, 27, 22],\n",
        "       'City':['New York', 'San Francisco', 'Los Angeles']}\n",
        "df=pd.DataFrame(data)\n",
        "print(df)"
      ]
    },
    {
      "cell_type": "markdown",
      "source": [
        "# Reading CSV File"
      ],
      "metadata": {
        "id": "tygwqLldYteK"
      }
    },
    {
      "cell_type": "code",
      "source": [
        "# Assuming a CSV file named 'data.csv'\n",
        "df_csv = pd.read_csv('data2.csv')\n",
        "print(df_csv.head())  # Display the first 5 rows\n"
      ],
      "metadata": {
        "colab": {
          "base_uri": "https://localhost:8080/"
        },
        "id": "FkbusEhtXNVq",
        "outputId": "de6d197e-ca88-4ae5-80b9-87d7cb1ad2f7"
      },
      "execution_count": 5,
      "outputs": [
        {
          "output_type": "stream",
          "name": "stdout",
          "text": [
            "   Unnamed: 0  Duaration        Date    Pulse  Maxpulse  Calories\n",
            "0           0         60  '2020/12/01'    110       130     409.1\n",
            "1           1         60  '2020/12/02'    117       145     479.0\n",
            "2           2         60  '2020/12/03'    103       135     340.0\n",
            "3           3         45  '2020/12/04'    109       175     282.4\n",
            "4           4         45  '2020/12/05'    117       148     406.0\n"
          ]
        }
      ]
    },
    {
      "cell_type": "markdown",
      "source": [
        "![Screenshot 2024-12-29 231058.png](data:image/png;base64,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)"
      ],
      "metadata": {
        "id": "ClNbSrGNZlgE"
      }
    },
    {
      "cell_type": "code",
      "source": [
        "print(df.columns)  # Output: Index(['Name', 'Age', 'City'], dtype='object')\n",
        "print(df.index)    # Output: RangeIndex(start=0, stop=3, step=1)\n",
        "print(df.shape)    # Output: (3, 3)\n",
        "print(df.dtypes)   # Output: dtype of each column\n"
      ],
      "metadata": {
        "colab": {
          "base_uri": "https://localhost:8080/"
        },
        "id": "WiOJ1rAVXNTa",
        "outputId": "bcd80721-be7e-44dc-ba0b-5e90e3f17420"
      },
      "execution_count": 6,
      "outputs": [
        {
          "output_type": "stream",
          "name": "stdout",
          "text": [
            "Index(['Name', 'Age', 'City'], dtype='object')\n",
            "RangeIndex(start=0, stop=3, step=1)\n",
            "(3, 3)\n",
            "Name    object\n",
            "Age      int64\n",
            "City    object\n",
            "dtype: object\n"
          ]
        }
      ]
    },
    {
      "cell_type": "markdown",
      "source": [
        "**Methods:**\n",
        "\n",
        "* df.info(): Provides an overview of the DataFrame\n",
        "* df.describe(): Descriptive statistics for numerical columns"
      ],
      "metadata": {
        "id": "WjQ-Lt7iZuLz"
      }
    },
    {
      "cell_type": "code",
      "source": [
        "print(df.info())\n",
        "print(df.describe())"
      ],
      "metadata": {
        "colab": {
          "base_uri": "https://localhost:8080/"
        },
        "id": "8HwrH5G1XNRS",
        "outputId": "b2e2c6a5-a230-4d54-874c-011765d72276"
      },
      "execution_count": 7,
      "outputs": [
        {
          "output_type": "stream",
          "name": "stdout",
          "text": [
            "<class 'pandas.core.frame.DataFrame'>\n",
            "RangeIndex: 3 entries, 0 to 2\n",
            "Data columns (total 3 columns):\n",
            " #   Column  Non-Null Count  Dtype \n",
            "---  ------  --------------  ----- \n",
            " 0   Name    3 non-null      object\n",
            " 1   Age     3 non-null      int64 \n",
            " 2   City    3 non-null      object\n",
            "dtypes: int64(1), object(2)\n",
            "memory usage: 200.0+ bytes\n",
            "None\n",
            "             Age\n",
            "count   3.000000\n",
            "mean   24.333333\n",
            "std     2.516611\n",
            "min    22.000000\n",
            "25%    23.000000\n",
            "50%    24.000000\n",
            "75%    25.500000\n",
            "max    27.000000\n"
          ]
        }
      ]
    },
    {
      "cell_type": "markdown",
      "source": [
        "# 4. DataFrame Math Methods"
      ],
      "metadata": {
        "id": "kTEGl4B9aO2e"
      }
    },
    {
      "cell_type": "code",
      "source": [
        "data={'A':[1,2,3], 'B':[4,5,6]}\n",
        "df=pd.DataFrame(data)\n",
        "\n",
        "\n",
        "# Element-wise operations\n",
        "print(df+2)\n",
        "print(df.sum())\n",
        "print(df.mean())"
      ],
      "metadata": {
        "colab": {
          "base_uri": "https://localhost:8080/"
        },
        "id": "qCKx7kUEXNOr",
        "outputId": "363bb874-7ad7-4b5e-89df-f70c75bed7ff"
      },
      "execution_count": 8,
      "outputs": [
        {
          "output_type": "stream",
          "name": "stdout",
          "text": [
            "   A  B\n",
            "0  3  6\n",
            "1  4  7\n",
            "2  5  8\n",
            "A     6\n",
            "B    15\n",
            "dtype: int64\n",
            "A    2.0\n",
            "B    5.0\n",
            "dtype: float64\n"
          ]
        }
      ]
    },
    {
      "cell_type": "markdown",
      "source": [
        "# 5. Selecting Columns and Rows a DataFrame"
      ],
      "metadata": {
        "id": "waglmrcIa32r"
      }
    },
    {
      "cell_type": "markdown",
      "source": [
        "* Selecting Columns:"
      ],
      "metadata": {
        "id": "G1nc3u6_a_Ez"
      }
    },
    {
      "cell_type": "code",
      "source": [
        "# Single column\n",
        "print(df['A'])\n",
        "\n",
        "# Multiple columns\n",
        "print(df[['A', 'B']])\n"
      ],
      "metadata": {
        "colab": {
          "base_uri": "https://localhost:8080/"
        },
        "id": "6OEUDrDmXNKy",
        "outputId": "c5a48e04-9c6c-4fb4-99b8-3581aab1004a"
      },
      "execution_count": 9,
      "outputs": [
        {
          "output_type": "stream",
          "name": "stdout",
          "text": [
            "0    1\n",
            "1    2\n",
            "2    3\n",
            "Name: A, dtype: int64\n",
            "   A  B\n",
            "0  1  4\n",
            "1  2  5\n",
            "2  3  6\n"
          ]
        }
      ]
    },
    {
      "cell_type": "markdown",
      "source": [
        "* Selecting Rows:"
      ],
      "metadata": {
        "id": "OgxkRt6jbzyP"
      }
    },
    {
      "cell_type": "code",
      "source": [
        "print(df.iloc[0])"
      ],
      "metadata": {
        "colab": {
          "base_uri": "https://localhost:8080/"
        },
        "id": "HvHp_tNUXNIk",
        "outputId": "67a5e20d-d673-46cb-9ca9-b23e99cde9b5"
      },
      "execution_count": 10,
      "outputs": [
        {
          "output_type": "stream",
          "name": "stdout",
          "text": [
            "A    1\n",
            "B    4\n",
            "Name: 0, dtype: int64\n"
          ]
        }
      ]
    },
    {
      "cell_type": "code",
      "source": [
        "df=pd.DataFrame(data, index=['row1', 'row2', 'row3'])\n",
        "print(df.loc['row1'])"
      ],
      "metadata": {
        "colab": {
          "base_uri": "https://localhost:8080/"
        },
        "id": "U9v4p6pdXNGL",
        "outputId": "8d444a36-ee41-421d-e392-81129997301f"
      },
      "execution_count": 11,
      "outputs": [
        {
          "output_type": "stream",
          "name": "stdout",
          "text": [
            "A    1\n",
            "B    4\n",
            "Name: row1, dtype: int64\n"
          ]
        }
      ]
    },
    {
      "cell_type": "markdown",
      "source": [
        "# 6. Filtering a DataFrame"
      ],
      "metadata": {
        "id": "bo3XM_S4cMFT"
      }
    },
    {
      "cell_type": "code",
      "source": [
        "# Example condition: A>1\n",
        "filtered_df=df[df['A']>1]\n",
        "print(filtered_df)"
      ],
      "metadata": {
        "colab": {
          "base_uri": "https://localhost:8080/"
        },
        "id": "yMrDsflKXNDU",
        "outputId": "462e0ec1-4da9-44ff-ca46-77019f94a12c"
      },
      "execution_count": 12,
      "outputs": [
        {
          "output_type": "stream",
          "name": "stdout",
          "text": [
            "      A  B\n",
            "row2  2  5\n",
            "row3  3  6\n"
          ]
        }
      ]
    },
    {
      "cell_type": "markdown",
      "source": [
        "# 7. Adding New Columns"
      ],
      "metadata": {
        "id": "rZrYLX8mcfPk"
      }
    },
    {
      "cell_type": "code",
      "source": [
        "df['C']=df['A']+df['B']\n",
        "print(df)"
      ],
      "metadata": {
        "colab": {
          "base_uri": "https://localhost:8080/"
        },
        "id": "sm7HODAKcLLi",
        "outputId": "ab49cc08-32b2-47d3-97d4-f1ae6fc0fcb8"
      },
      "execution_count": 13,
      "outputs": [
        {
          "output_type": "stream",
          "name": "stdout",
          "text": [
            "      A  B  C\n",
            "row1  1  4  5\n",
            "row2  2  5  7\n",
            "row3  3  6  9\n"
          ]
        }
      ]
    },
    {
      "cell_type": "markdown",
      "source": [
        "# 8. DataFrame Function"
      ],
      "metadata": {
        "id": "7y8TtUpIcxqk"
      }
    },
    {
      "cell_type": "code",
      "source": [
        "# Convert 'A' to float\n",
        "df['A']=df['A'].astype(float)\n",
        "print(df.dtypes)"
      ],
      "metadata": {
        "colab": {
          "base_uri": "https://localhost:8080/"
        },
        "id": "Y3LMPbrPcLJM",
        "outputId": "5393afba-6a71-4b61-827f-18706c0bec0c"
      },
      "execution_count": 14,
      "outputs": [
        {
          "output_type": "stream",
          "name": "stdout",
          "text": [
            "A    float64\n",
            "B      int64\n",
            "C      int64\n",
            "dtype: object\n"
          ]
        }
      ]
    },
    {
      "cell_type": "markdown",
      "source": [
        "# Comprehensive Example"
      ],
      "metadata": {
        "id": "wZqdlMXOdG3j"
      }
    },
    {
      "cell_type": "code",
      "source": [
        "import pandas as pd\n",
        "\n",
        "# Create DataFrame\n",
        "data = {\n",
        "    'Product': ['Apples', 'Bananas', 'Cherries'],\n",
        "    'Price': [3.5, 2.0, 5.0],\n",
        "    'Stock': [50, 100, 30]\n",
        "}\n",
        "df = pd.DataFrame(data)\n",
        "\n",
        "# DataFrame Attributes\n",
        "print(\"Columns:\", df.columns)\n",
        "print(\"Shape:\", df.shape)\n",
        "\n",
        "# Math Operations\n",
        "df['Total_Value'] = df['Price'] * df['Stock']\n",
        "\n",
        "# Filtering\n",
        "high_value = df[df['Total_Value'] > 150]\n",
        "\n",
        "# Changing Data Types\n",
        "df['Price'] = df['Price'].astype('int')\n",
        "\n",
        "print(df)\n",
        "print(high_value)\n"
      ],
      "metadata": {
        "colab": {
          "base_uri": "https://localhost:8080/"
        },
        "id": "v3b-7jiycLGj",
        "outputId": "5794fb6c-ad0a-48e7-c1b8-e82ff8469760"
      },
      "execution_count": 15,
      "outputs": [
        {
          "output_type": "stream",
          "name": "stdout",
          "text": [
            "Columns: Index(['Product', 'Price', 'Stock'], dtype='object')\n",
            "Shape: (3, 3)\n",
            "    Product  Price  Stock  Total_Value\n",
            "0    Apples      3     50        175.0\n",
            "1   Bananas      2    100        200.0\n",
            "2  Cherries      5     30        150.0\n",
            "   Product  Price  Stock  Total_Value\n",
            "0   Apples    3.5     50        175.0\n",
            "1  Bananas    2.0    100        200.0\n"
          ]
        }
      ]
    }
  ]
}