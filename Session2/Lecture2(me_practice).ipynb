{
  "nbformat": 4,
  "nbformat_minor": 0,
  "metadata": {
    "colab": {
      "provenance": []
    },
    "kernelspec": {
      "name": "python3",
      "display_name": "Python 3"
    },
    "language_info": {
      "name": "python"
    }
  },
  "cells": [
    {
      "cell_type": "markdown",
      "source": [
        "\n",
        "By the end of this lecture, students will:\n",
        "\n",
        "* Understand and use conditional statement,while loops, for loops, and nested loops\n",
        "* Apply loop to solve practical problems in Engineering.\n",
        "* Understand and apply advanced loop"
      ],
      "metadata": {
        "id": "SJCDcCKCuNDD"
      }
    },
    {
      "cell_type": "markdown",
      "source": [
        "# Syntax of Conditional Statements: if condition:"
      ],
      "metadata": {
        "id": "RV0a45VHug2S"
      }
    },
    {
      "cell_type": "code",
      "source": [
        "#Basic Conditional Statements:\n",
        "#Simple if Statement:\n",
        "#The if statement executes a block of code if the condition is True.\n",
        "x = 10\n",
        "if x > 5:\n",
        "    print(\"x is greater than 5\")\n",
        "    print(\"another line\")"
      ],
      "metadata": {
        "colab": {
          "base_uri": "https://localhost:8080/"
        },
        "id": "HHmK3I-ftdUu",
        "outputId": "a557a457-aacb-4cc2-db28-87e64a3db0f4"
      },
      "execution_count": 1,
      "outputs": [
        {
          "output_type": "stream",
          "name": "stdout",
          "text": [
            "x is greater than 5\n",
            "another line\n"
          ]
        }
      ]
    },
    {
      "cell_type": "code",
      "source": [
        "#if-else Statement:\n",
        "#An else clause can be added to execute code when the if condition is False.\n",
        "x = 3\n",
        "if x > 5:\n",
        "    print(\"x is greater than 5\")\n",
        "else:\n",
        "    print(\"x is less than or equal to 5\")"
      ],
      "metadata": {
        "colab": {
          "base_uri": "https://localhost:8080/"
        },
        "id": "yM3jrWENtdSn",
        "outputId": "5e9844fe-293b-4359-e5e6-6b4b53a9dcd6"
      },
      "execution_count": 2,
      "outputs": [
        {
          "output_type": "stream",
          "name": "stdout",
          "text": [
            "x is less than or equal to 5\n"
          ]
        }
      ]
    },
    {
      "cell_type": "code",
      "source": [
        "#if-elif-else Ladder:\n",
        "#Multiple conditions can be evaluated using elif (short for \"else if\").\n",
        "x = 7\n",
        "if x > 10:\n",
        "    print(\"x is greater than 10\")\n",
        "elif x > 5:\n",
        "    print(\"x is greater than 5 but less than or equal to 10\")\n",
        "else:\n",
        "    print(\"x is less than or equal to 5\")"
      ],
      "metadata": {
        "colab": {
          "base_uri": "https://localhost:8080/"
        },
        "id": "_dxaSGNKuuiz",
        "outputId": "e855d48c-ab69-4570-b84f-9efbf1656650"
      },
      "execution_count": 3,
      "outputs": [
        {
          "output_type": "stream",
          "name": "stdout",
          "text": [
            "x is greater than 5 but less than or equal to 10\n"
          ]
        }
      ]
    },
    {
      "cell_type": "markdown",
      "source": [
        "# Task1: Write a program that checks the age entered by the user and prints \"Child\", \"Teenager\", \"Adult\" based on the following:\n",
        "\n",
        "Child: age < 13\n",
        "\n",
        "Teenager: 13 ≤ age < 18\n",
        "\n",
        "Adult: age ≥ 18"
      ],
      "metadata": {
        "id": "SiIXNMi4uzTc"
      }
    },
    {
      "cell_type": "code",
      "source": [
        "# Program to classify age group\n",
        "\n",
        "# Input: Age entered by the user\n",
        "age = int(input(\"Enter your age: \"))\n",
        "\n",
        "# Determine the category based on age\n",
        "if age < 13:\n",
        "    print(\"Child\")\n",
        "elif 13 <= age < 18:\n",
        "    print(\"Teenager\")\n",
        "else:\n",
        "    print(\"Adult\")\n"
      ],
      "metadata": {
        "colab": {
          "base_uri": "https://localhost:8080/"
        },
        "id": "gwpo5Ae4uuhK",
        "outputId": "68a63b99-a470-44da-e69b-740d35894807"
      },
      "execution_count": 4,
      "outputs": [
        {
          "output_type": "stream",
          "name": "stdout",
          "text": [
            "Enter your age: 23\n",
            "Adult\n"
          ]
        }
      ]
    },
    {
      "cell_type": "markdown",
      "source": [
        "# Review of Comparison and Logical Operators\n",
        "\n",
        "Comparison Operators:\n",
        "\n",
        "These operators are used to compare two values.\n",
        "\n",
        "==: Equal to\n",
        "\n",
        "!=: Not equal to\n",
        "\n",
        "\">\": Greater than\n",
        "\n",
        "\"<\": Less than\n",
        "\n",
        "\">=\": Greater than or equal to\n",
        "\n",
        "\"<=\": Less than or equal to"
      ],
      "metadata": {
        "id": "afVhucvKvBBq"
      }
    },
    {
      "cell_type": "code",
      "source": [
        "#Example:\n",
        "x = 10\n",
        "print(x == 10)  # Output: True\n",
        "print(x > 5)    # Output: True\n",
        "print(x <= 3)   # Output: False\n"
      ],
      "metadata": {
        "colab": {
          "base_uri": "https://localhost:8080/"
        },
        "id": "kGM_FELOuue5",
        "outputId": "950aee7e-763b-4245-bda9-13f0d7e7ffa1"
      },
      "execution_count": 5,
      "outputs": [
        {
          "output_type": "stream",
          "name": "stdout",
          "text": [
            "True\n",
            "True\n",
            "False\n"
          ]
        }
      ]
    },
    {
      "cell_type": "markdown",
      "source": [
        "# Logical Operators:\n",
        "\n",
        "Logical operators are used to combine multiple conditions.\n",
        "\n",
        "and: Returns True if both conditions are true.\n",
        "\n",
        "or: Returns True if at least one condition is true.\n",
        "\n",
        "not: Inverts the result of the condition."
      ],
      "metadata": {
        "id": "c0VmUn4bvNNJ"
      }
    },
    {
      "cell_type": "code",
      "source": [
        "# Input: Age and income from the user\n",
        "age = int(input(\"Enter your age: \"))\n",
        "income = int(input(\"Enter your monthly income in taka: \"))\n",
        "\n",
        "# Example of 'and' operator\n",
        "if age >= 18 and income >= 30000:\n",
        "    print(\"You are eligible for a loan.\")\n",
        "else:\n",
        "    print(\"You are not eligible for a loan.\")\n",
        "\n",
        "# Example of 'or' operator\n",
        "if age < 18 or income < 30000:\n",
        "    print(\"You need either to be at least 18 years old or have a higher income to apply for a loan.\")\n",
        "else:\n",
        "    print(\"You meet the basic requirements for a loan.\")\n"
      ],
      "metadata": {
        "colab": {
          "base_uri": "https://localhost:8080/"
        },
        "id": "BRz_azuhvK75",
        "outputId": "bc84754a-e9b9-4ce0-e1a9-763830feb58f"
      },
      "execution_count": 6,
      "outputs": [
        {
          "output_type": "stream",
          "name": "stdout",
          "text": [
            "Enter your age: 23\n",
            "Enter your monthly income in taka: 11000\n",
            "You are not eligible for a loan.\n",
            "You need either to be at least 18 years old or have a higher income to apply for a loan.\n"
          ]
        }
      ]
    },
    {
      "cell_type": "code",
      "source": [
        "# Example of 'not' operator\n",
        "is_student = input(\"Are you a student? (yes/no): \").lower()\n",
        "print(is_student)\n",
        "if not is_student == \"yes\":\n",
        "    print(\"You are not a student.\")\n",
        "else:\n",
        "    print(\"You are a student.\")\n"
      ],
      "metadata": {
        "colab": {
          "base_uri": "https://localhost:8080/"
        },
        "id": "bw0itDu5vK4B",
        "outputId": "d4ce8c1e-d620-46f1-feef-fa73823c3eab"
      },
      "execution_count": 7,
      "outputs": [
        {
          "output_type": "stream",
          "name": "stdout",
          "text": [
            "Are you a student? (yes/no): yes\n",
            "yes\n",
            "You are a student.\n"
          ]
        }
      ]
    },
    {
      "cell_type": "markdown",
      "source": [
        "# Task2: Write a program to check if a number is between 10 and 50."
      ],
      "metadata": {
        "id": "vteQM6vTvr_S"
      }
    },
    {
      "cell_type": "code",
      "source": [
        "# Program to check if a number is between 10 and 50\n",
        "\n",
        "# Input: Number entered by the user\n",
        "number = float(input(\"Enter a number: \"))\n",
        "\n",
        "# Check if the number is between 10 and 50\n",
        "if 10 <= number <= 50:\n",
        "    print(\"The number is between 10 and 50.\")\n",
        "else:\n",
        "    print(\"The number is NOT between 10 and 50.\")\n"
      ],
      "metadata": {
        "colab": {
          "base_uri": "https://localhost:8080/"
        },
        "id": "TDAGLS8rvK1z",
        "outputId": "031bef1d-8eb2-48d8-ed10-f9d4aa65ffc5"
      },
      "execution_count": 8,
      "outputs": [
        {
          "output_type": "stream",
          "name": "stdout",
          "text": [
            "Enter a number: 35\n",
            "The number is between 10 and 50.\n"
          ]
        }
      ]
    },
    {
      "cell_type": "markdown",
      "source": [
        "# Task3: Write a program that checks if the entered number is divisible by both 3 and 5."
      ],
      "metadata": {
        "id": "c5NG-k6Kvv5i"
      }
    },
    {
      "cell_type": "code",
      "source": [
        "# Program to check divisibility by 3 and 5\n",
        "\n",
        "# Input: Number entered by the user\n",
        "number = int(input(\"Enter a number: \"))\n",
        "\n",
        "# Check if the number is divisible by both 3 and 5\n",
        "if number % 3 == 0 and number % 5 == 0:\n",
        "    print(f\"The number {number} is divisible by both 3 and 5.\")\n",
        "else:\n",
        "    print(f\"The number {number} is NOT divisible by both 3 and 5.\")\n"
      ],
      "metadata": {
        "colab": {
          "base_uri": "https://localhost:8080/"
        },
        "id": "cK0cDY9DuucS",
        "outputId": "e9cc19c4-bc4b-4f62-80a4-f21a559f34a0"
      },
      "execution_count": 9,
      "outputs": [
        {
          "output_type": "stream",
          "name": "stdout",
          "text": [
            "Enter a number: 30\n",
            "The number 30 is divisible by both 3 and 5.\n"
          ]
        }
      ]
    },
    {
      "cell_type": "markdown",
      "source": [
        "# What are Nested Conditional Statements?\n",
        "\n",
        "Nested conditional statements are if statements placed inside another if statement. This allows for checking more complex conditions."
      ],
      "metadata": {
        "id": "79-ctNjkwNqT"
      }
    },
    {
      "cell_type": "code",
      "source": [
        "#Writing Nested if Statements:\n",
        "#We can nest one if statement inside another to check for multiple conditions.\n",
        "x = 15\n",
        "if x > 10:\n",
        "    print(\"x is greater than 10\")\n",
        "    if x < 20:\n",
        "        print(\"x is less than 20\")\n"
      ],
      "metadata": {
        "colab": {
          "base_uri": "https://localhost:8080/"
        },
        "id": "tyD6xUyqtdQP",
        "outputId": "4845b1ee-21da-42ad-e410-7e22a188ae6d"
      },
      "execution_count": 10,
      "outputs": [
        {
          "output_type": "stream",
          "name": "stdout",
          "text": [
            "x is greater than 10\n",
            "x is less than 20\n"
          ]
        }
      ]
    },
    {
      "cell_type": "code",
      "source": [
        "#We can nest an entire if-elif-else ladder inside another if statement.\n",
        "\n",
        "x = 25\n",
        "if x > 10:\n",
        "    if x < 20:\n",
        "        print(\"x is between 10 and 20\")\n",
        "    else:\n",
        "        print(\"x is greater than 20\")\n",
        "else:\n",
        "    print(\"x is less than or equal to 10\")\n"
      ],
      "metadata": {
        "colab": {
          "base_uri": "https://localhost:8080/"
        },
        "id": "8sR0SkZIwTKB",
        "outputId": "a4d87ec9-32c3-43a7-89af-06fd02ac5fb4"
      },
      "execution_count": 11,
      "outputs": [
        {
          "output_type": "stream",
          "name": "stdout",
          "text": [
            "x is greater than 20\n"
          ]
        }
      ]
    },
    {
      "cell_type": "markdown",
      "source": [
        "# Task4: Write a program to check if a number is even or odd, and if it is even, also check if it is divisible by 4."
      ],
      "metadata": {
        "id": "Jme8W2OgwbCS"
      }
    },
    {
      "cell_type": "code",
      "source": [
        "# Program to check if a number is even or odd and if it's divisible by 4\n",
        "\n",
        "# Input: Number entered by the user\n",
        "number = int(input(\"Enter a number: \"))\n",
        "\n",
        "# Check if the number is even or odd\n",
        "if number % 2 == 0:\n",
        "    print(f\"The number {number} is even.\")\n",
        "    # Further check if the number is divisible by 4\n",
        "    if number % 4 == 0:\n",
        "        print(f\"The number {number} is also divisible by 4.\")\n",
        "    else:\n",
        "        print(f\"The number {number} is not divisible by 4.\")\n",
        "else:\n",
        "    print(f\"The number {number} is odd.\")\n"
      ],
      "metadata": {
        "colab": {
          "base_uri": "https://localhost:8080/"
        },
        "id": "6YGmNqntwTH6",
        "outputId": "c7b3552f-f145-4e95-e128-3366f816bb4a"
      },
      "execution_count": 12,
      "outputs": [
        {
          "output_type": "stream",
          "name": "stdout",
          "text": [
            "Enter a number: 24\n",
            "The number 24 is even.\n",
            "The number 24 is also divisible by 4.\n"
          ]
        }
      ]
    },
    {
      "cell_type": "markdown",
      "source": [
        "# Task5: Write a program that checks the temperature and:\n",
        "\n",
        "Prints \"Cold\" if the temperature is below 15°C.\n",
        "\n",
        "If the temperature is 15°C or above, checks whether it is \"Warm\" (15°C to 25°C) or \"Hot\" (above 25°C)."
      ],
      "metadata": {
        "id": "_BjJKBZHwoDZ"
      }
    },
    {
      "cell_type": "code",
      "source": [
        "# Program to classify temperature\n",
        "\n",
        "# Input: Temperature entered by the user\n",
        "temperature = float(input(\"Enter the temperature in °C: \"))\n",
        "\n",
        "# Classify and print based on the temperature\n",
        "if temperature < 15:\n",
        "    print(\"Cold\")\n",
        "elif 15 <= temperature <= 25:\n",
        "    print(\"Warm\")\n",
        "else:\n",
        "    print(\"Hot\")\n"
      ],
      "metadata": {
        "colab": {
          "base_uri": "https://localhost:8080/"
        },
        "id": "_qHisH2UwTFS",
        "outputId": "a9f918a8-9d8e-4bd2-99ed-de57bb5894bd"
      },
      "execution_count": 13,
      "outputs": [
        {
          "output_type": "stream",
          "name": "stdout",
          "text": [
            "Enter the temperature in °C: 34\n",
            "Hot\n"
          ]
        }
      ]
    },
    {
      "cell_type": "markdown",
      "source": [
        "# Task6: Grading System\n",
        "Write a program that takes a student's score as input and prints the corresponding grade:\n",
        "\n",
        "Numerical                grade Letter  \t\t  Grade point\n",
        "\n",
        " \t80% or above             A+  \t        4.00\n",
        " \t75% to less than 80%  \tA \t          3.75\n",
        " \t70% to less than 75%  \tA- \t         \t3.50\n",
        " \t65% to less than 70%  \tB+ \t         \t3.25\n",
        " \t60% to less than 65%  \tB \t          3.00\n",
        " \t55% to less than 60%  \tB- \t         \t2.75\n",
        " \t50% to less than 55%  \tC+ \t          2.50\n",
        " \t45% to less than 50%  \tC \t          2.25\n",
        " \t40% to less than 45 % \tD            \t2.00\n",
        " \tLess than 40%           F            0.00\n"
      ],
      "metadata": {
        "id": "BLwtzOhEXZ5Z"
      }
    },
    {
      "cell_type": "markdown",
      "source": [
        "Grading System\n",
        "Write a program that takes a student's score as input and prints the corresponding grade:\n",
        "\n",
        "Numerical                grade Letter  \t\t  Grade point\n",
        "\n",
        " \t80% or above             A+  \t        4.00\n",
        " \t75% to less than 80%  \tA \t          3.75\n",
        " \t70% to less than 75%  \tA- \t         \t3.50\n",
        " \t65% to less than 70%  \tB+ \t         \t3.25\n",
        " \t60% to less than 65%  \tB \t          3.00\n",
        " \t55% to less than 60%  \tB- \t         \t2.75\n",
        " \t50% to less than 55%  \tC+ \t          2.50\n",
        " \t45% to less than 50%  \tC \t          2.25\n",
        " \t40% to less than 45 % \tD            \t2.00\n",
        " \tLess than 40%           F            0.00\n"
      ],
      "metadata": {
        "id": "DCo56iHNxc15"
      }
    },
    {
      "cell_type": "code",
      "source": [
        "# Program to calculate grade and grade point\n",
        "\n",
        "# Input: Student's score\n",
        "score = float(input(\"Enter the student's score (in percentage): \"))\n",
        "\n",
        "# Determine the grade and grade point\n",
        "if score >= 80:\n",
        "    grade = \"A+\"\n",
        "    grade_point = 4.00\n",
        "elif 75 <= score < 80:\n",
        "    grade = \"A\"\n",
        "    grade_point = 3.75\n",
        "elif 70 <= score < 75:\n",
        "    grade = \"A-\"\n",
        "    grade_point = 3.50\n",
        "elif 65 <= score < 70:\n",
        "    grade = \"B+\"\n",
        "    grade_point = 3.25\n",
        "elif 60 <= score < 65:\n",
        "    grade = \"B\"\n",
        "    grade_point = 3.00\n",
        "elif 55 <= score < 60:\n",
        "    grade = \"B-\"\n",
        "    grade_point = 2.75\n",
        "elif 50 <= score < 55:\n",
        "    grade = \"C+\"\n",
        "    grade_point = 2.50\n",
        "elif 45 <= score < 50:\n",
        "    grade = \"C\"\n",
        "    grade_point = 2.25\n",
        "elif 40 <= score < 45:\n",
        "    grade = \"D\"\n",
        "    grade_point = 2.00\n",
        "else:\n",
        "    grade = \"F\"\n",
        "    grade_point = 0.00\n",
        "\n",
        "# Output: Grade and grade point\n",
        "print(f\"Grade: {grade}, Grade Point: {grade_point:.2f}\")\n"
      ],
      "metadata": {
        "colab": {
          "base_uri": "https://localhost:8080/"
        },
        "id": "CuSIaYpPxj-g",
        "outputId": "b131a8a8-e056-4283-c858-d2648f7a49d8"
      },
      "execution_count": 14,
      "outputs": [
        {
          "output_type": "stream",
          "name": "stdout",
          "text": [
            "Enter the student's score (in percentage): 85\n",
            "Grade: A+, Grade Point: 4.00\n"
          ]
        }
      ]
    },
    {
      "cell_type": "markdown",
      "source": [
        "# Task7: You are designing a mechanical component, and you need to select the appropriate material based on temperature and stress conditions. The material selection depends on the following criteria:\n",
        "\n",
        "If the temperature is above 150°C, select steel if the stress is more than 500 MPa, otherwise select aluminum. If the temperature is 150°C or below, select brass if the stress is more than 200 MPa, otherwise select plastic."
      ],
      "metadata": {
        "id": "H5-hlW5Ax6ty"
      }
    },
    {
      "cell_type": "code",
      "source": [
        "# Inputs: material type and area (in cm²)\n",
        "material = input(\"Enter the material (steel, concrete, wood): \").lower()\n",
        "area = float(input(\"Enter the cross-sectional area (cm²): \"))\n",
        "\n",
        "if material == \"steel\":\n",
        "    if area > 500:\n",
        "        load_capacity = 3000  # in kN\n",
        "    else:\n",
        "        load_capacity = 2000  # in kN\n",
        "elif material == \"concrete\":\n",
        "    if area > 700:\n",
        "        load_capacity = 2000  # in kN\n",
        "    else:\n",
        "        load_capacity = 1500  # in kN\n",
        "elif material == \"wood\":\n",
        "    if area > 400:\n",
        "        load_capacity = 1000  # in kN\n",
        "    else:\n",
        "        load_capacity = 500   # in kN\n",
        "else:\n",
        "    load_capacity = 0\n",
        "    print(\"Invalid material type!\")\n",
        "\n",
        "if load_capacity != 0:\n",
        "    print(f\"The load-bearing capacity is {load_capacity} kN\")\n"
      ],
      "metadata": {
        "colab": {
          "base_uri": "https://localhost:8080/"
        },
        "id": "A62S53PTxj7x",
        "outputId": "93887965-9176-4254-df4a-168b6a458aa2"
      },
      "execution_count": 15,
      "outputs": [
        {
          "output_type": "stream",
          "name": "stdout",
          "text": [
            "Enter the material (steel, concrete, wood): steel\n",
            "Enter the cross-sectional area (cm²): 40\n",
            "The load-bearing capacity is 2000 kN\n"
          ]
        }
      ]
    },
    {
      "cell_type": "markdown",
      "source": [
        "# Task8: For an electric circuit, you need to classify the circuit type based on the voltage and current conditions:\n",
        "\n",
        "If the voltage is above 220V, the circuit is classified as high-voltage. If the current is greater than 15A, the circuit is high-power, otherwise it is medium-power. If the voltage is 220V or below, the circuit is classified as low-voltage. If the current is greater than 10A, the circuit is medium-power, otherwise it is low-power."
      ],
      "metadata": {
        "id": "ZJ06ltxWyHHa"
      }
    },
    {
      "cell_type": "code",
      "source": [
        "# Inputs: voltage (in V) and current (in A)\n",
        "voltage = float(input(\"Enter the voltage (V): \"))\n",
        "current = float(input(\"Enter the current (A): \"))\n",
        "\n",
        "if voltage > 220:\n",
        "    circuit_type = \"High-voltage\"\n",
        "    if current > 15:\n",
        "        power_type = \"High-power\"\n",
        "    else:\n",
        "        power_type = \"Medium-power\"\n",
        "else:\n",
        "    circuit_type = \"Low-voltage\"\n",
        "    if current > 10:\n",
        "        power_type = \"Medium-power\"\n",
        "    else:\n",
        "        power_type = \"Low-power\"\n",
        "\n",
        "print(f\"The circuit is classified as: {circuit_type} and {power_type}\")\n"
      ],
      "metadata": {
        "colab": {
          "base_uri": "https://localhost:8080/"
        },
        "id": "qjwlnI_mxj5g",
        "outputId": "798d8d79-665a-45a4-f6f2-e810553c7202"
      },
      "execution_count": 16,
      "outputs": [
        {
          "output_type": "stream",
          "name": "stdout",
          "text": [
            "Enter the voltage (V): 150\n",
            "Enter the current (A): 3\n",
            "The circuit is classified as: Low-voltage and Low-power\n"
          ]
        }
      ]
    },
    {
      "cell_type": "markdown",
      "source": [
        "# Task9: In a civil engineering project, you need to determine the load-bearing capacity of a beam based on its material and cross-sectional area:\n",
        "\n",
        "If the material is steel, the load capacity is 3000 kN for areas greater than 500 cm², otherwise it's 2000 kN. If the material is concrete, the load capacity is 2000 kN for areas greater than 700 cm², otherwise it's 1500 kN. If the material is wood, the load capacity is 1000 kN for areas greater than 400 cm², otherwise it's 500 kN."
      ],
      "metadata": {
        "id": "Wii2iK1MyQsp"
      }
    },
    {
      "cell_type": "code",
      "source": [
        "# Inputs: temperature (in °C) and stress (in MPa)\n",
        "temperature = float(input(\"Enter the temperature (°C): \"))\n",
        "stress = float(input(\"Enter the stress (MPa): \"))\n",
        "\n",
        "if temperature > 150:\n",
        "    if stress > 500:\n",
        "        material = \"Steel\"\n",
        "    else:\n",
        "        material = \"Aluminum\"\n",
        "else:\n",
        "    if stress > 200:\n",
        "        material = \"Brass\"\n",
        "    else:\n",
        "        material = \"Plastic\"\n",
        "\n",
        "print(f\"The selected material is: {material}\")"
      ],
      "metadata": {
        "colab": {
          "base_uri": "https://localhost:8080/"
        },
        "id": "4Y_HdaW2xj3J",
        "outputId": "f8c01467-e53a-449f-bb0d-bff7ce0cd7fc"
      },
      "execution_count": 17,
      "outputs": [
        {
          "output_type": "stream",
          "name": "stdout",
          "text": [
            "Enter the temperature (°C): 50\n",
            "Enter the stress (MPa): 70\n",
            "The selected material is: Plastic\n"
          ]
        }
      ]
    },
    {
      "cell_type": "markdown",
      "source": [
        "#  What are Loops?\n",
        "\n",
        "Loops allow repetitive tasks in programming. They help eliminate redundancy by automating repeated operations.\n",
        "\n",
        "Types of Loops:\n",
        "\n",
        "while loop: Repeats a block of code as long as the condition is true.\n",
        "while condition:"
      ],
      "metadata": {
        "id": "ByOzxqQfy6nb"
      }
    },
    {
      "cell_type": "code",
      "source": [
        "#Example of a simple while loop\n",
        "i = 1\n",
        "while i <= 5:\n",
        "    print(i)\n",
        "    i += 1 #But =+ is not valid syntax"
      ],
      "metadata": {
        "colab": {
          "base_uri": "https://localhost:8080/"
        },
        "id": "Rhmr6FYuxj0q",
        "outputId": "42686599-f667-4c0c-8557-1a9c0fab903d"
      },
      "execution_count": 18,
      "outputs": [
        {
          "output_type": "stream",
          "name": "stdout",
          "text": [
            "1\n",
            "2\n",
            "3\n",
            "4\n",
            "5\n"
          ]
        }
      ]
    },
    {
      "cell_type": "markdown",
      "source": [
        "# Loop Control with break and continue:\n",
        "\n",
        "break: Terminates the loop early (after fulfill the condition).\n",
        "continue: Skips the rest of the current iteration and proceeds to the next iteration."
      ],
      "metadata": {
        "id": "Zk2u3msizU4R"
      }
    },
    {
      "cell_type": "code",
      "source": [
        "#Example of break (Terminates the loop (after fulfill the condition)\n",
        "i = 1\n",
        "while i <= 5:\n",
        "    if i == 3:\n",
        "        break\n",
        "    print(i)\n",
        "    i += 1\n"
      ],
      "metadata": {
        "colab": {
          "base_uri": "https://localhost:8080/"
        },
        "id": "PBW8Q2mUxjx5",
        "outputId": "4e4f9b34-5a68-43ea-883f-2250a56b491c"
      },
      "execution_count": 19,
      "outputs": [
        {
          "output_type": "stream",
          "name": "stdout",
          "text": [
            "1\n",
            "2\n"
          ]
        }
      ]
    },
    {
      "cell_type": "code",
      "source": [
        "#Example of continue (Skips the rest of the current iteration and proceeds to the next iteration)\n",
        "i = 0\n",
        "while i < 7:\n",
        "    i += 1\n",
        "    if i == 3:\n",
        "        continue\n",
        "    print(i)\n"
      ],
      "metadata": {
        "colab": {
          "base_uri": "https://localhost:8080/"
        },
        "id": "gtj3FAqYxjvZ",
        "outputId": "ad467cb8-fea8-4ce9-887b-466981f3b003"
      },
      "execution_count": 20,
      "outputs": [
        {
          "output_type": "stream",
          "name": "stdout",
          "text": [
            "1\n",
            "2\n",
            "4\n",
            "5\n",
            "6\n",
            "7\n"
          ]
        }
      ]
    },
    {
      "cell_type": "code",
      "source": [
        "#Examples of for loop\n",
        "for i in range(1, 6): #Generates a sequence of numbers within a specified range.\n",
        "    print(i)\n",
        "print(\"another for loop\")\n",
        "for num in range(0, 10, 2):\n",
        "    print(num)\n",
        "print(\"another for loop\")\n",
        "for num in range(5):\n",
        "    print(num)\n",
        "print(\"another for loop\")\n",
        "for num in range(10, 0, -2):\n",
        "    print(num)"
      ],
      "metadata": {
        "colab": {
          "base_uri": "https://localhost:8080/"
        },
        "id": "G021AQTMxjrp",
        "outputId": "456d779c-202e-405f-e59b-561ec4e2f9c9"
      },
      "execution_count": 21,
      "outputs": [
        {
          "output_type": "stream",
          "name": "stdout",
          "text": [
            "1\n",
            "2\n",
            "3\n",
            "4\n",
            "5\n",
            "another for loop\n",
            "0\n",
            "2\n",
            "4\n",
            "6\n",
            "8\n",
            "another for loop\n",
            "0\n",
            "1\n",
            "2\n",
            "3\n",
            "4\n",
            "another for loop\n",
            "10\n",
            "8\n",
            "6\n",
            "4\n",
            "2\n"
          ]
        }
      ]
    },
    {
      "cell_type": "code",
      "source": [
        "#Example of loop in string\n",
        "for char in \"Python\":\n",
        "    print(char)\n"
      ],
      "metadata": {
        "colab": {
          "base_uri": "https://localhost:8080/"
        },
        "id": "ltTvbm23xjph",
        "outputId": "caf79e81-a2af-490f-be79-0bccfdc98eee"
      },
      "execution_count": 22,
      "outputs": [
        {
          "output_type": "stream",
          "name": "stdout",
          "text": [
            "P\n",
            "y\n",
            "t\n",
            "h\n",
            "o\n",
            "n\n"
          ]
        }
      ]
    },
    {
      "cell_type": "code",
      "source": [
        "#Example of loop using python list\n",
        "numbers = [1, 2, 3, 4, 5]\n",
        "for num in numbers:\n",
        "    print(num)\n"
      ],
      "metadata": {
        "colab": {
          "base_uri": "https://localhost:8080/"
        },
        "id": "w-_gq3CTxjnh",
        "outputId": "20103baa-25bf-4f72-f230-882d41f17d61"
      },
      "execution_count": 23,
      "outputs": [
        {
          "output_type": "stream",
          "name": "stdout",
          "text": [
            "1\n",
            "2\n",
            "3\n",
            "4\n",
            "5\n"
          ]
        }
      ]
    },
    {
      "cell_type": "code",
      "source": [
        "#Flow control with continue\n",
        "for num in range(1, 6):\n",
        "    if num == 3:\n",
        "        continue\n",
        "    print(num)"
      ],
      "metadata": {
        "colab": {
          "base_uri": "https://localhost:8080/"
        },
        "id": "tnu3j3QHzncR",
        "outputId": "d425be6f-dfa8-4dc6-eba6-b50792332a16"
      },
      "execution_count": 24,
      "outputs": [
        {
          "output_type": "stream",
          "name": "stdout",
          "text": [
            "1\n",
            "2\n",
            "4\n",
            "5\n"
          ]
        }
      ]
    },
    {
      "cell_type": "markdown",
      "source": [
        "# What are Nested Loops?\n",
        "\n",
        "Loops inside loops, useful for working with multi-dimensional data."
      ],
      "metadata": {
        "id": "Y9GMUA64zqKp"
      }
    },
    {
      "cell_type": "code",
      "source": [
        "#Example of a Nested for Loop\n",
        "for i in range(1, 4):\n",
        "    for j in range(1, 5):\n",
        "        print(f\"i={i}, j={j}\")\n"
      ],
      "metadata": {
        "colab": {
          "base_uri": "https://localhost:8080/"
        },
        "id": "0M7zmX4qznaj",
        "outputId": "98abda3f-8913-439f-9c8d-72866d52f4a8"
      },
      "execution_count": 25,
      "outputs": [
        {
          "output_type": "stream",
          "name": "stdout",
          "text": [
            "i=1, j=1\n",
            "i=1, j=2\n",
            "i=1, j=3\n",
            "i=1, j=4\n",
            "i=2, j=1\n",
            "i=2, j=2\n",
            "i=2, j=3\n",
            "i=2, j=4\n",
            "i=3, j=1\n",
            "i=3, j=2\n",
            "i=3, j=3\n",
            "i=3, j=4\n"
          ]
        }
      ]
    },
    {
      "cell_type": "code",
      "source": [
        "#Nested while Loop Example\n",
        "i = 1\n",
        "while i <= 3:\n",
        "    j = 1\n",
        "    while j <= 4:\n",
        "        print(f\"i={i}, j={j}\")\n",
        "        j += 1\n",
        "    i += 1\n"
      ],
      "metadata": {
        "colab": {
          "base_uri": "https://localhost:8080/"
        },
        "id": "Hdi5pyJWznYK",
        "outputId": "e59d040e-e8e3-405f-e520-68bf385aa2fd"
      },
      "execution_count": 26,
      "outputs": [
        {
          "output_type": "stream",
          "name": "stdout",
          "text": [
            "i=1, j=1\n",
            "i=1, j=2\n",
            "i=1, j=3\n",
            "i=1, j=4\n",
            "i=2, j=1\n",
            "i=2, j=2\n",
            "i=2, j=3\n",
            "i=2, j=4\n",
            "i=3, j=1\n",
            "i=3, j=2\n",
            "i=3, j=3\n",
            "i=3, j=4\n"
          ]
        }
      ]
    },
    {
      "cell_type": "code",
      "source": [
        "#Mixed Loops Example (For + While)\n",
        "for i in range(1, 4):\n",
        "    j = 1\n",
        "    while j <= 3:\n",
        "        print(f\"i={i}, j={j}\")\n",
        "        j += 1\n"
      ],
      "metadata": {
        "colab": {
          "base_uri": "https://localhost:8080/"
        },
        "id": "VvNZaa85znVZ",
        "outputId": "f3222cb4-4015-4605-93b8-ba3e974112a4"
      },
      "execution_count": 27,
      "outputs": [
        {
          "output_type": "stream",
          "name": "stdout",
          "text": [
            "i=1, j=1\n",
            "i=1, j=2\n",
            "i=1, j=3\n",
            "i=2, j=1\n",
            "i=2, j=2\n",
            "i=2, j=3\n",
            "i=3, j=1\n",
            "i=3, j=2\n",
            "i=3, j=3\n"
          ]
        }
      ]
    },
    {
      "cell_type": "code",
      "source": [
        "fname='Abdul'\n",
        "pos=3\n",
        "print(f\"{fname} Hasan secured position {pos}\")"
      ],
      "metadata": {
        "colab": {
          "base_uri": "https://localhost:8080/"
        },
        "id": "goy5O_qzxjlK",
        "outputId": "0b487c02-d2e1-4b54-9925-6dc77e8d2a2f"
      },
      "execution_count": 28,
      "outputs": [
        {
          "output_type": "stream",
          "name": "stdout",
          "text": [
            "Abdul Hasan secured position 3\n"
          ]
        }
      ]
    },
    {
      "cell_type": "markdown",
      "source": [
        "Analyze the failure of materials under varying stress conditions: Stress data from a series of experiments is provided. The program should classify the material as \"Safe\" (stress < 300), \"Warning\" (300 <= stress < 500), or \"Failure\" (stress>=500) based on the stress level."
      ],
      "metadata": {
        "id": "MeeWXgoWz4BJ"
      }
    },
    {
      "cell_type": "code",
      "source": [
        "stress_levels = [100, 220, 400, 550, 300]\n",
        "for stress in stress_levels:\n",
        "    if stress < 300:\n",
        "        print(\"Safe\")\n",
        "    elif 300 <= stress < 500:\n",
        "        print(\"Warning\")\n",
        "    else:\n",
        "        print(\"Failure\")\n"
      ],
      "metadata": {
        "colab": {
          "base_uri": "https://localhost:8080/"
        },
        "id": "ZmDz8rg1z3gS",
        "outputId": "7e9612fb-a2e1-4c55-b825-a0207695a576"
      },
      "execution_count": 29,
      "outputs": [
        {
          "output_type": "stream",
          "name": "stdout",
          "text": [
            "Safe\n",
            "Safe\n",
            "Warning\n",
            "Failure\n",
            "Warning\n"
          ]
        }
      ]
    },
    {
      "cell_type": "markdown",
      "source": [
        "Calculate the stability of a retaining wall under different load conditions. For each material used in the construction, calculate the stability factor ((force / moment) * 0.8) using different force and moment combinations."
      ],
      "metadata": {
        "id": "8iAHb_Zsz9Eh"
      }
    },
    {
      "cell_type": "code",
      "source": [
        "materials = [\"concrete\", \"steel\", \"wood\"]\n",
        "forces = [1000, 2000, 3000]  # in Newtons\n",
        "moments = [10, 20, 30]       # in kNm\n",
        "\n",
        "for material in materials:\n",
        "    for force in forces:\n",
        "        for moment in moments:\n",
        "            stability_factor = (force / moment) * 0.8\n",
        "            print(f\"Material: {material}, Force: {force}, Moment: {moment}, Stability Factor: {stability_factor:.2f}\")\n"
      ],
      "metadata": {
        "colab": {
          "base_uri": "https://localhost:8080/"
        },
        "id": "H9RFmT8Pz3eA",
        "outputId": "73ef25e1-d4eb-41b0-c16a-597c10298036"
      },
      "execution_count": 30,
      "outputs": [
        {
          "output_type": "stream",
          "name": "stdout",
          "text": [
            "Material: concrete, Force: 1000, Moment: 10, Stability Factor: 80.00\n",
            "Material: concrete, Force: 1000, Moment: 20, Stability Factor: 40.00\n",
            "Material: concrete, Force: 1000, Moment: 30, Stability Factor: 26.67\n",
            "Material: concrete, Force: 2000, Moment: 10, Stability Factor: 160.00\n",
            "Material: concrete, Force: 2000, Moment: 20, Stability Factor: 80.00\n",
            "Material: concrete, Force: 2000, Moment: 30, Stability Factor: 53.33\n",
            "Material: concrete, Force: 3000, Moment: 10, Stability Factor: 240.00\n",
            "Material: concrete, Force: 3000, Moment: 20, Stability Factor: 120.00\n",
            "Material: concrete, Force: 3000, Moment: 30, Stability Factor: 80.00\n",
            "Material: steel, Force: 1000, Moment: 10, Stability Factor: 80.00\n",
            "Material: steel, Force: 1000, Moment: 20, Stability Factor: 40.00\n",
            "Material: steel, Force: 1000, Moment: 30, Stability Factor: 26.67\n",
            "Material: steel, Force: 2000, Moment: 10, Stability Factor: 160.00\n",
            "Material: steel, Force: 2000, Moment: 20, Stability Factor: 80.00\n",
            "Material: steel, Force: 2000, Moment: 30, Stability Factor: 53.33\n",
            "Material: steel, Force: 3000, Moment: 10, Stability Factor: 240.00\n",
            "Material: steel, Force: 3000, Moment: 20, Stability Factor: 120.00\n",
            "Material: steel, Force: 3000, Moment: 30, Stability Factor: 80.00\n",
            "Material: wood, Force: 1000, Moment: 10, Stability Factor: 80.00\n",
            "Material: wood, Force: 1000, Moment: 20, Stability Factor: 40.00\n",
            "Material: wood, Force: 1000, Moment: 30, Stability Factor: 26.67\n",
            "Material: wood, Force: 2000, Moment: 10, Stability Factor: 160.00\n",
            "Material: wood, Force: 2000, Moment: 20, Stability Factor: 80.00\n",
            "Material: wood, Force: 2000, Moment: 30, Stability Factor: 53.33\n",
            "Material: wood, Force: 3000, Moment: 10, Stability Factor: 240.00\n",
            "Material: wood, Force: 3000, Moment: 20, Stability Factor: 120.00\n",
            "Material: wood, Force: 3000, Moment: 30, Stability Factor: 80.00\n"
          ]
        }
      ]
    },
    {
      "cell_type": "markdown",
      "source": [
        "# Why Advanced Loops?\n",
        "\n",
        "Advanced loops in Python offer a more powerful way to iterate over complex data structures efficiently. They allow concise, readable code that can handle large datasets, multi-dimensional arrays, and computational-heavy tasks. Types of Advanced Loops:\n",
        "\n",
        "* List comprehensions\n",
        "* Generator expressions\n",
        "* zip() and enumerate()\n",
        "* itertools module (may be later)\n",
        "\n",
        "List Comprehensions List comprehensions are a concise way to create lists based on existing lists. Instead of using a for loop to build a list, we can do it in a single line.\n",
        "\n",
        "[expression for item in iterable if condition]"
      ],
      "metadata": {
        "id": "GmmVu_tg0Cbj"
      }
    },
    {
      "cell_type": "code",
      "source": [
        "#Example of list comprehension\n",
        "squares=[num for num in range(0,10,2)]\n",
        "print(squares)"
      ],
      "metadata": {
        "colab": {
          "base_uri": "https://localhost:8080/"
        },
        "id": "KZIyZV_c0BOg",
        "outputId": "495bb2e7-9058-42bd-e3b3-a797fa90e656"
      },
      "execution_count": 31,
      "outputs": [
        {
          "output_type": "stream",
          "name": "stdout",
          "text": [
            "[0, 2, 4, 6, 8]\n"
          ]
        }
      ]
    },
    {
      "cell_type": "code",
      "source": [
        "#Example of Generator Expressions\n",
        "gen=(num for num in range(0,10,2)) #This gen is an object\n",
        "print(gen)\n",
        "for i in gen: #Here generate one item in one iteration\n",
        "  print(i)"
      ],
      "metadata": {
        "colab": {
          "base_uri": "https://localhost:8080/"
        },
        "id": "xXwMRtN80BMR",
        "outputId": "190823d5-cf3d-4260-caf7-da104f728402"
      },
      "execution_count": 32,
      "outputs": [
        {
          "output_type": "stream",
          "name": "stdout",
          "text": [
            "<generator object <genexpr> at 0x794028f8b530>\n",
            "0\n",
            "2\n",
            "4\n",
            "6\n",
            "8\n"
          ]
        }
      ]
    },
    {
      "cell_type": "code",
      "source": [
        "#Nested list comprehension: we can also nest list comprehensions to handle multi-dimensional lists or matrices.\n",
        "matrix=[[i*j for i in range(1,6)] for j in range(2,5)]\n",
        "print(matrix)"
      ],
      "metadata": {
        "colab": {
          "base_uri": "https://localhost:8080/"
        },
        "id": "JPVOeSiI0BJ5",
        "outputId": "ac5afe9d-4567-418c-ead4-dccf03e0841d"
      },
      "execution_count": 33,
      "outputs": [
        {
          "output_type": "stream",
          "name": "stdout",
          "text": [
            "[[2, 4, 6, 8, 10], [3, 6, 9, 12, 15], [4, 8, 12, 16, 20]]\n"
          ]
        }
      ]
    },
    {
      "cell_type": "markdown",
      "source": [
        "Generator Expressions: Similar to list comprehensions but use parentheses () instead of square brackets []. Generators are lazy and produce items one at a time, making them more memory efficient, especially when dealing with large datasets."
      ],
      "metadata": {
        "id": "eg7dAFxo0gHp"
      }
    },
    {
      "cell_type": "markdown",
      "source": [
        "Using zip() for Parallel Iteration\n",
        "\n",
        "The zip() function allows you to iterate over multiple sequences in parallel."
      ],
      "metadata": {
        "id": "m7ZdXcfV0lHh"
      }
    },
    {
      "cell_type": "code",
      "source": [
        "#Example of zip\n",
        "list1=[1,3,5]\n",
        "list_name=[\"Abdul\", \"Basit\", \"Choudry\"]\n",
        "for seq, name in zip(list1,list_name):\n",
        "  print(f\" for {seq}, name is {name}\")"
      ],
      "metadata": {
        "colab": {
          "base_uri": "https://localhost:8080/"
        },
        "id": "eLHSxOC-0cfJ",
        "outputId": "41f241f1-0c0f-482f-ffcb-8e9ad36ac259"
      },
      "execution_count": 34,
      "outputs": [
        {
          "output_type": "stream",
          "name": "stdout",
          "text": [
            " for 1, name is Abdul\n",
            " for 3, name is Basit\n",
            " for 5, name is Choudry\n"
          ]
        }
      ]
    },
    {
      "cell_type": "markdown",
      "source": [
        "Engineering Application:\n",
        "\n",
        "Suppose we have two lists: one with beam dimensions and the other with the corresponding forces. We have to calculate stress (force/dimension)"
      ],
      "metadata": {
        "id": "JJ3EB6iX0oOp"
      }
    },
    {
      "cell_type": "code",
      "source": [
        "dimensions = [0.3, 0.4, 0.5]  # width in meters\n",
        "forces = [1000, 1500, 2000]   # force in Newtons\n",
        "\n",
        "for dim, force in zip(dimensions, forces):\n",
        "    stress = force / dim\n",
        "    print(f\"Beam width: {dim}m, Stress: {stress} N/m²\")\n"
      ],
      "metadata": {
        "colab": {
          "base_uri": "https://localhost:8080/"
        },
        "id": "QgU6J_8m0ccl",
        "outputId": "f024b297-9a05-4063-8ad2-c4c67ad95e77"
      },
      "execution_count": 35,
      "outputs": [
        {
          "output_type": "stream",
          "name": "stdout",
          "text": [
            "Beam width: 0.3m, Stress: 3333.3333333333335 N/m²\n",
            "Beam width: 0.4m, Stress: 3750.0 N/m²\n",
            "Beam width: 0.5m, Stress: 4000.0 N/m²\n"
          ]
        }
      ]
    },
    {
      "cell_type": "code",
      "source": [
        "# prompt: provide me an example of zip utilizing three lists as argument\n",
        "\n",
        "list1 = [1, 2, 3]\n",
        "list2 = ['a', 'b', 'c']\n",
        "list3 = [1.1, 2.2, 3.3]\n",
        "\n",
        "for i, j, k in zip(list1, list2, list3):\n",
        "    print(i, j, k)"
      ],
      "metadata": {
        "colab": {
          "base_uri": "https://localhost:8080/"
        },
        "id": "xncFBxko0cah",
        "outputId": "c66a04f0-d51f-4398-c3bd-fae3cbc0219c"
      },
      "execution_count": 36,
      "outputs": [
        {
          "output_type": "stream",
          "name": "stdout",
          "text": [
            "1 a 1.1\n",
            "2 b 2.2\n",
            "3 c 3.3\n"
          ]
        }
      ]
    },
    {
      "cell_type": "markdown",
      "source": [
        "Using enumerate() for Index Tracking\n",
        "\n",
        "enumerate() allows you to loop over a list and keep track of the index of the current item."
      ],
      "metadata": {
        "id": "mP0_Var907hh"
      }
    },
    {
      "cell_type": "code",
      "source": [
        "#Example of enumerate\n",
        "list_name=[\"Abdul\", \"Basit\", \"Choudry\"]\n",
        "for indx, name in enumerate(list_name):\n",
        "  print (f\"Person index is {indx} and name is {name}\")"
      ],
      "metadata": {
        "colab": {
          "base_uri": "https://localhost:8080/"
        },
        "id": "T_fgZKrI0cYJ",
        "outputId": "817876b5-00f4-4d33-b830-054347117c5f"
      },
      "execution_count": 37,
      "outputs": [
        {
          "output_type": "stream",
          "name": "stdout",
          "text": [
            "Person index is 0 and name is Abdul\n",
            "Person index is 1 and name is Basit\n",
            "Person index is 2 and name is Choudry\n"
          ]
        }
      ]
    },
    {
      "cell_type": "code",
      "source": [
        "#Compute and analyze the thermal expansion of different materials over a temperature\n",
        "materials = [\"steel\", \"aluminum\", \"copper\"]\n",
        "coefficients = [12e-6, 23e-6, 17e-6]  # Coefficients of thermal expansion (per °C)\n",
        "initial_length = [1000, 1500, 1200]  # Length in mm\n",
        "temp_change = 100  # Temperature change in °C\n",
        "\n",
        "expansions = [(length * coeff * temp_change) for length, coeff in zip(initial_length, coefficients)]\n",
        "print(expansions)"
      ],
      "metadata": {
        "colab": {
          "base_uri": "https://localhost:8080/"
        },
        "id": "gd60ak6I0BHR",
        "outputId": "d26583da-fba7-4d22-fbb4-6a838188500b"
      },
      "execution_count": 39,
      "outputs": [
        {
          "output_type": "stream",
          "name": "stdout",
          "text": [
            "[1.2, 3.45, 2.04]\n"
          ]
        }
      ]
    },
    {
      "cell_type": "code",
      "source": [
        "#Calculate water flow rates through multiple channels, each with different dimensions, using nested loops.\n",
        "channels = [(1, 2), (1.5, 2.5), (2, 3)]  # (width, height) in meters\n",
        "#channel=[1,3,5,7]\n",
        "flow_rates = []\n",
        "\n",
        "for width, height in channels:\n",
        "  print (f\"width is {width} and height is {height}\")\n",
        "  #flow_rate = width * height * 1.5  # Simplified formula for water flow\n",
        "  #flow_rates.append(flow_rate)\n",
        "\n",
        "#print(flow_rates) #(Flow rates in m³/s)\n"
      ],
      "metadata": {
        "colab": {
          "base_uri": "https://localhost:8080/"
        },
        "id": "CmUCXqXF1OR4",
        "outputId": "0876d229-ef3e-4f07-db3f-54aac43a357a"
      },
      "execution_count": 40,
      "outputs": [
        {
          "output_type": "stream",
          "name": "stdout",
          "text": [
            "width is 1 and height is 2\n",
            "width is 1.5 and height is 2.5\n",
            "width is 2 and height is 3\n"
          ]
        }
      ]
    }
  ]
}