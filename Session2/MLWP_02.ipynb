{
  "nbformat": 4,
  "nbformat_minor": 0,
  "metadata": {
    "colab": {
      "provenance": []
    },
    "kernelspec": {
      "name": "python3",
      "display_name": "Python 3"
    },
    "language_info": {
      "name": "python"
    }
  },
  "cells": [
    {
      "cell_type": "markdown",
      "source": [
        "By the end of this lecture, students will:\n",
        "\n",
        "*   Understand and use conditional statement,while loops, for loops, and nested loops\n",
        "*   Apply loop to solve practical problems in  Engineering.\n",
        "*   Understand and apply advanced loop\n",
        "\n",
        "\n",
        "\n",
        "\n",
        "\n"
      ],
      "metadata": {
        "id": "1HTxxbUMmtqT"
      }
    },
    {
      "cell_type": "markdown",
      "source": [
        "What are Conditional Statements?\n",
        "Conditional statements in Python allow you to control the flow of your program by executing certain blocks of code only if a specific condition is met. This is essential for decision-making in programs.\n"
      ],
      "metadata": {
        "id": "nFHIR64oTXno"
      }
    },
    {
      "cell_type": "markdown",
      "source": [
        "Syntax of Conditional Statements:\n",
        "if condition:\n",
        "    # block of code to execute if condition is True\n",
        "\n",
        "elif another_condition:\n",
        "    # block of code to execute if another_condition is True\n",
        "\n",
        "else:\n",
        "    # block of code to execute if no condition is True\n"
      ],
      "metadata": {
        "id": "jphjYW3lThtq"
      }
    },
    {
      "cell_type": "code",
      "source": [
        "#Basic Conditional Statements:\n",
        "#Simple if Statement:\n",
        "#The if statement executes a block of code if the condition is True.\n",
        "x = 10\n",
        "if x > 5:\n",
        "    print(\"x is greater than 5\")\n",
        "    print(\"another line\")\n"
      ],
      "metadata": {
        "colab": {
          "base_uri": "https://localhost:8080/"
        },
        "id": "OhFCf2-FTxDW",
        "outputId": "886ca545-2c06-4768-b921-f9aa24ace735"
      },
      "execution_count": null,
      "outputs": [
        {
          "output_type": "stream",
          "name": "stdout",
          "text": [
            "x is greater than 5\n"
          ]
        }
      ]
    },
    {
      "cell_type": "code",
      "source": [
        "#if-else Statement:\n",
        "#An else clause can be added to execute code when the if condition is False.\n",
        "x = 3\n",
        "if x > 5:\n",
        "    print(\"x is greater than 5\")\n",
        "else:\n",
        "    print(\"x is less than or equal to 5\")\n"
      ],
      "metadata": {
        "id": "kr9mQfTLUIdn",
        "colab": {
          "base_uri": "https://localhost:8080/"
        },
        "outputId": "2889a4e5-4891-4f19-a658-67d7b4714d0a"
      },
      "execution_count": null,
      "outputs": [
        {
          "output_type": "stream",
          "name": "stdout",
          "text": [
            "x is less than or equal to 5\n"
          ]
        }
      ]
    },
    {
      "cell_type": "code",
      "source": [
        "#if-elif-else Ladder:\n",
        "#Multiple conditions can be evaluated using elif (short for \"else if\").\n",
        "x = 7\n",
        "if x > 10:\n",
        "    print(\"x is greater than 10\")\n",
        "elif x > 5:\n",
        "    print(\"x is greater than 5 but less than or equal to 10\")\n",
        "else:\n",
        "    print(\"x is less than or equal to 5\")\n"
      ],
      "metadata": {
        "id": "QIYC0XAoUQFm"
      },
      "execution_count": null,
      "outputs": []
    },
    {
      "cell_type": "markdown",
      "source": [],
      "metadata": {
        "id": "aNJOQ1fPPE_S"
      }
    },
    {
      "cell_type": "markdown",
      "source": [
        "Write a program that checks the age entered by the user and prints \"Child\", \"Teenager\", \"Adult\" based on the following:\n",
        "\n",
        "Child: age < 13\n",
        "\n",
        "Teenager: 13 ≤ age < 18\n",
        "\n",
        "Adult: age ≥ 18\n"
      ],
      "metadata": {
        "id": "mpRqfx5QUtuc"
      }
    },
    {
      "cell_type": "markdown",
      "source": [
        "Review of Comparison and Logical Operators\n",
        "\n",
        "Comparison Operators:\n",
        "\n",
        "These operators are used to compare two values.\n",
        "\n",
        "==: Equal to\n",
        "\n",
        "!=: Not equal to\n",
        "\n",
        "\">\": Greater than\n",
        "\n",
        "\"<\": Less than\n",
        "\n",
        "\">=\": Greater than or equal to\n",
        "\n",
        "\"<=\": Less than or equal to\n"
      ],
      "metadata": {
        "id": "OMta6NWoVEjB"
      }
    },
    {
      "cell_type": "code",
      "source": [
        "#Example:\n",
        "x = 10\n",
        "print(x == 10)  # Output: True\n",
        "print(x > 5)    # Output: True\n",
        "print(x <= 3)   # Output: False\n"
      ],
      "metadata": {
        "id": "VhuEs64NVgPZ"
      },
      "execution_count": null,
      "outputs": []
    },
    {
      "cell_type": "markdown",
      "source": [
        "Logical Operators:\n",
        "\n",
        "Logical operators are used to combine multiple conditions.\n",
        "\n",
        "and: Returns True if both conditions are true.\n",
        "\n",
        "or: Returns True if at least one condition is true.\n",
        "\n",
        "not: Inverts the result of the condition.\n"
      ],
      "metadata": {
        "id": "LDMfFY3rVms8"
      }
    },
    {
      "cell_type": "code",
      "source": [
        "# Input: Age and income from the user\n",
        "age = int(input(\"Enter your age: \"))\n",
        "income = int(input(\"Enter your monthly income in taka: \"))\n",
        "\n",
        "# Example of 'and' operator\n",
        "if age >= 18 and income >= 30000:\n",
        "    print(\"You are eligible for a loan.\")\n",
        "else:\n",
        "    print(\"You are not eligible for a loan.\")\n",
        "\n",
        "# Example of 'or' operator\n",
        "if age < 18 or income < 30000:\n",
        "    print(\"You need either to be at least 18 years old or have a higher income to apply for a loan.\")\n",
        "else:\n",
        "    print(\"You meet the basic requirements for a loan.\")\n"
      ],
      "metadata": {
        "id": "XyC0uky_VzYf",
        "colab": {
          "base_uri": "https://localhost:8080/"
        },
        "outputId": "104deb2a-a188-4942-c6a5-2ccca5a994a5"
      },
      "execution_count": null,
      "outputs": [
        {
          "output_type": "stream",
          "name": "stdout",
          "text": [
            "Enter your age: 19\n",
            "Enter your monthly income in taka: 34000\n",
            "You are eligible for a loan.\n",
            "You meet the basic requirements for a loan.\n"
          ]
        }
      ]
    },
    {
      "cell_type": "code",
      "source": [
        "# Example of 'not' operator\n",
        "is_student = input(\"Are you a student? (yes/no): \").lower()\n",
        "print(is_student)\n",
        "if not is_student == \"yes\":\n",
        "    print(\"You are not a student.\")\n",
        "else:\n",
        "    print(\"You are a student.\")\n"
      ],
      "metadata": {
        "id": "Vn9csOwpWKJX",
        "colab": {
          "base_uri": "https://localhost:8080/"
        },
        "outputId": "614a2c84-e469-4b38-ac13-d79804bb5a61"
      },
      "execution_count": null,
      "outputs": [
        {
          "output_type": "stream",
          "name": "stdout",
          "text": [
            "Are you a student? (yes/no): Yes\n",
            "yes\n",
            "You are a student.\n"
          ]
        }
      ]
    },
    {
      "cell_type": "markdown",
      "source": [
        "Exercise : Write a program to check if a number is between 10 and 50.\n",
        "\n",
        "Exercise : Write a program that checks if the entered number is divisible by both 3 and 5.\n"
      ],
      "metadata": {
        "id": "F-Rbaal5WXDs"
      }
    },
    {
      "cell_type": "markdown",
      "source": [
        "What are Nested Conditional Statements?\n",
        "\n",
        "Nested conditional statements are if statements placed inside another if statement. This allows for checking more complex conditions.\n"
      ],
      "metadata": {
        "id": "mHAyqI1OWha6"
      }
    },
    {
      "cell_type": "code",
      "source": [
        "#Writing Nested if Statements:\n",
        "#We can nest one if statement inside another to check for multiple conditions.\n",
        "x = 15\n",
        "if x > 10:\n",
        "    print(\"x is greater than 10\")\n",
        "    if x < 20:\n",
        "        print(\"x is less than 20\")\n"
      ],
      "metadata": {
        "id": "KE0uzTzNWryh"
      },
      "execution_count": null,
      "outputs": []
    },
    {
      "cell_type": "code",
      "source": [
        "#We can nest an entire if-elif-else ladder inside another if statement.\n",
        "\n",
        "x = 25\n",
        "if x > 10:\n",
        "    if x < 20:\n",
        "        print(\"x is between 10 and 20\")\n",
        "    else:\n",
        "        print(\"x is greater than 20\")\n",
        "else:\n",
        "    print(\"x is less than or equal to 10\")\n"
      ],
      "metadata": {
        "id": "6dIf5bToW14F"
      },
      "execution_count": null,
      "outputs": []
    },
    {
      "cell_type": "markdown",
      "source": [
        "Exercise : Write a program to check if a number is even or odd, and if it is even, also check if it is divisible by 4.\n",
        "\n",
        "Exercise : Write a program that checks the temperature and:\n",
        "\n",
        "Prints \"Cold\" if the temperature is below 15°C.\n",
        "\n",
        "If the temperature is 15°C or above, checks whether it is \"Warm\" (15°C to 25°C) or \"Hot\" (above 25°C).\n"
      ],
      "metadata": {
        "id": "R8Y2wWafXFjF"
      }
    },
    {
      "cell_type": "markdown",
      "source": [
        "Grading System\n",
        "Write a program that takes a student's score as input and prints the corresponding grade:\n",
        "\n",
        "Numerical                grade Letter  \t\t  Grade point\n",
        "\n",
        " \t80% or above             A+  \t        4.00\n",
        " \t75% to less than 80%  \tA \t          3.75\n",
        " \t70% to less than 75%  \tA- \t         \t3.50\n",
        " \t65% to less than 70%  \tB+ \t         \t3.25\n",
        " \t60% to less than 65%  \tB \t          3.00\n",
        " \t55% to less than 60%  \tB- \t         \t2.75\n",
        " \t50% to less than 55%  \tC+ \t          2.50\n",
        " \t45% to less than 50%  \tC \t          2.25\n",
        " \t40% to less than 45 % \tD            \t2.00\n",
        " \tLess than 40%           F            0.00\n"
      ],
      "metadata": {
        "id": "BLwtzOhEXZ5Z"
      }
    },
    {
      "cell_type": "code",
      "source": [
        "score = int(input(\"Enter your score: \"))\n",
        "if score >= 80:\n",
        "    print(\"Grade: A+\")\n",
        "elif score >= 75:\n",
        "    print(\"Grade: A\")\n",
        "elif score >= 70:\n",
        "    print(\"Grade: A-\")\n",
        "elif score >= 65:\n",
        "    print(\"Grade: B+\")\n",
        "elif score >= 60:\n",
        "    print(\"Grade: B\")\n",
        "elif score >= 55:\n",
        "    print(\"Grade: B-\")\n",
        "elif score >= 50:\n",
        "    print(\"Grade: C+\")\n",
        "elif score >= 45:\n",
        "    print(\"Grade: C\")\n",
        "elif score >= 40:\n",
        "    print(\"Grade: D\")\n",
        "else:\n",
        "    print(\"Grade: F\")"
      ],
      "metadata": {
        "id": "kdape-6VYWpi"
      },
      "execution_count": null,
      "outputs": []
    },
    {
      "cell_type": "markdown",
      "source": [
        "You are designing a mechanical component, and you need to select the appropriate material based on temperature and stress conditions. The material selection depends on the following criteria:\n",
        "\n",
        "If the temperature is above 150°C, select steel if the stress is more than 500 MPa, otherwise select aluminum. If the temperature is 150°C or below, select brass if the stress is more than 200 MPa, otherwise select plastic."
      ],
      "metadata": {
        "id": "nwhgnqq5wSvR"
      }
    },
    {
      "cell_type": "code",
      "source": [
        "# Inputs: material type and area (in cm²)\n",
        "material = input(\"Enter the material (steel, concrete, wood): \").lower()\n",
        "area = float(input(\"Enter the cross-sectional area (cm²): \"))\n",
        "\n",
        "if material == \"steel\":\n",
        "    if area > 500:\n",
        "        load_capacity = 3000  # in kN\n",
        "    else:\n",
        "        load_capacity = 2000  # in kN\n",
        "elif material == \"concrete\":\n",
        "    if area > 700:\n",
        "        load_capacity = 2000  # in kN\n",
        "    else:\n",
        "        load_capacity = 1500  # in kN\n",
        "elif material == \"wood\":\n",
        "    if area > 400:\n",
        "        load_capacity = 1000  # in kN\n",
        "    else:\n",
        "        load_capacity = 500   # in kN\n",
        "else:\n",
        "    load_capacity = 0\n",
        "    print(\"Invalid material type!\")\n",
        "\n",
        "if load_capacity != 0:\n",
        "    print(f\"The load-bearing capacity is {load_capacity} kN\")\n"
      ],
      "metadata": {
        "colab": {
          "base_uri": "https://localhost:8080/"
        },
        "id": "CTttrOxA31kz",
        "outputId": "b4ff57e0-6008-4083-e0e8-e0b56d3423ce"
      },
      "execution_count": null,
      "outputs": [
        {
          "output_type": "stream",
          "name": "stdout",
          "text": [
            "Enter the material (steel, concrete, wood): pp\n",
            "Enter the cross-sectional area (cm²): 340\n",
            "Invalid material type!\n"
          ]
        }
      ]
    },
    {
      "cell_type": "markdown",
      "source": [
        "For an electric circuit, you need to classify the circuit type based on the voltage and current conditions:\n",
        "\n",
        "If the voltage is above 220V, the circuit is classified as high-voltage. If the current is greater than 15A, the circuit is high-power, otherwise it is medium-power.\n",
        "If the voltage is 220V or below, the circuit is classified as low-voltage. If the current is greater than 10A, the circuit is medium-power, otherwise it is low-power."
      ],
      "metadata": {
        "id": "Rr7hh8lJ4JLJ"
      }
    },
    {
      "cell_type": "markdown",
      "source": [],
      "metadata": {
        "id": "5X090KdXwdEH"
      }
    },
    {
      "cell_type": "code",
      "source": [
        "# Inputs: voltage (in V) and current (in A)\n",
        "voltage = float(input(\"Enter the voltage (V): \"))\n",
        "current = float(input(\"Enter the current (A): \"))\n",
        "\n",
        "if voltage > 220:\n",
        "    circuit_type = \"High-voltage\"\n",
        "    if current > 15:\n",
        "        power_type = \"High-power\"\n",
        "    else:\n",
        "        power_type = \"Medium-power\"\n",
        "else:\n",
        "    circuit_type = \"Low-voltage\"\n",
        "    if current > 10:\n",
        "        power_type = \"Medium-power\"\n",
        "    else:\n",
        "        power_type = \"Low-power\"\n",
        "\n",
        "print(f\"The circuit is classified as: {circuit_type} and {power_type}\")\n"
      ],
      "metadata": {
        "colab": {
          "base_uri": "https://localhost:8080/"
        },
        "id": "6shAx42Q4OT6",
        "outputId": "f7935041-8df2-4242-d984-0a92e38b9230"
      },
      "execution_count": null,
      "outputs": [
        {
          "output_type": "stream",
          "name": "stdout",
          "text": [
            "Enter the voltage (V): 150\n",
            "Enter the current (A): 3\n",
            "The circuit is classified as: Low-voltage and Low-power\n"
          ]
        }
      ]
    },
    {
      "cell_type": "markdown",
      "source": [
        "In a civil engineering project, you need to determine the load-bearing capacity of a beam based on its material and cross-sectional area:\n",
        "\n",
        "If the material is steel, the load capacity is 3000 kN for areas greater than 500 cm², otherwise it's 2000 kN.\n",
        "If the material is concrete, the load capacity is 2000 kN for areas greater than 700 cm², otherwise it's 1500 kN.\n",
        "If the material is wood, the load capacity is 1000 kN for areas greater than 400 cm², otherwise it's 500 kN."
      ],
      "metadata": {
        "id": "wRFBKply3zs7"
      }
    },
    {
      "cell_type": "code",
      "source": [
        "# Inputs: temperature (in °C) and stress (in MPa)\n",
        "temperature = float(input(\"Enter the temperature (°C): \"))\n",
        "stress = float(input(\"Enter the stress (MPa): \"))\n",
        "\n",
        "if temperature > 150:\n",
        "    if stress > 500:\n",
        "        material = \"Steel\"\n",
        "    else:\n",
        "        material = \"Aluminum\"\n",
        "else:\n",
        "    if stress > 200:\n",
        "        material = \"Brass\"\n",
        "    else:\n",
        "        material = \"Plastic\"\n",
        "\n",
        "print(f\"The selected material is: {material}\")"
      ],
      "metadata": {
        "id": "zVv_xQ8SwXYr"
      },
      "execution_count": null,
      "outputs": []
    },
    {
      "cell_type": "markdown",
      "source": [
        "What are Loops?\n",
        "\n",
        "Loops allow repetitive tasks in programming. They help eliminate redundancy by automating repeated operations.\n"
      ],
      "metadata": {
        "id": "mK5LIa3IneOR"
      }
    },
    {
      "cell_type": "markdown",
      "source": [
        "Types of Loops:\n",
        "*   while loop: Repeats a block of code as long as the condition is true.\n",
        "\n",
        "while condition:\n",
        "    # Block of code to be executed repeatedly\n",
        "\n",
        "*   for loop: Iterates over a sequence or range of values.\n",
        "\n",
        "for variable in sequence:\n",
        "    # Block of code\n",
        "\n",
        "\n",
        "\n"
      ],
      "metadata": {
        "id": "F9h4G_u1njFv"
      }
    },
    {
      "cell_type": "code",
      "source": [
        "#Example of a simple while loop\n",
        "i = 1\n",
        "while i <= 5:\n",
        "    print(i)\n",
        "    i += 1 #But =+ is not valid syntax\n",
        "\n"
      ],
      "metadata": {
        "colab": {
          "base_uri": "https://localhost:8080/"
        },
        "id": "O4lGD6d2oVQE",
        "outputId": "6bf728e1-b734-4106-eefe-473851feb154"
      },
      "execution_count": null,
      "outputs": [
        {
          "output_type": "stream",
          "name": "stdout",
          "text": [
            "1\n",
            "2\n",
            "3\n",
            "4\n",
            "5\n"
          ]
        }
      ]
    },
    {
      "cell_type": "markdown",
      "source": [
        "Loop Control with break and continue:\n",
        "*   break: Terminates the loop early (after fulfill the condition).\n",
        "*   continue: Skips the rest of the current iteration and proceeds to the next iteration.\n",
        "\n",
        "\n",
        "\n",
        "\n"
      ],
      "metadata": {
        "id": "k0klnqh_qxsk"
      }
    },
    {
      "cell_type": "code",
      "source": [
        "#Example of break (Terminates the loop (after fulfill the condition)\n",
        "i = 1\n",
        "while i <= 5:\n",
        "    if i == 3:\n",
        "        break\n",
        "    print(i)\n",
        "    i += 1\n"
      ],
      "metadata": {
        "colab": {
          "base_uri": "https://localhost:8080/"
        },
        "id": "KuniHoa8qwnP",
        "outputId": "dacfdfaa-20d9-42a8-9f2a-b5fc7f62dc32"
      },
      "execution_count": null,
      "outputs": [
        {
          "output_type": "stream",
          "name": "stdout",
          "text": [
            "1\n",
            "2\n"
          ]
        }
      ]
    },
    {
      "cell_type": "code",
      "source": [
        "#Example of continue (Skips the rest of the current iteration and proceeds to the next iteration)\n",
        "i = 0\n",
        "while i < 7:\n",
        "    i += 1\n",
        "    if i == 3:\n",
        "        continue\n",
        "    print(i)\n"
      ],
      "metadata": {
        "colab": {
          "base_uri": "https://localhost:8080/"
        },
        "id": "xUMF31DrrhsM",
        "outputId": "6c14d046-43c6-428d-b960-a14fde4b5c87"
      },
      "execution_count": null,
      "outputs": [
        {
          "output_type": "stream",
          "name": "stdout",
          "text": [
            "1\n",
            "2\n",
            "4\n",
            "5\n",
            "6\n",
            "7\n"
          ]
        }
      ]
    },
    {
      "cell_type": "code",
      "source": [
        "#Examples of for loop\n",
        "for i in range(1, 6): #Generates a sequence of numbers within a specified range.\n",
        "    print(i)\n",
        "print(\"another for loop\")\n",
        "for num in range(0, 10, 2):\n",
        "    print(num)\n",
        "print(\"another for loop\")\n",
        "for num in range(5):\n",
        "    print(num)\n",
        "print(\"another for loop\")\n",
        "for num in range(10, 0, -2):\n",
        "    print(num)"
      ],
      "metadata": {
        "id": "PG1ZW9WUscpC",
        "colab": {
          "base_uri": "https://localhost:8080/"
        },
        "outputId": "6b96bc16-eff0-49f0-9625-ad19892f32e4"
      },
      "execution_count": null,
      "outputs": [
        {
          "output_type": "stream",
          "name": "stdout",
          "text": [
            "1\n",
            "2\n",
            "3\n",
            "4\n",
            "5\n",
            "another for loop\n",
            "0\n",
            "2\n",
            "4\n",
            "6\n",
            "8\n",
            "another for loop\n",
            "0\n",
            "1\n",
            "2\n",
            "3\n",
            "4\n",
            "another for loop\n",
            "10\n",
            "8\n",
            "6\n",
            "4\n",
            "2\n"
          ]
        }
      ]
    },
    {
      "cell_type": "code",
      "source": [
        "#Example of loop in string\n",
        "for char in \"Python\":\n",
        "    print(char)\n"
      ],
      "metadata": {
        "colab": {
          "base_uri": "https://localhost:8080/"
        },
        "id": "TFIo8m1Qu3MP",
        "outputId": "02e3072f-0c0e-438e-adaa-0e6a9bbd1bf4"
      },
      "execution_count": null,
      "outputs": [
        {
          "output_type": "stream",
          "name": "stdout",
          "text": [
            "P\n",
            "y\n",
            "t\n",
            "h\n",
            "o\n",
            "n\n"
          ]
        }
      ]
    },
    {
      "cell_type": "code",
      "source": [
        "#Example of loop using python list\n",
        "numbers = [1, 2, 3, 4, 5]\n",
        "for num in numbers:\n",
        "    print(num)\n"
      ],
      "metadata": {
        "id": "8SJdJAj8vG5D",
        "colab": {
          "base_uri": "https://localhost:8080/"
        },
        "outputId": "ff3735b8-2765-4061-a7e0-9b0b8a0fa97a"
      },
      "execution_count": null,
      "outputs": [
        {
          "output_type": "stream",
          "name": "stdout",
          "text": [
            "1\n",
            "2\n",
            "3\n",
            "4\n",
            "5\n"
          ]
        }
      ]
    },
    {
      "cell_type": "code",
      "source": [
        "#Control Flow with break\n",
        "for num in range(1, 6):\n",
        "    if num == 3:\n",
        "        break\n",
        "    print(num)"
      ],
      "metadata": {
        "colab": {
          "base_uri": "https://localhost:8080/"
        },
        "id": "Wf-0JgbwxWMI",
        "outputId": "b348c691-f91a-4d8c-a295-387341893a5e"
      },
      "execution_count": null,
      "outputs": [
        {
          "output_type": "stream",
          "name": "stdout",
          "text": [
            "1\n",
            "2\n"
          ]
        }
      ]
    },
    {
      "cell_type": "code",
      "source": [
        "#Flow control with continue\n",
        "for num in range(1, 6):\n",
        "    if num == 3:\n",
        "        continue\n",
        "    print(num)"
      ],
      "metadata": {
        "colab": {
          "base_uri": "https://localhost:8080/"
        },
        "id": "SdKZO9QtxdWi",
        "outputId": "9ca7ff4e-2ae9-4163-9e94-6f4ecdcde27e"
      },
      "execution_count": null,
      "outputs": [
        {
          "output_type": "stream",
          "name": "stdout",
          "text": [
            "1\n",
            "2\n",
            "4\n",
            "5\n"
          ]
        }
      ]
    },
    {
      "cell_type": "markdown",
      "source": [
        "What are Nested Loops?\n",
        "\n",
        "Loops inside loops, useful for working with multi-dimensional data."
      ],
      "metadata": {
        "id": "_NuGg0UcyAdR"
      }
    },
    {
      "cell_type": "code",
      "source": [
        "#Example of a Nested for Loop\n",
        "for i in range(1, 4):\n",
        "    for j in range(1, 5):\n",
        "        print(f\"i={i}, j={j}\")\n"
      ],
      "metadata": {
        "id": "ODcSS0ysyEw4",
        "colab": {
          "base_uri": "https://localhost:8080/"
        },
        "outputId": "fa52970e-552b-4284-abb1-fcd56b3336fa"
      },
      "execution_count": null,
      "outputs": [
        {
          "output_type": "stream",
          "name": "stdout",
          "text": [
            "i=1, j=1\n",
            "i=1, j=2\n",
            "i=1, j=3\n",
            "i=1, j=4\n",
            "i=2, j=1\n",
            "i=2, j=2\n",
            "i=2, j=3\n",
            "i=2, j=4\n",
            "i=3, j=1\n",
            "i=3, j=2\n",
            "i=3, j=3\n",
            "i=3, j=4\n"
          ]
        }
      ]
    },
    {
      "cell_type": "code",
      "source": [
        "#Nested while Loop Example\n",
        "i = 1\n",
        "while i <= 3:\n",
        "    j = 1\n",
        "    while j <= 4:\n",
        "        print(f\"i={i}, j={j}\")\n",
        "        j += 1\n",
        "    i += 1\n"
      ],
      "metadata": {
        "id": "_WODbtMdyrqp",
        "colab": {
          "base_uri": "https://localhost:8080/"
        },
        "outputId": "4d696ed7-3d72-418d-c368-4262f027ac67"
      },
      "execution_count": null,
      "outputs": [
        {
          "output_type": "stream",
          "name": "stdout",
          "text": [
            "i=1, j=1\n",
            "i=1, j=2\n",
            "i=1, j=3\n",
            "i=1, j=4\n",
            "i=2, j=1\n",
            "i=2, j=2\n",
            "i=2, j=3\n",
            "i=2, j=4\n",
            "i=3, j=1\n",
            "i=3, j=2\n",
            "i=3, j=3\n",
            "i=3, j=4\n"
          ]
        }
      ]
    },
    {
      "cell_type": "code",
      "source": [
        "#Mixed Loops Example (For + While)\n",
        "for i in range(1, 4):\n",
        "    j = 1\n",
        "    while j <= 3:\n",
        "        print(f\"i={i}, j={j}\")\n",
        "        j += 1\n"
      ],
      "metadata": {
        "id": "V9d1EXmDzfEp"
      },
      "execution_count": null,
      "outputs": []
    },
    {
      "cell_type": "code",
      "source": [
        "fname='Abdul'\n",
        "pos=3\n",
        "print(f\"{fname} Hasan secured position {pos}\")"
      ],
      "metadata": {
        "colab": {
          "base_uri": "https://localhost:8080/"
        },
        "id": "-IXt8Wjpml8o",
        "outputId": "9403b11f-bee6-4612-feaa-8851dadc0124"
      },
      "execution_count": null,
      "outputs": [
        {
          "output_type": "stream",
          "name": "stdout",
          "text": [
            "Abdul Hasan secured position 3\n"
          ]
        }
      ]
    },
    {
      "cell_type": "markdown",
      "source": [
        "Analyze the failure of materials under varying stress conditions:\n",
        "Stress data from a series of experiments is provided.\n",
        "The program should classify the material as \"Safe\" (stress < 300), \"Warning\" (300 <= stress < 500), or \"Failure\" (stress>=500) based on the stress level."
      ],
      "metadata": {
        "id": "aIL-GeS4HWFc"
      }
    },
    {
      "cell_type": "code",
      "source": [
        "stress_levels = [100, 220, 400, 550, 300]\n",
        "for stress in stress_levels:\n",
        "    if stress < 300:\n",
        "        print(\"Safe\")\n",
        "    elif 300 <= stress < 500:\n",
        "        print(\"Warning\")\n",
        "    else:\n",
        "        print(\"Failure\")\n"
      ],
      "metadata": {
        "colab": {
          "base_uri": "https://localhost:8080/"
        },
        "collapsed": true,
        "id": "VH7LCRwdH8Kr",
        "outputId": "70e349bc-bd12-4741-ce9e-96e802a5ba04"
      },
      "execution_count": null,
      "outputs": [
        {
          "output_type": "stream",
          "name": "stdout",
          "text": [
            "Safe\n",
            "Safe\n",
            "Warning\n",
            "Failure\n",
            "Warning\n"
          ]
        }
      ]
    },
    {
      "cell_type": "markdown",
      "source": [
        "Calculate the stability of a retaining wall under different load conditions. For each material used in the construction, calculate the stability factor ((force / moment) * 0.8) using different force and moment combinations."
      ],
      "metadata": {
        "id": "5hV1_Yj6Icua"
      }
    },
    {
      "cell_type": "code",
      "source": [
        "materials = [\"concrete\", \"steel\", \"wood\"]\n",
        "forces = [1000, 2000, 3000]  # in Newtons\n",
        "moments = [10, 20, 30]       # in kNm\n",
        "\n",
        "for material in materials:\n",
        "    for force in forces:\n",
        "        for moment in moments:\n",
        "            stability_factor = (force / moment) * 0.8\n",
        "            print(f\"Material: {material}, Force: {force}, Moment: {moment}, Stability Factor: {stability_factor:.2f}\")\n"
      ],
      "metadata": {
        "colab": {
          "base_uri": "https://localhost:8080/"
        },
        "collapsed": true,
        "id": "zpQq-u0nIp2d",
        "outputId": "a82863e2-09c4-4687-de32-dbc62f6b4042"
      },
      "execution_count": null,
      "outputs": [
        {
          "output_type": "stream",
          "name": "stdout",
          "text": [
            "Material: concrete, Force: 1000, Moment: 10, Stability Factor: 80.00\n",
            "Material: concrete, Force: 1000, Moment: 20, Stability Factor: 40.00\n",
            "Material: concrete, Force: 1000, Moment: 30, Stability Factor: 26.67\n",
            "Material: concrete, Force: 2000, Moment: 10, Stability Factor: 160.00\n",
            "Material: concrete, Force: 2000, Moment: 20, Stability Factor: 80.00\n",
            "Material: concrete, Force: 2000, Moment: 30, Stability Factor: 53.33\n",
            "Material: concrete, Force: 3000, Moment: 10, Stability Factor: 240.00\n",
            "Material: concrete, Force: 3000, Moment: 20, Stability Factor: 120.00\n",
            "Material: concrete, Force: 3000, Moment: 30, Stability Factor: 80.00\n",
            "Material: steel, Force: 1000, Moment: 10, Stability Factor: 80.00\n",
            "Material: steel, Force: 1000, Moment: 20, Stability Factor: 40.00\n",
            "Material: steel, Force: 1000, Moment: 30, Stability Factor: 26.67\n",
            "Material: steel, Force: 2000, Moment: 10, Stability Factor: 160.00\n",
            "Material: steel, Force: 2000, Moment: 20, Stability Factor: 80.00\n",
            "Material: steel, Force: 2000, Moment: 30, Stability Factor: 53.33\n",
            "Material: steel, Force: 3000, Moment: 10, Stability Factor: 240.00\n",
            "Material: steel, Force: 3000, Moment: 20, Stability Factor: 120.00\n",
            "Material: steel, Force: 3000, Moment: 30, Stability Factor: 80.00\n",
            "Material: wood, Force: 1000, Moment: 10, Stability Factor: 80.00\n",
            "Material: wood, Force: 1000, Moment: 20, Stability Factor: 40.00\n",
            "Material: wood, Force: 1000, Moment: 30, Stability Factor: 26.67\n",
            "Material: wood, Force: 2000, Moment: 10, Stability Factor: 160.00\n",
            "Material: wood, Force: 2000, Moment: 20, Stability Factor: 80.00\n",
            "Material: wood, Force: 2000, Moment: 30, Stability Factor: 53.33\n",
            "Material: wood, Force: 3000, Moment: 10, Stability Factor: 240.00\n",
            "Material: wood, Force: 3000, Moment: 20, Stability Factor: 120.00\n",
            "Material: wood, Force: 3000, Moment: 30, Stability Factor: 80.00\n"
          ]
        }
      ]
    },
    {
      "cell_type": "markdown",
      "source": [
        "Why Advanced Loops?\n",
        "\n",
        "Advanced loops in Python offer a more powerful way to iterate over complex data structures efficiently.\n",
        "They allow concise, readable code that can handle large datasets, multi-dimensional arrays, and computational-heavy tasks.\n",
        "Types of Advanced Loops:\n",
        "\n",
        "\n",
        "*   List comprehensions\n",
        "*   Generator expressions\n",
        "*   zip() and enumerate()\n",
        "*   itertools module (may be later)"
      ],
      "metadata": {
        "id": "1FtDXFlBKOgW"
      }
    },
    {
      "cell_type": "markdown",
      "source": [
        "List Comprehensions\n",
        "List comprehensions are a concise way to create lists based on existing lists. Instead of using a for loop to build a list, we can do it in a single line.\n",
        "\n",
        "[expression for item in iterable if condition]\n"
      ],
      "metadata": {
        "id": "lrC0qvY5LBmP"
      }
    },
    {
      "cell_type": "code",
      "source": [
        "#Example of list comprehension\n",
        "squares=[num for num in range(0,10,2)]\n",
        "print(squares)"
      ],
      "metadata": {
        "colab": {
          "base_uri": "https://localhost:8080/"
        },
        "id": "dd7QvchcLTKA",
        "outputId": "c8ceb05d-4c02-47e3-d1bd-ee6277a8a2a0"
      },
      "execution_count": null,
      "outputs": [
        {
          "output_type": "stream",
          "name": "stdout",
          "text": [
            "[0, 2, 4, 6, 8]\n"
          ]
        }
      ]
    },
    {
      "cell_type": "code",
      "source": [
        "#Example of Generator Expressions\n",
        "gen=(num for num in range(0,10,2)) #This gen is an object\n",
        "print(gen)\n",
        "for i in gen: #Here generate one item in one iteration\n",
        "  print(i)"
      ],
      "metadata": {
        "id": "n7PhKxdQQMAb",
        "colab": {
          "base_uri": "https://localhost:8080/"
        },
        "outputId": "6ca9a963-072a-4fc7-e8bc-0e86cc8667a1"
      },
      "execution_count": null,
      "outputs": [
        {
          "output_type": "stream",
          "name": "stdout",
          "text": [
            "<generator object <genexpr> at 0x7d4787290e40>\n",
            "0\n",
            "2\n",
            "4\n",
            "6\n",
            "8\n"
          ]
        }
      ]
    },
    {
      "cell_type": "code",
      "source": [
        "#Nested list comprehension: we can also nest list comprehensions to handle multi-dimensional lists or matrices.\n",
        "matrix=[[i*j for i in range(1,6)] for j in range(2,5)]\n",
        "print(matrix)"
      ],
      "metadata": {
        "colab": {
          "base_uri": "https://localhost:8080/"
        },
        "id": "z-HDRCwsMGqE",
        "outputId": "5fa3390f-cb56-474f-cc14-74f63d6b4d78"
      },
      "execution_count": null,
      "outputs": [
        {
          "output_type": "stream",
          "name": "stdout",
          "text": [
            "[[2, 4, 6, 8, 10], [3, 6, 9, 12, 15], [4, 8, 12, 16, 20]]\n"
          ]
        }
      ]
    },
    {
      "cell_type": "markdown",
      "source": [
        "\n",
        "Generator Expressions: Similar to list comprehensions but use parentheses () instead of square brackets [].\n",
        "Generators are lazy and produce items one at a time, making them more memory efficient, especially when dealing with large datasets."
      ],
      "metadata": {
        "id": "iXdmyOWOQCKl"
      }
    },
    {
      "cell_type": "markdown",
      "source": [
        "Using zip() for Parallel Iteration\n",
        "\n",
        "The zip() function allows you to iterate over multiple sequences in parallel."
      ],
      "metadata": {
        "id": "FtXa958rQ5rX"
      }
    },
    {
      "cell_type": "code",
      "source": [
        "#Example of zip\n",
        "list1=[1,3,5]\n",
        "list_name=[\"Abdul\", \"Basit\", \"Choudry\"]\n",
        "for seq, name in zip(list1,list_name):\n",
        "  print(f\" for {seq}, name is {name}\")"
      ],
      "metadata": {
        "colab": {
          "base_uri": "https://localhost:8080/"
        },
        "id": "L4ojujd_RHGI",
        "outputId": "b683a1cf-9403-4077-b834-cb5d4b5856fa"
      },
      "execution_count": null,
      "outputs": [
        {
          "output_type": "stream",
          "name": "stdout",
          "text": [
            " for 1, name is Abdul\n",
            " for 3, name is Basit\n",
            " for 5, name is Choudry\n"
          ]
        }
      ]
    },
    {
      "cell_type": "markdown",
      "source": [
        "Engineering Application:\n",
        "\n",
        "Suppose we have two lists: one with beam dimensions and the other with the corresponding forces. We have to calculate stress (force/dimension)"
      ],
      "metadata": {
        "id": "aZLOD1Y4SVjf"
      }
    },
    {
      "cell_type": "code",
      "source": [
        "dimensions = [0.3, 0.4, 0.5]  # width in meters\n",
        "forces = [1000, 1500, 2000]   # force in Newtons\n",
        "\n",
        "for dim, force in zip(dimensions, forces):\n",
        "    stress = force / dim\n",
        "    print(f\"Beam width: {dim}m, Stress: {stress} N/m²\")\n"
      ],
      "metadata": {
        "colab": {
          "base_uri": "https://localhost:8080/"
        },
        "id": "9zQAjOe1GLB5",
        "outputId": "53447cfc-d427-41eb-e722-aa451d00c26f"
      },
      "execution_count": null,
      "outputs": [
        {
          "output_type": "stream",
          "name": "stdout",
          "text": [
            "Beam width: 0.3m, Stress: 3333.3333333333335 N/m²\n",
            "Beam width: 0.4m, Stress: 3750.0 N/m²\n",
            "Beam width: 0.5m, Stress: 4000.0 N/m²\n"
          ]
        }
      ]
    },
    {
      "cell_type": "code",
      "source": [
        "# prompt: provide me an example of zip utilizing three lists as argument\n",
        "\n",
        "list1 = [1, 2, 3]\n",
        "list2 = ['a', 'b', 'c']\n",
        "list3 = [1.1, 2.2, 3.3]\n",
        "\n",
        "for i, j, k in zip(list1, list2, list3):\n",
        "    print(i, j, k)"
      ],
      "metadata": {
        "id": "05Lz23V5woRo"
      },
      "execution_count": null,
      "outputs": []
    },
    {
      "cell_type": "markdown",
      "source": [
        "Using enumerate() for Index Tracking\n",
        "\n",
        "enumerate() allows you to loop over a list and keep track of the index of the current item."
      ],
      "metadata": {
        "id": "Tk2_GkwBGfuz"
      }
    },
    {
      "cell_type": "code",
      "source": [
        "#Example of enumerate\n",
        "list_name=[\"Abdul\", \"Basit\", \"Choudry\"]\n",
        "for indx, name in enumerate(list_name):\n",
        "  print (f\"Person index is {indx} and name is {name}\")"
      ],
      "metadata": {
        "colab": {
          "base_uri": "https://localhost:8080/"
        },
        "id": "75ykpt6bGqg5",
        "outputId": "526ed9be-0034-4748-cb7a-afa08590436f"
      },
      "execution_count": null,
      "outputs": [
        {
          "output_type": "stream",
          "name": "stdout",
          "text": [
            "Person index is 0 and name is Abdul\n",
            "Person index is 1 and name is Basit\n",
            "Person index is 2 and name is Choudry\n"
          ]
        }
      ]
    },
    {
      "cell_type": "code",
      "source": [
        "#Compute and analyze the thermal expansion of different materials over a temperature\n",
        "materials = [\"steel\", \"aluminum\", \"copper\"]\n",
        "coefficients = [12e-6, 23e-6, 17e-6]  # Coefficients of thermal expansion (per °C)\n",
        "initial_length = [1000, 1500, 1200]  # Length in mm\n",
        "temp_change = 100  # Temperature change in °C\n",
        "\n",
        "expansions = [(length * coeff * temp_change) for length, coeff in zip(initial_length, coefficients)]\n",
        "print(expansions)\n",
        "\n"
      ],
      "metadata": {
        "colab": {
          "base_uri": "https://localhost:8080/"
        },
        "id": "t4o31wSbIz6j",
        "outputId": "6530358c-4deb-4fdf-ce35-06971a175ef7"
      },
      "execution_count": null,
      "outputs": [
        {
          "output_type": "stream",
          "name": "stdout",
          "text": [
            "[1.2, 3.45, 2.04]\n"
          ]
        }
      ]
    },
    {
      "cell_type": "code",
      "source": [
        "#Calculate water flow rates through multiple channels, each with different dimensions, using nested loops.\n",
        "channels = [(1, 2), (1.5, 2.5), (2, 3)]  # (width, height) in meters\n",
        "#channel=[1,3,5,7]\n",
        "flow_rates = []\n",
        "\n",
        "for width, height in channels:\n",
        "  print (f\"width is {width} and height is {height}\")\n",
        "  #flow_rate = width * height * 1.5  # Simplified formula for water flow\n",
        "  #flow_rates.append(flow_rate)\n",
        "\n",
        "#print(flow_rates) #(Flow rates in m³/s)\n"
      ],
      "metadata": {
        "colab": {
          "base_uri": "https://localhost:8080/"
        },
        "id": "29lN7V9XJ0bF",
        "outputId": "a33c56f4-df78-43c4-eadb-3b02892c6b23"
      },
      "execution_count": null,
      "outputs": [
        {
          "output_type": "stream",
          "name": "stdout",
          "text": [
            "width is 1 and height is 2\n",
            "width is 1.5 and height is 2.5\n",
            "width is 2 and height is 3\n"
          ]
        }
      ]
    }
  ]
}