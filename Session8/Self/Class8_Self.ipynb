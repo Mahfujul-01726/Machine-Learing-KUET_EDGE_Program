{
  "nbformat": 4,
  "nbformat_minor": 0,
  "metadata": {
    "colab": {
      "provenance": []
    },
    "kernelspec": {
      "name": "python3",
      "display_name": "Python 3"
    },
    "language_info": {
      "name": "python"
    }
  },
  "cells": [
    {
      "cell_type": "markdown",
      "source": [
        "1. **Session 8: Pandas Series**\n",
        "\n",
        "* What is Pandas?\n",
        "* Introduction to Pandas Series\n",
        "* Series Methods\n",
        "* Series with Python functionalities\n",
        "* Boolean Indexing on Series\n",
        "* Plotting graphs on series\n"
      ],
      "metadata": {
        "id": "GyaEEE0x7pfh"
      }
    },
    {
      "cell_type": "markdown",
      "source": [
        "# 1. What is Pandas?"
      ],
      "metadata": {
        "id": "CG9k1EeP74H5"
      }
    },
    {
      "cell_type": "markdown",
      "source": [
        "Pandas is a Python library used for data manipulation and analysis. It provides two primary data structures:\n",
        "\n",
        "* Series: One-dimensional labeled array capable of holding any data type (like a single column in a table).\n",
        "\n",
        "* DataFrame: Two-dimensional labeled data structure (like a table with rows and columns).\n",
        "\n",
        "**Key features of Pandas:**\n",
        "\n",
        "* Handling of missing data.\n",
        "* Data alignment and reshaping.\n",
        "* Integrated plotting and visualization support.\n",
        "* Merging, grouping, and aggregating data efficiently."
      ],
      "metadata": {
        "id": "x2T2ZSgR77yi"
      }
    },
    {
      "cell_type": "code",
      "source": [
        "pip install pandas\n"
      ],
      "metadata": {
        "colab": {
          "base_uri": "https://localhost:8080/"
        },
        "id": "vVnU0Y5u7Vhx",
        "outputId": "431a8751-0f35-4062-8e60-6273d49c23d7"
      },
      "execution_count": 2,
      "outputs": [
        {
          "output_type": "stream",
          "name": "stdout",
          "text": [
            "Requirement already satisfied: pandas in /usr/local/lib/python3.10/dist-packages (2.2.2)\n",
            "Requirement already satisfied: numpy>=1.22.4 in /usr/local/lib/python3.10/dist-packages (from pandas) (1.26.4)\n",
            "Requirement already satisfied: python-dateutil>=2.8.2 in /usr/local/lib/python3.10/dist-packages (from pandas) (2.8.2)\n",
            "Requirement already satisfied: pytz>=2020.1 in /usr/local/lib/python3.10/dist-packages (from pandas) (2024.2)\n",
            "Requirement already satisfied: tzdata>=2022.7 in /usr/local/lib/python3.10/dist-packages (from pandas) (2024.2)\n",
            "Requirement already satisfied: six>=1.5 in /usr/local/lib/python3.10/dist-packages (from python-dateutil>=2.8.2->pandas) (1.17.0)\n"
          ]
        }
      ]
    },
    {
      "cell_type": "markdown",
      "source": [
        "# 2. Introduction to Pandas Series"
      ],
      "metadata": {
        "id": "eRcOAvK78bNI"
      }
    },
    {
      "cell_type": "code",
      "source": [
        "import pandas as pd\n",
        "\n",
        "# Creating a Series from a list\n",
        "data=[10, 20, 30, 40]\n",
        "series=pd.Series(data, index=['a', 'b', 'c', 'd'])\n",
        "print(series)"
      ],
      "metadata": {
        "colab": {
          "base_uri": "https://localhost:8080/"
        },
        "id": "lGexv3QA7Vff",
        "outputId": "5b14a141-5c61-4dc3-a836-b604e8bcc862"
      },
      "execution_count": 4,
      "outputs": [
        {
          "output_type": "stream",
          "name": "stdout",
          "text": [
            "a    10\n",
            "b    20\n",
            "c    30\n",
            "d    40\n",
            "dtype: int64\n"
          ]
        }
      ]
    },
    {
      "cell_type": "markdown",
      "source": [
        "# 3. Series Methods"
      ],
      "metadata": {
        "id": "kHekN8Eh8_AJ"
      }
    },
    {
      "cell_type": "code",
      "source": [
        "# head() and tail()\n",
        "series=pd.Series([1,2,3,4,5,6,7,8,9,10])\n",
        "print(series.head(3))\n",
        "print(series.tail(3))"
      ],
      "metadata": {
        "colab": {
          "base_uri": "https://localhost:8080/"
        },
        "id": "kpx1L1NW7Vdo",
        "outputId": "5535696e-5a7e-4dd8-ee94-a34b31ef0005"
      },
      "execution_count": 6,
      "outputs": [
        {
          "output_type": "stream",
          "name": "stdout",
          "text": [
            "0    1\n",
            "1    2\n",
            "2    3\n",
            "dtype: int64\n",
            "7     8\n",
            "8     9\n",
            "9    10\n",
            "dtype: int64\n"
          ]
        }
      ]
    },
    {
      "cell_type": "code",
      "source": [
        "# describe()\n",
        "print(series.describe())"
      ],
      "metadata": {
        "colab": {
          "base_uri": "https://localhost:8080/"
        },
        "id": "pDxOl8PW7Va6",
        "outputId": "9d64b758-0d7e-41c7-f64a-e642b098a9b1"
      },
      "execution_count": 7,
      "outputs": [
        {
          "output_type": "stream",
          "name": "stdout",
          "text": [
            "count    10.00000\n",
            "mean      5.50000\n",
            "std       3.02765\n",
            "min       1.00000\n",
            "25%       3.25000\n",
            "50%       5.50000\n",
            "75%       7.75000\n",
            "max      10.00000\n",
            "dtype: float64\n"
          ]
        }
      ]
    },
    {
      "cell_type": "code",
      "source": [
        "# value_counts()\n",
        "series=pd.Series([1, 2, 2, 3, 3, 3, 4])\n",
        "print(series.value_counts())"
      ],
      "metadata": {
        "colab": {
          "base_uri": "https://localhost:8080/"
        },
        "id": "59YhcCQC7VYh",
        "outputId": "56163520-5584-4ada-fccf-b53c5d85c5d2"
      },
      "execution_count": 8,
      "outputs": [
        {
          "output_type": "stream",
          "name": "stdout",
          "text": [
            "3    3\n",
            "2    2\n",
            "1    1\n",
            "4    1\n",
            "Name: count, dtype: int64\n"
          ]
        }
      ]
    },
    {
      "cell_type": "code",
      "execution_count": 9,
      "metadata": {
        "colab": {
          "base_uri": "https://localhost:8080/"
        },
        "id": "KP8cwxNv7Uhm",
        "outputId": "f646f35b-7129-4c8d-dc29-323e038344de"
      },
      "outputs": [
        {
          "output_type": "stream",
          "name": "stdout",
          "text": [
            "0    2\n",
            "1    4\n",
            "2    4\n",
            "3    6\n",
            "4    6\n",
            "5    6\n",
            "6    8\n",
            "dtype: int64\n"
          ]
        }
      ],
      "source": [
        "# apply()\n",
        "print(series.apply(lambda x:x *2))"
      ]
    },
    {
      "cell_type": "markdown",
      "source": [
        "# 4. Series with Python Functionalities"
      ],
      "metadata": {
        "id": "H4TX7Ih0951K"
      }
    },
    {
      "cell_type": "markdown",
      "source": [
        "# a. Indexing and Slicing"
      ],
      "metadata": {
        "id": "9MSj15zK9-qD"
      }
    },
    {
      "cell_type": "code",
      "source": [
        "series=pd.Series([10, 20, 30, 40], index=['a', 'b', 'c', 'd'])\n",
        "\n",
        "# Access by label\n",
        "print(series['b'])\n",
        "\n",
        "# Slicing by label\n",
        "print(series['b':'d'])\n",
        "\n",
        "#slicing by position\n",
        "print(series[1:3])"
      ],
      "metadata": {
        "colab": {
          "base_uri": "https://localhost:8080/"
        },
        "id": "_mzdQSqY9TlZ",
        "outputId": "01ea1e77-331b-499a-91f6-6d9364ce67b1"
      },
      "execution_count": 10,
      "outputs": [
        {
          "output_type": "stream",
          "name": "stdout",
          "text": [
            "20\n",
            "b    20\n",
            "c    30\n",
            "d    40\n",
            "dtype: int64\n",
            "b    20\n",
            "c    30\n",
            "dtype: int64\n"
          ]
        }
      ]
    },
    {
      "cell_type": "markdown",
      "source": [
        "# b. Mathematical Operations"
      ],
      "metadata": {
        "id": "87NYJDM_-blZ"
      }
    },
    {
      "cell_type": "code",
      "source": [
        "series=pd.Series([1,2,3,4])\n",
        "print(series + 10)\n",
        "print(series * 2)"
      ],
      "metadata": {
        "colab": {
          "base_uri": "https://localhost:8080/"
        },
        "id": "Y3Q1Nu8y9Tio",
        "outputId": "30405b05-299a-4b49-cc81-fcc72257f288"
      },
      "execution_count": 11,
      "outputs": [
        {
          "output_type": "stream",
          "name": "stdout",
          "text": [
            "0    11\n",
            "1    12\n",
            "2    13\n",
            "3    14\n",
            "dtype: int64\n",
            "0    2\n",
            "1    4\n",
            "2    6\n",
            "3    8\n",
            "dtype: int64\n"
          ]
        }
      ]
    },
    {
      "cell_type": "markdown",
      "source": [
        "# 5. Boolean Indexing on Series"
      ],
      "metadata": {
        "id": "Peq4fdEh-sxB"
      }
    },
    {
      "cell_type": "code",
      "source": [
        "series=pd.Series([10, 20, 30, 40])\n",
        "\n",
        "# Filter elements greather than 20\n",
        "filtered_series=series[series> 20]\n",
        "print(filtered_series)"
      ],
      "metadata": {
        "colab": {
          "base_uri": "https://localhost:8080/"
        },
        "id": "rz8DkTJA-aP5",
        "outputId": "48e21204-1424-4a77-a4e0-12516feda98e"
      },
      "execution_count": 12,
      "outputs": [
        {
          "output_type": "stream",
          "name": "stdout",
          "text": [
            "2    30\n",
            "3    40\n",
            "dtype: int64\n"
          ]
        }
      ]
    },
    {
      "cell_type": "markdown",
      "source": [
        "# 6. Plotting Graphs on Series"
      ],
      "metadata": {
        "id": "RHbn93b7_ABZ"
      }
    },
    {
      "cell_type": "markdown",
      "source": [
        "# Example: Plotting a Line Graph"
      ],
      "metadata": {
        "id": "DxC5Z7vY_FCR"
      }
    },
    {
      "cell_type": "code",
      "source": [
        "import matplotlib.pyplot as plt\n",
        "\n",
        "series = pd.Series([10, 20, 15, 30, 25], index=['A', 'B', 'C', 'D', 'E'])\n",
        "\n",
        "# Line plot\n",
        "series.plot(kind='line', title=\"Line Plot Example\")\n",
        "plt.xlabel(\"Index\")\n",
        "plt.ylabel(\"Values\")\n",
        "plt.show()\n"
      ],
      "metadata": {
        "colab": {
          "base_uri": "https://localhost:8080/",
          "height": 472
        },
        "id": "VhCGiE1G94a0",
        "outputId": "47f7a577-aa85-4744-b06a-28f88aa62f1c"
      },
      "execution_count": 13,
      "outputs": [
        {
          "output_type": "display_data",
          "data": {
            "text/plain": [
              "<Figure size 640x480 with 1 Axes>"
            ],
            "image/png": "[encoded data removed]"
          },
          "metadata": {}
        }
      ]
    },
    {
      "cell_type": "markdown",
      "source": [
        "# Example: Plotting a bar graph"
      ],
      "metadata": {
        "id": "M6cpZVhr_QhJ"
      }
    },
    {
      "cell_type": "code",
      "source": [
        "series.plot(kind='bar', title=\"Bar Plot Example\")\n",
        "plt.xlabel(\"Index\")\n",
        "plt.ylabel(\"Values\")\n",
        "plt.show()"
      ],
      "metadata": {
        "colab": {
          "base_uri": "https://localhost:8080/",
          "height": 468
        },
        "id": "VznovxP094YB",
        "outputId": "e712ace2-35aa-475e-a47f-9ee533dcdb2e"
      },
      "execution_count": 14,
      "outputs": [
        {
          "output_type": "display_data",
          "data": {
            "text/plain": [
              "<Figure size 640x480 with 1 Axes>"
            ],
            "image/png": "[encoded data removed]"
          },
          "metadata": {}
        }
      ]
    }
  ]
}