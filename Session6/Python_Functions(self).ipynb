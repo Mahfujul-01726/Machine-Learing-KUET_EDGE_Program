{
  "nbformat": 4,
  "nbformat_minor": 0,
  "metadata": {
    "colab": {
      "provenance": []
    },
    "kernelspec": {
      "name": "python3",
      "display_name": "Python 3"
    },
    "language_info": {
      "name": "python"
    }
  },
  "cells": [
    {
      "cell_type": "markdown",
      "source": [
        "# Today's Context:\n",
        "Python Functions:\n",
        "1. Create functions\n",
        "2. Arguments and parameters\n",
        "3. args and kwargs\n",
        "4. How to access documentation of a function\n",
        "5. Variable scope\n",
        "6. Nested functions with examples\n",
        "7. Returning of function\n",
        "8. Advantages of functions\n",
        "9. Lambda functions\n",
        "please explain these with proper example with code (for future using data science and machine learning )"
      ],
      "metadata": {
        "id": "Zk5HAfyHpdgJ"
      }
    },
    {
      "cell_type": "markdown",
      "source": [
        "# 1. Create Functions"
      ],
      "metadata": {
        "id": "owsO45CMpj-C"
      }
    },
    {
      "cell_type": "code",
      "source": [
        "# Basic function\n",
        "def greet():\n",
        "    return \"Hello, world!\"\n",
        "\n",
        "print(greet())  # Output: Hello, world!\n",
        "\n",
        "# Example in ML: Calculate Mean Squared Error\n",
        "def mse(y_true, y_pred):\n",
        "    errors = [(true - pred)**2 for true, pred in zip(y_true, y_pred)]\n",
        "    return sum(errors) / len(errors)\n",
        "\n",
        "# Example usage\n",
        "y_true = [1.5, 2.0, 3.5]\n",
        "y_pred = [1.4, 2.2, 3.4]\n",
        "print(mse(y_true, y_pred))  # Output: 0.013333333333333332\n"
      ],
      "metadata": {
        "colab": {
          "base_uri": "https://localhost:8080/"
        },
        "id": "nTcH78asl3vc",
        "outputId": "8a7c219f-6522-4d7e-f379-4414bc39885a"
      },
      "execution_count": 1,
      "outputs": [
        {
          "output_type": "stream",
          "name": "stdout",
          "text": [
            "Hello, world!\n",
            "0.020000000000000035\n"
          ]
        }
      ]
    },
    {
      "cell_type": "markdown",
      "source": [
        "# 2. Arguments and Parameters"
      ],
      "metadata": {
        "id": "b06dT09YpuDx"
      }
    },
    {
      "cell_type": "code",
      "source": [
        "# Function with parameters\n",
        "def greet(name):\n",
        "    return f\"Hello, {name}!\"\n",
        "\n",
        "print(greet(\"Alice\"))  # Output: Hello, Alice!\n",
        "\n",
        "# Example in Data Science: Normalize data\n",
        "def normalize(value, min_value, max_value):\n",
        "    return (value - min_value) / (max_value - min_value)\n",
        "\n",
        "print(normalize(10, 0, 20))  # Output: 0.5\n"
      ],
      "metadata": {
        "colab": {
          "base_uri": "https://localhost:8080/"
        },
        "id": "p6QC-7cbl3tF",
        "outputId": "9fe86de5-a0a6-4282-bd55-8fe2726468a0"
      },
      "execution_count": 2,
      "outputs": [
        {
          "output_type": "stream",
          "name": "stdout",
          "text": [
            "Hello, Alice!\n",
            "0.5\n"
          ]
        }
      ]
    },
    {
      "cell_type": "markdown",
      "source": [
        "# 3. *args and **kwargs"
      ],
      "metadata": {
        "id": "RDtCHH5Zp3WQ"
      }
    },
    {
      "cell_type": "code",
      "source": [
        "# Using *args\n",
        "def sum_numbers(*args):\n",
        "    return sum(args)\n",
        "\n",
        "print(sum_numbers(1, 2, 3, 4))  # Output: 10\n",
        "\n",
        "# Using **kwargs\n",
        "def print_details(**kwargs):\n",
        "    for key, value in kwargs.items():\n",
        "        print(f\"{key}: {value}\")\n",
        "\n",
        "print_details(name=\"Alice\", age=25, city=\"New York\")\n",
        "\n",
        "# Example: Model parameters\n",
        "def set_model_params(model_name, **kwargs):\n",
        "    print(f\"Model: {model_name}\")\n",
        "    for param, value in kwargs.items():\n",
        "        print(f\"{param}: {value}\")\n",
        "\n",
        "set_model_params(\"LinearRegression\", alpha=0.01, max_iter=100)\n"
      ],
      "metadata": {
        "colab": {
          "base_uri": "https://localhost:8080/"
        },
        "id": "HU00cSQYl3q_",
        "outputId": "d286358e-9e02-49c0-ee75-9ad09ff0e73c"
      },
      "execution_count": 3,
      "outputs": [
        {
          "output_type": "stream",
          "name": "stdout",
          "text": [
            "10\n",
            "name: Alice\n",
            "age: 25\n",
            "city: New York\n",
            "Model: LinearRegression\n",
            "alpha: 0.01\n",
            "max_iter: 100\n"
          ]
        }
      ]
    },
    {
      "cell_type": "markdown",
      "source": [
        "## 4. How to Access Documentation of a Function"
      ],
      "metadata": {
        "id": "tw-O_3WLp_Kw"
      }
    },
    {
      "cell_type": "code",
      "source": [
        "def greet():\n",
        "    \"\"\"This function returns a greeting message.\"\"\"\n",
        "    return \"Hello!\"\n",
        "\n",
        "# Accessing documentation\n",
        "print(help(greet))\n",
        "print(greet.__doc__)\n",
        "\n",
        "# Example: Built-in functions\n",
        "help(len)  # Provides documentation for the len() function\n"
      ],
      "metadata": {
        "colab": {
          "base_uri": "https://localhost:8080/"
        },
        "id": "dUuK_ifnl3oW",
        "outputId": "520f7d52-6e7b-4886-af14-f04178a2738c"
      },
      "execution_count": 4,
      "outputs": [
        {
          "output_type": "stream",
          "name": "stdout",
          "text": [
            "Help on function greet in module __main__:\n",
            "\n",
            "greet()\n",
            "    This function returns a greeting message.\n",
            "\n",
            "None\n",
            "This function returns a greeting message.\n",
            "Help on built-in function len in module builtins:\n",
            "\n",
            "len(obj, /)\n",
            "    Return the number of items in a container.\n",
            "\n"
          ]
        }
      ]
    },
    {
      "cell_type": "markdown",
      "source": [
        "# 5. Variable scope:\n"
      ],
      "metadata": {
        "id": "iwJ3dA3JqP25"
      }
    },
    {
      "cell_type": "code",
      "source": [
        "# Local and Global Scope\n",
        "global_var = 10\n",
        "\n",
        "def example():\n",
        "    local_var = 5\n",
        "    print(\"Local:\", local_var)  # Access local variable\n",
        "    print(\"Global:\", global_var)  # Access global variable\n",
        "\n",
        "example()\n",
        "\n",
        "# Example in Data Science: Keeping track of feature counts\n",
        "feature_count = 0\n",
        "\n",
        "def add_feature():\n",
        "    global feature_count\n",
        "    feature_count += 1\n",
        "\n",
        "add_feature()\n",
        "print(feature_count)  # Output: 1\n"
      ],
      "metadata": {
        "colab": {
          "base_uri": "https://localhost:8080/"
        },
        "id": "N-wW2vepl3kO",
        "outputId": "02d70517-1062-484c-a3fb-ea7e8afb927f"
      },
      "execution_count": 5,
      "outputs": [
        {
          "output_type": "stream",
          "name": "stdout",
          "text": [
            "Local: 5\n",
            "Global: 10\n",
            "1\n"
          ]
        }
      ]
    },
    {
      "cell_type": "markdown",
      "source": [
        "# 6. Nested Functions"
      ],
      "metadata": {
        "id": "QmNPN7NYqVow"
      }
    },
    {
      "cell_type": "code",
      "source": [
        "def outer_function(message):\n",
        "    def inner_function():\n",
        "        print(message)\n",
        "    inner_function()\n",
        "\n",
        "outer_function(\"Hello from nested function!\")\n",
        "\n",
        "# Example in ML: Nested functions for scaling data\n",
        "def scale_data(data):\n",
        "    def min_max_scaler(value, min_value, max_value):\n",
        "        return (value - min_value) / (max_value - min_value)\n",
        "\n",
        "    scaled_data = [min_max_scaler(x, min(data), max(data)) for x in data]\n",
        "    return scaled_data\n",
        "\n",
        "print(scale_data([10, 20, 30]))  # Output: [0.0, 0.5, 1.0]\n"
      ],
      "metadata": {
        "colab": {
          "base_uri": "https://localhost:8080/"
        },
        "id": "YZ5J5igFl3iG",
        "outputId": "ce34ba64-130c-49bb-ba14-36dd71ece696"
      },
      "execution_count": 6,
      "outputs": [
        {
          "output_type": "stream",
          "name": "stdout",
          "text": [
            "Hello from nested function!\n",
            "[0.0, 0.5, 1.0]\n"
          ]
        }
      ]
    },
    {
      "cell_type": "markdown",
      "source": [
        "## 7. Returning Values from a Function"
      ],
      "metadata": {
        "id": "88Eq8vnfqfrg"
      }
    },
    {
      "cell_type": "code",
      "source": [
        "def add_and_multiply(a, b):\n",
        "    return a + b, a * b\n",
        "\n",
        "sum_result, product_result = add_and_multiply(5, 3)\n",
        "print(sum_result, product_result)  # Output: 8, 15\n",
        "\n",
        "# Example in ML: Return metrics\n",
        "def evaluate_model(y_true, y_pred):\n",
        "    mse = sum((true - pred)**2 for true, pred in zip(y_true, y_pred)) / len(y_true)\n",
        "    mae = sum(abs(true - pred) for true, pred in zip(y_true, y_pred)) / len(y_true)\n",
        "    return mse, mae\n",
        "\n",
        "print(evaluate_model([3, 5, 2], [2.5, 5, 3]))  # Output: (0.3333333333333333, 0.5)\n"
      ],
      "metadata": {
        "colab": {
          "base_uri": "https://localhost:8080/"
        },
        "id": "rD3H3gVfl3fl",
        "outputId": "784edc7c-ade2-43d7-d21e-4da72571caaf"
      },
      "execution_count": 7,
      "outputs": [
        {
          "output_type": "stream",
          "name": "stdout",
          "text": [
            "8 15\n",
            "(0.4166666666666667, 0.5)\n"
          ]
        }
      ]
    },
    {
      "cell_type": "markdown",
      "source": [
        "# 8. Advantages of Functions"
      ],
      "metadata": {
        "id": "QRsvbuDVqlGg"
      }
    },
    {
      "cell_type": "code",
      "source": [
        "def preprocess_data(data):\n",
        "    return [x/10 for x in data]\n",
        "\n",
        "def train_model(data):\n",
        "    return sum(data) / len(data)  # Simple average model\n",
        "\n",
        "data = [10, 20, 30, 40]\n",
        "processed_data = preprocess_data(data)\n",
        "model = train_model(processed_data)\n",
        "print(model)  # Output: 2.5\n"
      ],
      "metadata": {
        "colab": {
          "base_uri": "https://localhost:8080/"
        },
        "id": "9ryIPZrkqk94",
        "outputId": "ca438a31-84a4-469a-88c1-c7a9f929ba5a"
      },
      "execution_count": 8,
      "outputs": [
        {
          "output_type": "stream",
          "name": "stdout",
          "text": [
            "2.5\n"
          ]
        }
      ]
    },
    {
      "cell_type": "markdown",
      "source": [
        "# 9. Lambda Functions"
      ],
      "metadata": {
        "id": "KCrt67FJq3g4"
      }
    },
    {
      "cell_type": "code",
      "source": [
        "# Basic example\n",
        "square = lambda x: x**2\n",
        "print(square(5))  # Output: 25\n",
        "\n",
        "# Example in ML: Sorting by feature value\n",
        "data = [{\"name\": \"Alice\", \"score\": 85}, {\"name\": \"Bob\", \"score\": 90}]\n",
        "sorted_data = sorted(data, key=lambda x: x[\"score\"], reverse=True)\n",
        "print(sorted_data)\n",
        "\n",
        "# Example in Data Science: Apply lambda to a column\n",
        "import pandas as pd\n",
        "\n",
        "df = pd.DataFrame({\"A\": [1, 2, 3]})\n",
        "df[\"Squared\"] = df[\"A\"].apply(lambda x: x**2)\n",
        "print(df)\n",
        "# Output:\n",
        "#    A  Squared\n",
        "# 0  1        1\n",
        "# 1  2        4\n",
        "# 2  3        9\n"
      ],
      "metadata": {
        "colab": {
          "base_uri": "https://localhost:8080/"
        },
        "id": "kPdieml9qk76",
        "outputId": "4bf368e1-3458-4818-bdd7-5d5a3481cdc6"
      },
      "execution_count": 9,
      "outputs": [
        {
          "output_type": "stream",
          "name": "stdout",
          "text": [
            "25\n",
            "[{'name': 'Bob', 'score': 90}, {'name': 'Alice', 'score': 85}]\n",
            "   A  Squared\n",
            "0  1        1\n",
            "1  2        4\n",
            "2  3        9\n"
          ]
        }
      ]
    }
  ]
}