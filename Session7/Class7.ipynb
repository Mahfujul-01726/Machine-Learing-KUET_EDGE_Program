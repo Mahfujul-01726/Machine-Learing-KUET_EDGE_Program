{
  "nbformat": 4,
  "nbformat_minor": 0,
  "metadata": {
    "colab": {
      "provenance": []
    },
    "kernelspec": {
      "name": "python3",
      "display_name": "Python 3"
    },
    "language_info": {
      "name": "python"
    }
  },
  "cells": [
    {
      "cell_type": "code",
      "source": [
        "\n",
        "\n",
        "\n",
        "import numpy as np # Import numpy and assign it the alias 'np'\n",
        "\n",
        "\n",
        "arr1 = np.array([[1,2],[2,3]]) # Use np to create the array\n",
        "arr2 = np.array([[16,2],[2,30]]) # Use np to create the array\n",
        "\n",
        "additionarr = arr1 + arr2\n",
        "print(additionarr) # Print the additionarr variable (addition was not defined)"
      ],
      "metadata": {
        "colab": {
          "base_uri": "https://localhost:8080/"
        },
        "id": "omhjrRXu4Fwq",
        "outputId": "6248873e-3a62-4b79-f424-a45927490205"
      },
      "execution_count": null,
      "outputs": [
        {
          "output_type": "stream",
          "name": "stdout",
          "text": [
            "[[17  4]\n",
            " [ 4 33]]\n"
          ]
        }
      ]
    },
    {
      "cell_type": "code",
      "source": [
        "import numpy as np\n",
        "\n",
        "arr = np.array ([[1,2,3],[4,5,6],[7,8,9]])\n",
        "subarray= arr[0:2,1]\n",
        "print(subarray)\n"
      ],
      "metadata": {
        "colab": {
          "base_uri": "https://localhost:8080/"
        },
        "id": "XJ_5Qkv64FvD",
        "outputId": "728d5473-5460-419c-f9a5-ec1744fbfa16"
      },
      "execution_count": null,
      "outputs": [
        {
          "output_type": "stream",
          "name": "stdout",
          "text": [
            "[2 5]\n"
          ]
        }
      ]
    },
    {
      "cell_type": "code",
      "source": [
        "import numpy as np\n",
        "\n",
        "arr = np.array ([[1,2,3],[4,5,6],[7,8,9]])\n",
        "subarray= arr[0:2,1]\n",
        "print(subarray)\n",
        "\n",
        "element = arr[1,2]\n",
        "print(\"/n Element at index (1,2):\", element)"
      ],
      "metadata": {
        "colab": {
          "base_uri": "https://localhost:8080/"
        },
        "id": "10DQfXDB4Fsk",
        "outputId": "fbcdf721-751b-4a44-df6a-c939ebbd52df"
      },
      "execution_count": null,
      "outputs": [
        {
          "output_type": "stream",
          "name": "stdout",
          "text": [
            "[2 5]\n",
            "/n Element at index (1,2): 6\n"
          ]
        }
      ]
    },
    {
      "cell_type": "code",
      "execution_count": null,
      "metadata": {
        "colab": {
          "base_uri": "https://localhost:8080/"
        },
        "id": "RfTESmrq4FEy",
        "outputId": "eabbcc34-cf98-474f-a912-c2d30f54e417"
      },
      "outputs": [
        {
          "output_type": "stream",
          "name": "stdout",
          "text": [
            "52.68\n",
            "29.91717901139745\n"
          ]
        }
      ],
      "source": [
        "import numpy as np\n",
        "\n",
        "import numpy as np\n",
        "\n",
        "# Corrected function name from 'radint' to 'randint'\n",
        "data = np.random.randint(0, 100, 100)\n",
        "mean = np.mean(data)\n",
        "std_dev = np.std(data)\n",
        "\n",
        "print(mean)\n",
        "print(std_dev)"
      ]
    },
    {
      "cell_type": "code",
      "source": [
        "import numpy  as np\n",
        "import matplotlib.pyplot as plt\n",
        "\n",
        "data = np.random.randint(10000)\n",
        "\n",
        "hist,bins=np.histogram(data, bins=10)\n",
        "\n",
        "print(\"Histogram counts: \", hist)\n",
        "print(\"Bin edges: \", bins)\n",
        "\n",
        "plt.hist(data, bins=10)\n",
        "plt.xlabel('View')\n",
        "plt.ylabel('Frequency')\n",
        "plt.title('Histogram of Random Data')\n",
        "plt.show()"
      ],
      "metadata": {
        "colab": {
          "base_uri": "https://localhost:8080/",
          "height": 524
        },
        "id": "VBv6JHrqA112",
        "outputId": "da13e529-550f-4218-806a-8ef0e19ee920"
      },
      "execution_count": null,
      "outputs": [
        {
          "output_type": "stream",
          "name": "stdout",
          "text": [
            "Histogram counts:  [0 0 0 0 0 1 0 0 0 0]\n",
            "Bin edges:  [4228.5 4228.6 4228.7 4228.8 4228.9 4229.  4229.1 4229.2 4229.3 4229.4\n",
            " 4229.5]\n"
          ]
        },
        {
          "output_type": "display_data",
          "data": {
            "text/plain": [
              "<Figure size 640x480 with 1 Axes>"
            ],
            "image/png": "[encoded data removed]"
          },
          "metadata": {}
        }
      ]
    },
    {
      "cell_type": "code",
      "source": [
        "import numpy as np\n",
        "import matplotlib.pyplot as plt\n",
        "\n",
        "\n",
        "data = np.random.randn(1000)\n",
        "hist,bins = np.histogram(data, bins=10)\n",
        "#print(data)\n",
        "print(hist)\n",
        "print(bins)\n",
        "\n",
        "plt.hist(data, bins=10)\n",
        "plt.xlabel(\"Value\")\n",
        "plt.ylabel(\"Frequency\")\n",
        "plt.title(\"Histogram of Random Data\")\n",
        "plt.show()\n"
      ],
      "metadata": {
        "colab": {
          "base_uri": "https://localhost:8080/",
          "height": 524
        },
        "id": "hglJrsK3A1y9",
        "outputId": "fbefd133-3ec5-4df4-fa49-387086779624"
      },
      "execution_count": null,
      "outputs": [
        {
          "output_type": "stream",
          "name": "stdout",
          "text": [
            "[  3  25  81 171 261 243 147  53  13   3]\n",
            "[-3.3499334  -2.65537599 -1.96081858 -1.26626117 -0.57170377  0.12285364\n",
            "  0.81741105  1.51196846  2.20652586  2.90108327  3.59564068]\n"
          ]
        },
        {
          "output_type": "display_data",
          "data": {
            "text/plain": [
              "<Figure size 640x480 with 1 Axes>"
            ],
            "image/png": "[encoded data removed]"
          },
          "metadata": {}
        }
      ]
    },
    {
      "cell_type": "code",
      "source": [
        "import numpy as np\n",
        "import matplotlib.pyplot as plt\n",
        "\n",
        "# Generate an array of random integers (e.g., 1000 integers)\n",
        "data = np.random.randint(0, 10000, size=1000)\n",
        "\n",
        "# Compute the histogram\n",
        "hist, bins = np.histogram(data, bins=10)\n",
        "\n",
        "# Print histogram counts and bin edges\n",
        "print(\"Histogram counts: \", hist)\n",
        "print(\"Bin edges: \", bins)\n",
        "\n",
        "# Plot the histogram\n",
        "plt.hist(data, bins=10)\n",
        "plt.xlabel('Value')  # Label for x-axis\n",
        "plt.ylabel('Frequency')  # Label for y-axis\n",
        "plt.title('Histogram of Random Data')  # Title of the histogram\n",
        "plt.show()\n"
      ],
      "metadata": {
        "colab": {
          "base_uri": "https://localhost:8080/",
          "height": 524
        },
        "id": "mAiXZMlaA1ww",
        "outputId": "191eeedf-7338-4b26-c495-307433471b66"
      },
      "execution_count": null,
      "outputs": [
        {
          "output_type": "stream",
          "name": "stdout",
          "text": [
            "Histogram counts:  [ 96  99 109  98 101 106  87 108 102  94]\n",
            "Bin edges:  [  24.  1017.5 2011.  3004.5 3998.  4991.5 5985.  6978.5 7972.  8965.5\n",
            " 9959. ]\n"
          ]
        },
        {
          "output_type": "display_data",
          "data": {
            "text/plain": [
              "<Figure size 640x480 with 1 Axes>"
            ],
            "image/png": "[encoded data removed]"
          },
          "metadata": {}
        }
      ]
    },
    {
      "cell_type": "code",
      "source": [
        "import numpy as np\n",
        "import matplotlib.pyplot as plt\n",
        "# Generate an array of random integers (e.g., 1000 integers)\n",
        "data = np.random.randn(10)\n",
        "print(data)\n"
      ],
      "metadata": {
        "colab": {
          "base_uri": "https://localhost:8080/"
        },
        "id": "u3UC4ov9DIcG",
        "outputId": "781ee403-9d92-4302-fb1e-f201d9f4ad45"
      },
      "execution_count": null,
      "outputs": [
        {
          "output_type": "stream",
          "name": "stdout",
          "text": [
            "[ 1.51397089 -1.03680318 -0.09812175 -1.29217531 -1.12353098  1.49939375\n",
            " -1.88419197  2.20119386 -0.73610769 -1.02288899]\n"
          ]
        }
      ]
    },
    {
      "cell_type": "code",
      "source": [
        "import pandas as pd\n",
        "import numpy as np\n",
        "\n",
        "# Load dataset using pandas\n",
        "df = pd.read_csv('FirstDataset.csv')\n",
        "\n",
        "# Convert DataFrame to NumPy array\n",
        "dataset = df.to_numpy()\n",
        "print(dataset)\n",
        "\n",
        "\n"
      ],
      "metadata": {
        "id": "sHcCWe8tDIZs",
        "colab": {
          "base_uri": "https://localhost:8080/"
        },
        "outputId": "80080f4c-2b20-468f-e43f-d85af5e409b6"
      },
      "execution_count": null,
      "outputs": [
        {
          "output_type": "stream",
          "name": "stdout",
          "text": [
            "[['Spain' 25.0 35000.0 'Yes']\n",
            " ['Germany' 30.0 24330.0 'No']\n",
            " ['France' 43.0 45000.0 'Yes']\n",
            " ['Germany' 34.0 78500.0 'Yes']\n",
            " ['Spain' nan 55000.0 'No']\n",
            " ['France' 35.0 35000.0 'No']\n",
            " ['Spain' 56.0 nan 'Yes']\n",
            " ['Germany' 34.0 40000.0 'No']\n",
            " ['Germany' 42.0 50000.0 'Yes']\n",
            " ['France' 45.0 25000.0 'No']]\n"
          ]
        }
      ]
    },
    {
      "cell_type": "code",
      "source": [
        "import pandas as pd\n",
        "import numpy as np\n",
        "\n",
        "# Load dataset using pandas\n",
        "df = pd.read_csv('FirstDataset.csv')\n",
        "\n",
        "# Convert DataFrame to NumPy array\n",
        "dataset = df.to_numpy()\n",
        "print(dataset)\n",
        "\n",
        "# Use NumPy array slicing instead of .iloc\n",
        "X = dataset[:, :-1]  # Select all rows and all columns except the last one\n",
        "y = dataset[:, 3]    # Select all rows and the 4th column (index 3)\n",
        "\n",
        "# Make sure 'SimpleImputer' is imported correctly\n",
        "from sklearn.impute import SimpleImputer\n",
        "imputer = SimpleImputer(missing_values=np.nan, strategy='mean')\n",
        "imputer = imputer.fit(X[:, 1:3])\n",
        "X[:, 1:3] = imputer.transform(X[:, 1:3])\n",
        "\n",
        "print(X)"
      ],
      "metadata": {
        "id": "8pXzVf1_A1ut",
        "colab": {
          "base_uri": "https://localhost:8080/"
        },
        "outputId": "48234429-998c-4cea-cd05-170cbb813259"
      },
      "execution_count": null,
      "outputs": [
        {
          "output_type": "stream",
          "name": "stdout",
          "text": [
            "[['Spain' 25.0 35000.0 'Yes']\n",
            " ['Germany' 30.0 24330.0 'No']\n",
            " ['France' 43.0 45000.0 'Yes']\n",
            " ['Germany' 34.0 78500.0 'Yes']\n",
            " ['Spain' nan 55000.0 'No']\n",
            " ['France' 35.0 35000.0 'No']\n",
            " ['Spain' 56.0 nan 'Yes']\n",
            " ['Germany' 34.0 40000.0 'No']\n",
            " ['Germany' 42.0 50000.0 'Yes']\n",
            " ['France' 45.0 25000.0 'No']]\n",
            "[['Spain' 25.0 35000.0]\n",
            " ['Germany' 30.0 24330.0]\n",
            " ['France' 43.0 45000.0]\n",
            " ['Germany' 34.0 78500.0]\n",
            " ['Spain' 38.22222222222222 55000.0]\n",
            " ['France' 35.0 35000.0]\n",
            " ['Spain' 56.0 43092.22222222222]\n",
            " ['Germany' 34.0 40000.0]\n",
            " ['Germany' 42.0 50000.0]\n",
            " ['France' 45.0 25000.0]]\n"
          ]
        }
      ]
    },
    {
      "cell_type": "code",
      "source": [
        "import numpy as np\n",
        "from sklearn.preprocessing import LabelEncoder, OneHotEncoder\n",
        "\n",
        "# Select the first column (countries) from X and reshape it\n",
        "countries = X[:, 0].reshape(-1, 1)\n",
        "\n",
        "encoder = OneHotEncoder(sparse_output=False, handle_unknown='ignore') # sparse=False for numpy array output, handle_unknown='ignore' for unseen values in test data\n",
        "encoded_countries = encoder.fit_transform(countries)\n",
        "X_encoded = np.concatenate((encoded_countries, X[:, 1:]), axis=1)\n",
        "print(\"Encoded dataset:\")\n",
        "print(X_encoded)\n",
        "\n",
        "labelencoder_y = LabelEncoder()\n",
        "y = labelencoder_y.fit_transform(y)\n",
        "print(y)\n",
        "\n",
        "from sklearn.model_selection import train_test_split\n",
        "X_train, X_test, y_train, y_test = train_test_split(X_encoded, y, test_size=0.2, random_state=0)"
      ],
      "metadata": {
        "id": "yRXbb5O-A1r-",
        "colab": {
          "base_uri": "https://localhost:8080/"
        },
        "outputId": "2b4e11a3-d54c-4255-c47e-d8ff0f0b44cc"
      },
      "execution_count": null,
      "outputs": [
        {
          "output_type": "stream",
          "name": "stdout",
          "text": [
            "Encoded dataset:\n",
            "[[0.0 0.0 1.0 25.0 35000.0]\n",
            " [0.0 1.0 0.0 30.0 24330.0]\n",
            " [1.0 0.0 0.0 43.0 45000.0]\n",
            " [0.0 1.0 0.0 34.0 78500.0]\n",
            " [0.0 0.0 1.0 38.22222222222222 55000.0]\n",
            " [1.0 0.0 0.0 35.0 35000.0]\n",
            " [0.0 0.0 1.0 56.0 43092.22222222222]\n",
            " [0.0 1.0 0.0 34.0 40000.0]\n",
            " [0.0 1.0 0.0 42.0 50000.0]\n",
            " [1.0 0.0 0.0 45.0 25000.0]]\n",
            "[1 0 1 1 0 0 1 0 1 0]\n"
          ]
        }
      ]
    },
    {
      "cell_type": "code",
      "source": [],
      "metadata": {
        "id": "yVvsq0rMXXnk"
      },
      "execution_count": null,
      "outputs": []
    },
    {
      "cell_type": "code",
      "source": [],
      "metadata": {
        "id": "lgsWW21lXXlN"
      },
      "execution_count": null,
      "outputs": []
    },
    {
      "cell_type": "code",
      "source": [],
      "metadata": {
        "id": "WZf3OxYWXXid"
      },
      "execution_count": null,
      "outputs": []
    },
    {
      "cell_type": "code",
      "source": [],
      "metadata": {
        "id": "qkujO28VA1RO"
      },
      "execution_count": null,
      "outputs": []
    }
  ]
}