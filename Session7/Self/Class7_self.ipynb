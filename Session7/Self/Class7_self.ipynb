{
  "nbformat": 4,
  "nbformat_minor": 0,
  "metadata": {
    "colab": {
      "provenance": []
    },
    "kernelspec": {
      "name": "python3",
      "display_name": "Python 3"
    },
    "language_info": {
      "name": "python"
    }
  },
  "cells": [
    {
      "cell_type": "markdown",
      "source": [
        "**Session 7: Numpy Fundamentals**\n",
        "\n",
        "* Numpy Theory\n",
        "* Numpy array\n",
        "* Matrix in numpy\n",
        "* Numpy array attributes\n",
        "* Array operations\n",
        "* Scalar and Vector operations\n",
        "* Numpy array functions\n",
        "    * Dot product\n",
        "    * Log, exp, mean, median, std, prod, min, max, trigo, variance, ceil, floor, slicing, iteration\n",
        "* Reshaping"
      ],
      "metadata": {
        "id": "oRnD387o0hbg"
      }
    },
    {
      "cell_type": "markdown",
      "source": [
        "# 1. NumPy Theory"
      ],
      "metadata": {
        "id": "qBJsq_4P0tkI"
      }
    },
    {
      "cell_type": "markdown",
      "source": [
        "NumPy (Numerical Python) is a powerful library for numerical computing in Python. It provides:\n",
        "\n",
        "* Efficient storage and manipulation of numerical arrays and matrices.\n",
        "* Functions for mathematical, statistical, and linear algebra operations.\n",
        "* Tools for handling large datasets.\n",
        "\n",
        "** Key advantages: **\n",
        "\n",
        "* Faster than Python lists due to its C-based implementation.\n",
        "* Requires less memory for large datasets.\n",
        "* Supports broadcasting for operations between arrays of different shapes."
      ],
      "metadata": {
        "id": "XaS_O8LR0xW-"
      }
    },
    {
      "cell_type": "markdown",
      "source": [
        "# 2. NumPy Array"
      ],
      "metadata": {
        "id": "n8q1kjXG1Mq4"
      }
    },
    {
      "cell_type": "code",
      "source": [
        "import numpy as np\n",
        "\n",
        "# Creating a 1D array\n",
        "array_1d = np.array([1, 2, 3, 4])\n",
        "print(\"1D Array:\", array_1d)\n",
        "\n",
        "# Creating a 2D array\n",
        "array_2d = np.array([[1, 2, 3], [4, 5, 6]])\n",
        "print(\"2D Array:\\n\", array_2d)\n",
        "\n",
        "# Creating a 3D array\n",
        "array_3d = np.array([[[1, 2], [3, 4]], [[5, 6], [7, 8]]])\n",
        "print(\"3D Array:\\n\", array_3d)\n"
      ],
      "metadata": {
        "colab": {
          "base_uri": "https://localhost:8080/"
        },
        "id": "4oc3Kqfez4Qv",
        "outputId": "2f6e84d0-4bd8-4d8c-a0fd-0ec3ab7a74bd"
      },
      "execution_count": 1,
      "outputs": [
        {
          "output_type": "stream",
          "name": "stdout",
          "text": [
            "1D Array: [1 2 3 4]\n",
            "2D Array:\n",
            " [[1 2 3]\n",
            " [4 5 6]]\n",
            "3D Array:\n",
            " [[[1 2]\n",
            "  [3 4]]\n",
            "\n",
            " [[5 6]\n",
            "  [7 8]]]\n"
          ]
        }
      ]
    },
    {
      "cell_type": "markdown",
      "source": [
        "# 3. Matrix in NumPy"
      ],
      "metadata": {
        "id": "ZhAubg-h1Uw_"
      }
    },
    {
      "cell_type": "code",
      "source": [
        "# Using numpy array for matrices\n",
        "matrix = np.array([[1, 2], [3, 4]])\n",
        "print(\"Matrix:\\n\", matrix)\n"
      ],
      "metadata": {
        "colab": {
          "base_uri": "https://localhost:8080/"
        },
        "id": "fkcru1yvz4OP",
        "outputId": "1d9ebfe2-26b3-4d42-f78f-c9cd55fe35d1"
      },
      "execution_count": 2,
      "outputs": [
        {
          "output_type": "stream",
          "name": "stdout",
          "text": [
            "Matrix:\n",
            " [[1 2]\n",
            " [3 4]]\n"
          ]
        }
      ]
    },
    {
      "cell_type": "markdown",
      "source": [
        "# 4. NumPy Array Attribute"
      ],
      "metadata": {
        "id": "syY6a5pG1rBn"
      }
    },
    {
      "cell_type": "markdown",
      "source": [
        "![Screenshot 2024-12-29 203339.png](data:image/png;base64,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)"
      ],
      "metadata": {
        "id": "AEqlXZDr1k6w"
      }
    },
    {
      "cell_type": "code",
      "source": [
        "array = np.array([[1, 2], [3, 4]])\n",
        "\n",
        "print(\"Number of dimensions:\", array.ndim)\n",
        "print(\"Shape:\", array.shape)\n",
        "print(\"Size:\", array.size)\n",
        "print(\"Data type:\", array.dtype)\n",
        "print(\"Item size (bytes):\", array.itemsize)\n"
      ],
      "metadata": {
        "colab": {
          "base_uri": "https://localhost:8080/"
        },
        "id": "5lR7gekrz4Ln",
        "outputId": "e7ce3f1d-ac0c-420e-8767-1dc2dc8bde66"
      },
      "execution_count": 3,
      "outputs": [
        {
          "output_type": "stream",
          "name": "stdout",
          "text": [
            "Number of dimensions: 2\n",
            "Shape: (2, 2)\n",
            "Size: 4\n",
            "Data type: int64\n",
            "Item size (bytes): 8\n"
          ]
        }
      ]
    },
    {
      "cell_type": "markdown",
      "source": [
        "# 5. Array Operations"
      ],
      "metadata": {
        "id": "oObmBJvx112_"
      }
    },
    {
      "cell_type": "markdown",
      "source": [
        "# Example: Element-wise Operations"
      ],
      "metadata": {
        "id": "Dm41yBmQ2KE_"
      }
    },
    {
      "cell_type": "code",
      "source": [
        "a=np.array([1,2,3])\n",
        "b=np.array([4,5,6])\n",
        "\n",
        "# Addition\n",
        "print(\"Addition:\", a+b)\n",
        "\n",
        "# Multiplication\n",
        "print(\"Multiplication:\", a*b)"
      ],
      "metadata": {
        "colab": {
          "base_uri": "https://localhost:8080/"
        },
        "id": "HQORDDDrz4JO",
        "outputId": "e4bed8e7-06a0-4054-82f4-40e68d739de5"
      },
      "execution_count": 4,
      "outputs": [
        {
          "output_type": "stream",
          "name": "stdout",
          "text": [
            "Addition: [5 7 9]\n",
            "Multiplication: [ 4 10 18]\n"
          ]
        }
      ]
    },
    {
      "cell_type": "markdown",
      "source": [
        "# Example: Aggregate Operations"
      ],
      "metadata": {
        "id": "Ucis1nIh2Pen"
      }
    },
    {
      "cell_type": "code",
      "source": [
        "array=np.array([[1,2], [3,4]])\n",
        "\n",
        "# Sum\n",
        "print(\"Sum:\", array.sum())\n",
        "\n",
        "# Mean\n",
        "print(\"Mean:\", array.mean())"
      ],
      "metadata": {
        "colab": {
          "base_uri": "https://localhost:8080/"
        },
        "id": "nEefOkeCz4HH",
        "outputId": "bbed811f-4b20-48d1-ac6e-ca356a7e4cb9"
      },
      "execution_count": 6,
      "outputs": [
        {
          "output_type": "stream",
          "name": "stdout",
          "text": [
            "Sum: 10\n",
            "Mean: 2.5\n"
          ]
        }
      ]
    },
    {
      "cell_type": "markdown",
      "source": [
        "# 6. Scalar and Vector Operations"
      ],
      "metadata": {
        "id": "r1_MnroN2irf"
      }
    },
    {
      "cell_type": "code",
      "source": [
        "# Scalar Operations\n",
        "array=np.array([1, 2, 3])\n",
        "print(\"Array + 2:\", array+2)\n",
        "\n",
        "# Vector operations\n",
        "vector1=np.array([1, 2, 3])\n",
        "vector2=np.array([4, 5, 6])\n",
        "print(\"Dot product:\", np.dot(vector1, vector2))"
      ],
      "metadata": {
        "colab": {
          "base_uri": "https://localhost:8080/"
        },
        "id": "Hty-b6Fcz4EX",
        "outputId": "b365847b-8184-49d6-b7ea-7da37a08bd6a"
      },
      "execution_count": 7,
      "outputs": [
        {
          "output_type": "stream",
          "name": "stdout",
          "text": [
            "Array + 2: [3 4 5]\n",
            "Dot product: 32\n"
          ]
        }
      ]
    },
    {
      "cell_type": "markdown",
      "source": [
        "# 7. NumPy Array Functions"
      ],
      "metadata": {
        "id": "3mHXrOkm3QMx"
      }
    },
    {
      "cell_type": "markdown",
      "source": [
        "![Screenshot 2024-12-29 204131.png](data:image/png;base64,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)"
      ],
      "metadata": {
        "id": "gReAApcu3YJY"
      }
    },
    {
      "cell_type": "code",
      "execution_count": 8,
      "metadata": {
        "colab": {
          "base_uri": "https://localhost:8080/"
        },
        "id": "uhh2i2Pnz3ZG",
        "outputId": "47362ee2-65d9-447c-b9d6-11ca44a4b170"
      },
      "outputs": [
        {
          "output_type": "stream",
          "name": "stdout",
          "text": [
            "Log: [0.         0.69314718 1.09861229 1.38629436]\n",
            "Exp: [ 2.71828183  7.3890561  20.08553692 54.59815003]\n",
            "Mean: 2.5\n",
            "Median: 2.5\n",
            "Standard Deviation: 1.118033988749895\n",
            "Variance: 1.25\n",
            "Ceil: [2. 3.]\n",
            "Floor: [1. 2.]\n"
          ]
        }
      ],
      "source": [
        "array=np.array([1,2,3,4])\n",
        "\n",
        "print(\"Log:\", np.log(array))\n",
        "print(\"Exp:\", np.exp(array))\n",
        "print(\"Mean:\", np.mean(array))\n",
        "print(\"Median:\", np.median(array))\n",
        "print(\"Standard Deviation:\", np.std(array))\n",
        "print(\"Variance:\", np.var(array))\n",
        "print(\"Ceil:\", np.ceil([1.2, 2.5]))\n",
        "print(\"Floor:\", np.floor([1.2, 2.5]))\n"
      ]
    },
    {
      "cell_type": "markdown",
      "source": [
        "# 8. Trigonometric Operations"
      ],
      "metadata": {
        "id": "8fHBqMqi4e24"
      }
    },
    {
      "cell_type": "code",
      "source": [
        "angles=np.array([0, np.pi/ 2, np.pi])\n",
        "print(\"Sine:\", np.sin(angles))\n",
        "print(\"Cosine:\", np.cos(angles))"
      ],
      "metadata": {
        "colab": {
          "base_uri": "https://localhost:8080/"
        },
        "id": "bjIm9Zjm100g",
        "outputId": "f6189427-f024-4e23-d48c-62e98b084c0d"
      },
      "execution_count": 10,
      "outputs": [
        {
          "output_type": "stream",
          "name": "stdout",
          "text": [
            "Sine: [0.0000000e+00 1.0000000e+00 1.2246468e-16]\n",
            "Cosine: [ 1.000000e+00  6.123234e-17 -1.000000e+00]\n"
          ]
        }
      ]
    },
    {
      "cell_type": "markdown",
      "source": [
        "# 9. Array Slicing"
      ],
      "metadata": {
        "id": "k7vRjPUt40yf"
      }
    },
    {
      "cell_type": "code",
      "source": [
        "array=np.array([1, 2, 3, 4, 5])\n",
        "\n",
        "# slice first three elements\n",
        "print(\"slice:\", array[:3])\n",
        "\n",
        "# 2D slicing\n",
        "array_2d=np.array([[1, 2], [3, 4], [4, 5]])\n",
        "print(\"First row:\", array_2d[0, :])"
      ],
      "metadata": {
        "colab": {
          "base_uri": "https://localhost:8080/"
        },
        "id": "fMKA0aFj2qfP",
        "outputId": "a9e5e541-6ad2-462b-ed6d-a4bdac28902d"
      },
      "execution_count": 11,
      "outputs": [
        {
          "output_type": "stream",
          "name": "stdout",
          "text": [
            "slice: [1 2 3]\n",
            "First row: [1 2]\n"
          ]
        }
      ]
    },
    {
      "cell_type": "markdown",
      "source": [
        "# 10. Iteration"
      ],
      "metadata": {
        "id": "k0lnKJlM5e3Y"
      }
    },
    {
      "cell_type": "code",
      "source": [
        "array=np.array([1, 2, 3])\n",
        "\n",
        "for x in array:\n",
        "  print(x)"
      ],
      "metadata": {
        "colab": {
          "base_uri": "https://localhost:8080/"
        },
        "id": "gVtdXhms2qdX",
        "outputId": "d5e7b577-1c14-4cd2-a01e-c3ccb25650cc"
      },
      "execution_count": 12,
      "outputs": [
        {
          "output_type": "stream",
          "name": "stdout",
          "text": [
            "1\n",
            "2\n",
            "3\n"
          ]
        }
      ]
    },
    {
      "cell_type": "markdown",
      "source": [
        "# 11. Reshaping"
      ],
      "metadata": {
        "id": "GReHyX0P5qzw"
      }
    },
    {
      "cell_type": "code",
      "source": [
        "array=np.array([1, 2, 3, 4, 5, 6])\n",
        "\n",
        "# Reshape to 2*3\n",
        "reshaped=array.reshape(2, 3)\n",
        "print(\"Reshaped: \\n\", reshaped)\n",
        "\n",
        "# Flatten back to 1D\n",
        "flattened=reshaped.flatten()\n",
        "print(\"Flattened: \", flattened)"
      ],
      "metadata": {
        "colab": {
          "base_uri": "https://localhost:8080/"
        },
        "id": "BDDEA7Cm2qa3",
        "outputId": "93144b96-4ad9-49d3-d523-9f7f38669741"
      },
      "execution_count": 13,
      "outputs": [
        {
          "output_type": "stream",
          "name": "stdout",
          "text": [
            "Reshaped: \n",
            " [[1 2 3]\n",
            " [4 5 6]]\n",
            "Flattened:  [1 2 3 4 5 6]\n"
          ]
        }
      ]
    }
  ]
}