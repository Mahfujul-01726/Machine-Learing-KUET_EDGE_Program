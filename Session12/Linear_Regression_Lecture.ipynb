{
  "nbformat": 4,
  "nbformat_minor": 5,
  "metadata": {
    "colab": {
      "provenance": []
    },
    "language_info": {
      "name": "python"
    },
    "kernelspec": {
      "name": "python3",
      "display_name": "Python 3"
    }
  },
  "cells": [
    {
      "id": "993455b1",
      "cell_type": "markdown",
      "source": [
        "# Linear Regression with Python\n",
        "---\n",
        "This notebook covers the theory, implementation, and applications of linear regression."
      ],
      "metadata": {
        "id": "993455b1"
      }
    },
    {
      "cell_type": "markdown",
      "source": [
        "### Simple Linear Regression\n",
        "The formula for simple linear regression is:\n",
        "\n",
        "\\[\n",
        "y = \\beta_0 + \\beta_1 x + \\epsilon\n",
        "\\]\n",
        "\n",
        "**Where**:\n",
        "- \\( y \\): Dependent variable (the outcome or target variable).\n",
        "- \\( x \\): Independent variable (the predictor or input variable).\n",
        "- \\( \\beta_0 \\): Intercept (the value of \\( y \\) when \\( x = 0 \\)).\n",
        "- \\( \\beta_1 \\): Slope (the rate of change of \\( y \\) with respect to \\( x \\)).\n",
        "- \\( \\epsilon \\): Error term (captures the deviation of actual values from the predicted line).\n"
      ],
      "metadata": {
        "id": "rzFrevbu--C_"
      },
      "id": "rzFrevbu--C_"
    },
    {
      "id": "cd95ad17",
      "cell_type": "markdown",
      "source": [
        "## Simple Linear Regression\n",
        "This section demonstrates implementing simple linear regression without using external libraries."
      ],
      "metadata": {
        "id": "cd95ad17"
      }
    },
    {
      "id": "379d5806",
      "cell_type": "code",
      "metadata": {
        "colab": {
          "base_uri": "https://localhost:8080/",
          "height": 484
        },
        "id": "379d5806",
        "outputId": "d25fc960-1e58-40f3-efa1-5b7697eb4500"
      },
      "execution_count": null,
      "source": [
        "\n",
        "import numpy as np\n",
        "import matplotlib.pyplot as plt\n",
        "\n",
        "# Generate sample data\n",
        "X = np.array([1, 2, 3, 4, 5])\n",
        "y = np.array([1.2, 2.8, 3.6, 4.5, 5.1])\n",
        "\n",
        "# Calculate coefficients\n",
        "n = len(X)\n",
        "X_mean = np.mean(X)\n",
        "y_mean = np.mean(y)\n",
        "b1 = np.sum((X - X_mean) * (y - y_mean)) / np.sum((X - X_mean) ** 2)\n",
        "b0 = y_mean - b1 * X_mean\n",
        "\n",
        "# Predicted values\n",
        "y_pred = b0 + b1 * X\n",
        "\n",
        "# Plot results\n",
        "plt.scatter(X, y, color='blue', label='Data points')\n",
        "plt.plot(X, y_pred, color='red', label='Regression Line')\n",
        "plt.xlabel('X')\n",
        "plt.ylabel('y')\n",
        "plt.legend()\n",
        "plt.show()\n",
        "\n",
        "print(f\"Intercept (b0): {b0}\")\n",
        "print(f\"Slope (b1): {b1}\")\n"
      ],
      "outputs": [
        {
          "output_type": "display_data",
          "data": {
            "text/plain": [
              "<Figure size 640x480 with 1 Axes>"
            ],
            "image/png": "[encoded data removed]"
          },
          "metadata": {}
        },
        {
          "output_type": "stream",
          "name": "stdout",
          "text": [
            "Intercept (b0): 0.5900000000000003\n",
            "Slope (b1): 0.95\n"
          ]
        }
      ]
    },
    {
      "id": "44f7bbde",
      "cell_type": "markdown",
      "source": [
        "## Simple Linear Regression (Scikit-learn)\n",
        "This section demonstrates implementing simple linear regression using Scikit-learn."
      ],
      "metadata": {
        "id": "44f7bbde"
      }
    },
    {
      "id": "9f62aca5",
      "cell_type": "code",
      "metadata": {
        "colab": {
          "base_uri": "https://localhost:8080/",
          "height": 484
        },
        "id": "9f62aca5",
        "outputId": "8faee704-8e35-4c60-cf6d-9813ffa4d2f4"
      },
      "execution_count": 11,
      "source": [
        "\n",
        "from sklearn.linear_model import LinearRegression\n",
        "import numpy as np\n",
        "import matplotlib.pyplot as plt #pip install matplotlib\n",
        "\n",
        "# Data\n",
        "X = np.array([1, 2, 3, 4, 5]).reshape(-1, 1)\n",
        "y = np.array([1.2, 2.8, 3.6, 4.5, 5.1])\n",
        "\n",
        "# Fit model\n",
        "model = LinearRegression()\n",
        "model.fit(X, y)\n",
        "\n",
        "# Predictions\n",
        "y_pred = model.predict(X)\n",
        "\n",
        "# Plot results\n",
        "plt.scatter(X, y, color='blue', label='Data points')\n",
        "plt.plot(X, y_pred, color='red', label='Regression Line')\n",
        "plt.xlabel('X')\n",
        "plt.ylabel('y')\n",
        "plt.legend()\n",
        "plt.show()\n",
        "\n",
        "print(f\"Intercept: {model.intercept_}\")\n",
        "print(f\"Coefficient: {model.coef_}\")\n"
      ],
      "outputs": [
        {
          "output_type": "display_data",
          "data": {
            "text/plain": [
              "<Figure size 640x480 with 1 Axes>"
            ],
            "image/png": "[encoded data removed]"
          },
          "metadata": {}
        },
        {
          "output_type": "stream",
          "name": "stdout",
          "text": [
            "Intercept: 0.5899999999999999\n",
            "Coefficient: [0.95]\n"
          ]
        }
      ]
    },
    {
      "cell_type": "code",
      "source": [
        "plt.plot(X,y, color='green', label='Fitted')\n",
        "plt.legend()\n",
        "plt.show()"
      ],
      "metadata": {
        "colab": {
          "base_uri": "https://localhost:8080/",
          "height": 430
        },
        "id": "ZK-raT__cI9i",
        "outputId": "3fe18e96-dfd8-4411-a9d8-bf84a93bfbce"
      },
      "id": "ZK-raT__cI9i",
      "execution_count": 9,
      "outputs": [
        {
          "output_type": "display_data",
          "data": {
            "text/plain": [
              "<Figure size 640x480 with 1 Axes>"
            ],
            "image/png": "[encoded data removed]"
          },
          "metadata": {}
        }
      ]
    },
    {
      "id": "8090296a",
      "cell_type": "markdown",
      "source": [
        "## Multiple Linear Regression\n",
        "This section demonstrates implementing multiple linear regression with Scikit-learn."
      ],
      "metadata": {
        "id": "8090296a"
      }
    },
    {
      "cell_type": "markdown",
      "source": [
        "### Multiple Linear Regression\n",
        "The formula for multiple linear regression:\n",
        "\n",
        "\\[\n",
        "y = \\beta_0 + \\beta_1 x_1 + \\beta_2 x_2 + \\ldots + \\beta_p x_p + \\epsilon\n",
        "\\]\n",
        "\n",
        "Where:\n",
        "- \\( y \\): Dependent variable\n",
        "- \\( x_1, x_2, \\ldots, x_p \\): Independent variables\n",
        "- \\( \\beta_0 \\): Intercept\n",
        "- \\( \\beta_1, \\beta_2, \\ldots, \\beta_p \\): Coefficients of predictors\n",
        "- \\( \\epsilon \\): Error term\n"
      ],
      "metadata": {
        "id": "llHZcO5iA6Zl"
      },
      "id": "llHZcO5iA6Zl"
    },
    {
      "cell_type": "markdown",
      "source": [],
      "metadata": {
        "id": "fkrvC_SyA6Eq"
      },
      "id": "fkrvC_SyA6Eq"
    },
    {
      "id": "3aeca0db",
      "cell_type": "code",
      "metadata": {
        "colab": {
          "base_uri": "https://localhost:8080/"
        },
        "id": "3aeca0db",
        "outputId": "982a22ee-f9ae-4370-b9eb-ebfcf61be14d"
      },
      "execution_count": null,
      "source": [
        "\n",
        "from sklearn.linear_model import LinearRegression\n",
        "import numpy as np\n",
        "\n",
        "# Data\n",
        "X = np.array([[1, 2], [2, 3], [3, 5], [4, 6], [5, 8]])\n",
        "y = np.array([1.1, 2.5, 3.8, 4.2, 5.0])\n",
        "\n",
        "# Fit model\n",
        "model = LinearRegression()\n",
        "model.fit(X, y)\n",
        "\n",
        "# Predictions\n",
        "y_pred = model.predict(X)\n",
        "\n",
        "print(\"Intercept:\", model.intercept_)\n",
        "print(\"Coefficients:\", model.coef_)\n",
        "print(\"Predicted values:\", y_pred)\n"
      ],
      "outputs": [
        {
          "output_type": "stream",
          "name": "stdout",
          "text": [
            "Intercept: 0.5000000000000004\n",
            "Coefficients: [ 1.1 -0.1]\n",
            "Predicted values: [1.4 2.4 3.3 4.3 5.2]\n"
          ]
        }
      ]
    },
    {
      "id": "b27f1793",
      "cell_type": "markdown",
      "source": [
        "## Model Evaluation Metrics\n",
        "Evaluate the linear regression model using metrics like R-squared, MAE, MSE, and RMSE."
      ],
      "metadata": {
        "id": "b27f1793"
      }
    },
    {
      "cell_type": "markdown",
      "source": [
        "### Model Evaluation Metrics\n",
        "The following common evaluation metrics are used to assess the performance of a machine learning model:\n",
        "\n",
        "#### Mean Absolute Error (MAE)\n",
        "\\[\n",
        "\\text{MAE} = \\frac{1}{n} \\sum_{i=1}^n |y_i - \\hat{y}_i|\n",
        "\\]\n",
        "Where:\n",
        "- \\(y_i\\): Actual value at data point \\(i\\),\n",
        "- \\(\\hat{y}_i\\): Predicted value at data point \\(i\\),\n",
        "- \\(n\\): Total number of data points.\n",
        "\n",
        "---\n",
        "\n",
        "#### Mean Squared Error (MSE)\n",
        "\\[\n",
        "\\text{MSE} = \\frac{1}{n} \\sum_{i=1}^n (y_i - \\hat{y}_i)^2\n",
        "\\]\n",
        "Where:\n",
        "- \\(y_i\\): Actual value at data point \\(i\\),\n",
        "- \\(\\hat{y}_i\\): Predicted value at data point \\(i\\),\n",
        "- \\(n\\): Total number of data points.\n",
        "\n",
        "---\n",
        "\n",
        "#### Root Mean Squared Error (RMSE)\n",
        "\\[\n",
        "\\text{RMSE} = \\sqrt{\\text{MSE}} = \\sqrt{\\frac{1}{n} \\sum_{i=1}^n (y_i - \\hat{y}_i)^2}\n",
        "\\]\n",
        "\n",
        "---\n",
        "\n",
        "#### R-Squared (\\(R^2\\)) Score\n",
        "\\[\n",
        "R^2 = 1 - \\frac{\\text{SS}_{\\text{res}}}{\\text{SS}_{\\text{tot}}}\n",
        "\\]\n",
        "\n",
        "Where:\n",
        "- \\(\\text{SS}_{\\text{res}} = \\sum (y_i - \\hat{y}_i)^2\\),\n",
        "- \\(\\text{SS}_{\\text{tot}} = \\sum (y_i - \\bar{y})^2\\),\n",
        "- \\(y_i\\): Actual value at data point \\(i\\),\n",
        "- \\(\\hat{y}_i\\): Predicted value at data point \\(i\\),\n",
        "- \\(\\bar{y}\\): Mean of actual values over all data points.\n"
      ],
      "metadata": {
        "id": "1mAWHWLFBfdm"
      },
      "id": "1mAWHWLFBfdm"
    },
    {
      "id": "81f2597f",
      "cell_type": "code",
      "metadata": {
        "id": "81f2597f"
      },
      "execution_count": null,
      "source": [
        "\n",
        "from sklearn.metrics import mean_absolute_error, mean_squared_error, r2_score\n",
        "\n",
        "# Evaluate model\n",
        "mae = mean_absolute_error(y, y_pred)\n",
        "mse = mean_squared_error(y, y_pred)\n",
        "rmse = np.sqrt(mse)\n",
        "r2 = r2_score(y, y_pred)\n",
        "\n",
        "print(f\"MAE: {mae}\")\n",
        "print(f\"MSE: {mse}\")\n",
        "print(f\"RMSE: {rmse}\")\n",
        "print(f\"R-squared: {r2}\")\n"
      ],
      "outputs": []
    },
    {
      "id": "7f00decf",
      "cell_type": "markdown",
      "source": [
        "## Case Study: Predicting Material Strength\n",
        "This section uses a dataset to predict material strength using multiple linear regression."
      ],
      "metadata": {
        "id": "7f00decf"
      }
    },
    {
      "id": "39871666",
      "cell_type": "code",
      "metadata": {
        "id": "39871666"
      },
      "execution_count": null,
      "source": [
        "\n",
        "import pandas as pd\n",
        "from sklearn.model_selection import train_test_split\n",
        "from sklearn.linear_model import LinearRegression\n",
        "from sklearn.metrics import r2_score\n",
        "\n",
        "# Load dataset\n",
        "data = pd.DataFrame({\n",
        "    'Composition_A': [0.2, 0.4, 0.6, 0.8, 1.0],\n",
        "    'Composition_B': [0.3, 0.1, 0.7, 0.5, 0.2],\n",
        "    'Strength': [50, 55, 65, 70, 80]\n",
        "})\n",
        "\n",
        "X = data[['Composition_A', 'Composition_B']]\n",
        "y = data['Strength']\n",
        "\n",
        "# Split data\n",
        "X_train, X_test, y_train, y_test = train_test_split(X, y, test_size=0.2, random_state=42)\n",
        "\n",
        "# Train model\n",
        "model = LinearRegression()\n",
        "model.fit(X_train, y_train)\n",
        "\n",
        "# Predictions\n",
        "y_pred = model.predict(X_test)\n",
        "\n",
        "# Evaluate\n",
        "r2 = r2_score(y_test, y_pred)\n",
        "print(f\"R-squared: {r2}\")\n"
      ],
      "outputs": []
    },
    {
      "cell_type": "code",
      "source": [
        "import numpy as np\n",
        "import matplotlib.pyplot as plt\n",
        "from sklearn.linear_model import LinearRegression\n",
        "from sklearn.metrics import mean_absolute_error, mean_squared_error, r2_score\n",
        "import pandas as pd\n",
        "from sklearn.model_selection import train_test_split\n",
        "from sklearn.metrics import r2_score\n",
        "from google.colab import files\n",
        "\n",
        "## Upload a file\n",
        "uploaded = files.upload()\n",
        "\n",
        "\n",
        "# List of uploaded files\n",
        "file_name = list(uploaded.keys())[0]  # Get the uploaded file name\n",
        "\n",
        "# Read CSV file\n",
        "data = pd.read_csv(file_name)\n",
        "\n",
        "# Simple Linear Regression (TV vs Sales)\n",
        "X = data[['TV']]\n",
        "y = data['Sales']\n",
        "X_train, X_test, y_train, y_test = train_test_split(X, y, test_size=0.2, random_state=42)\n",
        "\n",
        "model_simple = LinearRegression()\n",
        "model_simple.fit(X_train, y_train)\n",
        "y_pred_simple = model_simple.predict(X_test)\n",
        "\n",
        "print(\"Simple Linear Regression (TV vs Sales)\")\n",
        "print(f\"Intercept: {model_simple.intercept_}\")\n",
        "print(f\"Coefficient: {model_simple.coef_}\")\n",
        "print(f\"R-squared: {r2_score(y_test, y_pred_simple)}\")\n",
        "\n",
        "plt.scatter(X_test, y_test, color='blue', label='Data points')\n",
        "plt.plot(X_test, y_pred_simple, color='red', label='Regression Line')\n",
        "plt.xlabel('TV Advertising')\n",
        "plt.ylabel('Sales')\n",
        "plt.legend()\n",
        "plt.title('Simple Linear Regression')\n",
        "plt.show()\n",
        "\n",
        "\n",
        "# Multiple Linear Regression (TV, Radio, Newspaper vs Sales)\n",
        "X = data[['TV', 'Radio', 'Newspaper']]\n",
        "y = data['Sales']\n",
        "X_train, X_test, y_train, y_test = train_test_split(X, y, test_size=0.2, random_state=42)\n",
        "\n",
        "model_multiple = LinearRegression()\n",
        "model_multiple.fit(X_train, y_train)\n",
        "y_pred_multiple = model_multiple.predict(X_test)\n",
        "\n",
        "print(\"\\nMultiple Linear Regression (TV, Radio, Newspaper vs Sales)\")\n",
        "print(\"Intercept:\", model_multiple.intercept_)\n",
        "print(\"Coefficients:\", model_multiple.coef_)\n",
        "print(f\"R-squared: {r2_score(y_test, y_pred_multiple)}\")\n"
      ],
      "metadata": {
        "colab": {
          "base_uri": "https://localhost:8080/",
          "height": 684
        },
        "id": "bE0kBZq9RxGP",
        "outputId": "23dbb01b-db4a-4038-bb47-d5459699f6b5"
      },
      "id": "bE0kBZq9RxGP",
      "execution_count": null,
      "outputs": [
        {
          "output_type": "display_data",
          "data": {
            "text/plain": [
              "<IPython.core.display.HTML object>"
            ],
            "text/html": [
              "\n",
              "     <input type=\"file\" id=\"files-ecd9f716-42e5-4dc3-ba76-0123afd910e7\" name=\"files[]\" multiple disabled\n",
              "        style=\"border:none\" />\n",
              "     <output id=\"result-ecd9f716-42e5-4dc3-ba76-0123afd910e7\">\n",
              "      Upload widget is only available when the cell has been executed in the\n",
              "      current browser session. Please rerun this cell to enable.\n",
              "      </output>\n",
              "      <script>// Copyright 2017 Google LLC\n",
              "//\n",
              "// Licensed under the Apache License, Version 2.0 (the \"License\");\n",
              "// you may not use this file except in compliance with the License.\n",
              "// You may obtain a copy of the License at\n",
              "//\n",
              "//      http://www.apache.org/licenses/LICENSE-2.0\n",
              "//\n",
              "// Unless required by applicable law or agreed to in writing, software\n",
              "// distributed under the License is distributed on an \"AS IS\" BASIS,\n",
              "// WITHOUT WARRANTIES OR CONDITIONS OF ANY KIND, either express or implied.\n",
              "// See the License for the specific language governing permissions and\n",
              "// limitations under the License.\n",
              "\n",
              "/**\n",
              " * @fileoverview Helpers for google.colab Python module.\n",
              " */\n",
              "(function(scope) {\n",
              "function span(text, styleAttributes = {}) {\n",
              "  const element = document.createElement('span');\n",
              "  element.textContent = text;\n",
              "  for (const key of Object.keys(styleAttributes)) {\n",
              "    element.style[key] = styleAttributes[key];\n",
              "  }\n",
              "  return element;\n",
              "}\n",
              "\n",
              "// Max number of bytes which will be uploaded at a time.\n",
              "const MAX_PAYLOAD_SIZE = 100 * 1024;\n",
              "\n",
              "function _uploadFiles(inputId, outputId) {\n",
              "  const steps = uploadFilesStep(inputId, outputId);\n",
              "  const outputElement = document.getElementById(outputId);\n",
              "  // Cache steps on the outputElement to make it available for the next call\n",
              "  // to uploadFilesContinue from Python.\n",
              "  outputElement.steps = steps;\n",
              "\n",
              "  return _uploadFilesContinue(outputId);\n",
              "}\n",
              "\n",
              "// This is roughly an async generator (not supported in the browser yet),\n",
              "// where there are multiple asynchronous steps and the Python side is going\n",
              "// to poll for completion of each step.\n",
              "// This uses a Promise to block the python side on completion of each step,\n",
              "// then passes the result of the previous step as the input to the next step.\n",
              "function _uploadFilesContinue(outputId) {\n",
              "  const outputElement = document.getElementById(outputId);\n",
              "  const steps = outputElement.steps;\n",
              "\n",
              "  const next = steps.next(outputElement.lastPromiseValue);\n",
              "  return Promise.resolve(next.value.promise).then((value) => {\n",
              "    // Cache the last promise value to make it available to the next\n",
              "    // step of the generator.\n",
              "    outputElement.lastPromiseValue = value;\n",
              "    return next.value.response;\n",
              "  });\n",
              "}\n",
              "\n",
              "/**\n",
              " * Generator function which is called between each async step of the upload\n",
              " * process.\n",
              " * @param {string} inputId Element ID of the input file picker element.\n",
              " * @param {string} outputId Element ID of the output display.\n",
              " * @return {!Iterable<!Object>} Iterable of next steps.\n",
              " */\n",
              "function* uploadFilesStep(inputId, outputId) {\n",
              "  const inputElement = document.getElementById(inputId);\n",
              "  inputElement.disabled = false;\n",
              "\n",
              "  const outputElement = document.getElementById(outputId);\n",
              "  outputElement.innerHTML = '';\n",
              "\n",
              "  const pickedPromise = new Promise((resolve) => {\n",
              "    inputElement.addEventListener('change', (e) => {\n",
              "      resolve(e.target.files);\n",
              "    });\n",
              "  });\n",
              "\n",
              "  const cancel = document.createElement('button');\n",
              "  inputElement.parentElement.appendChild(cancel);\n",
              "  cancel.textContent = 'Cancel upload';\n",
              "  const cancelPromise = new Promise((resolve) => {\n",
              "    cancel.onclick = () => {\n",
              "      resolve(null);\n",
              "    };\n",
              "  });\n",
              "\n",
              "  // Wait for the user to pick the files.\n",
              "  const files = yield {\n",
              "    promise: Promise.race([pickedPromise, cancelPromise]),\n",
              "    response: {\n",
              "      action: 'starting',\n",
              "    }\n",
              "  };\n",
              "\n",
              "  cancel.remove();\n",
              "\n",
              "  // Disable the input element since further picks are not allowed.\n",
              "  inputElement.disabled = true;\n",
              "\n",
              "  if (!files) {\n",
              "    return {\n",
              "      response: {\n",
              "        action: 'complete',\n",
              "      }\n",
              "    };\n",
              "  }\n",
              "\n",
              "  for (const file of files) {\n",
              "    const li = document.createElement('li');\n",
              "    li.append(span(file.name, {fontWeight: 'bold'}));\n",
              "    li.append(span(\n",
              "        `(${file.type || 'n/a'}) - ${file.size} bytes, ` +\n",
              "        `last modified: ${\n",
              "            file.lastModifiedDate ? file.lastModifiedDate.toLocaleDateString() :\n",
              "                                    'n/a'} - `));\n",
              "    const percent = span('0% done');\n",
              "    li.appendChild(percent);\n",
              "\n",
              "    outputElement.appendChild(li);\n",
              "\n",
              "    const fileDataPromise = new Promise((resolve) => {\n",
              "      const reader = new FileReader();\n",
              "      reader.onload = (e) => {\n",
              "        resolve(e.target.result);\n",
              "      };\n",
              "      reader.readAsArrayBuffer(file);\n",
              "    });\n",
              "    // Wait for the data to be ready.\n",
              "    let fileData = yield {\n",
              "      promise: fileDataPromise,\n",
              "      response: {\n",
              "        action: 'continue',\n",
              "      }\n",
              "    };\n",
              "\n",
              "    // Use a chunked sending to avoid message size limits. See b/62115660.\n",
              "    let position = 0;\n",
              "    do {\n",
              "      const length = Math.min(fileData.byteLength - position, MAX_PAYLOAD_SIZE);\n",
              "      const chunk = new Uint8Array(fileData, position, length);\n",
              "      position += length;\n",
              "\n",
              "      const base64 = btoa(String.fromCharCode.apply(null, chunk));\n",
              "      yield {\n",
              "        response: {\n",
              "          action: 'append',\n",
              "          file: file.name,\n",
              "          data: base64,\n",
              "        },\n",
              "      };\n",
              "\n",
              "      let percentDone = fileData.byteLength === 0 ?\n",
              "          100 :\n",
              "          Math.round((position / fileData.byteLength) * 100);\n",
              "      percent.textContent = `${percentDone}% done`;\n",
              "\n",
              "    } while (position < fileData.byteLength);\n",
              "  }\n",
              "\n",
              "  // All done.\n",
              "  yield {\n",
              "    response: {\n",
              "      action: 'complete',\n",
              "    }\n",
              "  };\n",
              "}\n",
              "\n",
              "scope.google = scope.google || {};\n",
              "scope.google.colab = scope.google.colab || {};\n",
              "scope.google.colab._files = {\n",
              "  _uploadFiles,\n",
              "  _uploadFilesContinue,\n",
              "};\n",
              "})(self);\n",
              "</script> "
            ]
          },
          "metadata": {}
        },
        {
          "output_type": "stream",
          "name": "stdout",
          "text": [
            "Saving Advertising.csv to Advertising.csv\n",
            "Simple Linear Regression (TV vs Sales)\n",
            "Intercept: 7.119638430592953\n",
            "Coefficient: [0.04652973]\n",
            "R-squared: 0.6766954295627076\n"
          ]
        },
        {
          "output_type": "display_data",
          "data": {
            "text/plain": [
              "<Figure size 640x480 with 1 Axes>"
            ],
            "image/png": "[encoded data removed]"
          },
          "metadata": {}
        },
        {
          "output_type": "stream",
          "name": "stdout",
          "text": [
            "\n",
            "Multiple Linear Regression (TV, Radio, Newspaper vs Sales)\n",
            "Intercept: 2.979067338122629\n",
            "Coefficients: [0.04472952 0.18919505 0.00276111]\n",
            "R-squared: 0.899438024100912\n"
          ]
        }
      ]
    },
    {
      "cell_type": "code",
      "source": [
        "print(list(uploaded.keys())[0])\n",
        "print(list(data.columns)[1])"
      ],
      "metadata": {
        "colab": {
          "base_uri": "https://localhost:8080/"
        },
        "id": "VUlnxGqXyScu",
        "outputId": "e1d32d66-f928-4b11-ab2a-c3d51aba0017"
      },
      "id": "VUlnxGqXyScu",
      "execution_count": null,
      "outputs": [
        {
          "output_type": "stream",
          "name": "stdout",
          "text": [
            "Advertising.csv\n",
            "TV\n"
          ]
        }
      ]
    }
  ]
}