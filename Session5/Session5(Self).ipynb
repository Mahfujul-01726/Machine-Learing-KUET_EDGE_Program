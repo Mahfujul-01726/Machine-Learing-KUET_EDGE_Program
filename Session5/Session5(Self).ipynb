{
  "nbformat": 4,
  "nbformat_minor": 0,
  "metadata": {
    "colab": {
      "provenance": []
    },
    "kernelspec": {
      "name": "python3",
      "display_name": "Python 3"
    },
    "language_info": {
      "name": "python"
    }
  },
  "cells": [
    {
      "cell_type": "markdown",
      "source": [
        "# Tuples+ Set+ Dictionary"
      ],
      "metadata": {
        "id": "1NLccASOimWm"
      }
    },
    {
      "cell_type": "markdown",
      "source": [
        "# Tuples"
      ],
      "metadata": {
        "id": "uxHJC0DhithO"
      }
    },
    {
      "cell_type": "markdown",
      "source": [
        "#1. Create and Access a Tuple"
      ],
      "metadata": {
        "id": "OSmg4eaIhJyV"
      }
    },
    {
      "cell_type": "code",
      "source": [
        "# Creating a tuple\n",
        "my_tuple = (1, 2, 3, \"Python\", 4.5)\n",
        "\n",
        "# Accessing elements\n",
        "print(my_tuple[0])  # Output: 1 (Indexing)\n",
        "print(my_tuple[-1]) # Output: 4.5 (Negative Indexing)\n",
        "print(my_tuple[1:4]) # Output: (2, 3, 'Python') (Slicing)\n"
      ],
      "metadata": {
        "colab": {
          "base_uri": "https://localhost:8080/"
        },
        "id": "uG2uHZ0FhAUX",
        "outputId": "9694c5a0-469b-4e39-ab28-19939a39159d"
      },
      "execution_count": 1,
      "outputs": [
        {
          "output_type": "stream",
          "name": "stdout",
          "text": [
            "1\n",
            "4.5\n",
            "(2, 3, 'Python')\n"
          ]
        }
      ]
    },
    {
      "cell_type": "markdown",
      "source": [
        "# 2. Can We Edit and Add Items to a Tuple?"
      ],
      "metadata": {
        "id": "py0bCcgAhRpl"
      }
    },
    {
      "cell_type": "code",
      "source": [
        "my_tuple = (1, 2, 3)\n",
        "# Uncommenting below lines will raise an error\n",
        "# my_tuple[0] = 10  # Error: Tuples are immutable\n",
        "\n",
        "# Indirect modification: Creating a new tuple\n",
        "new_tuple = my_tuple + (4, 5)\n",
        "print(new_tuple)  # Output: (1, 2, 3, 4, 5)\n"
      ],
      "metadata": {
        "colab": {
          "base_uri": "https://localhost:8080/"
        },
        "id": "8Vo_Xt8OhASf",
        "outputId": "b5b8cdb2-aeda-49e3-c351-33ca434b5f98"
      },
      "execution_count": 2,
      "outputs": [
        {
          "output_type": "stream",
          "name": "stdout",
          "text": [
            "(1, 2, 3, 4, 5)\n"
          ]
        }
      ]
    },
    {
      "cell_type": "markdown",
      "source": [
        "# Deletion"
      ],
      "metadata": {
        "id": "aJcetXkrhpvu"
      }
    },
    {
      "cell_type": "code",
      "source": [
        "my_tuple = (1, 2, 3)\n",
        "# del my_tuple[0]  # Error: Cannot delete an item from a tuple\n",
        "\n",
        "# Deleting the entire tuple\n",
        "del my_tuple\n",
        "# print(my_tuple)  # Error: NameError as tuple no longer exists\n"
      ],
      "metadata": {
        "id": "IOUahVDdhAQT"
      },
      "execution_count": 3,
      "outputs": []
    },
    {
      "cell_type": "markdown",
      "source": [
        "# 4. Operations on Tuple"
      ],
      "metadata": {
        "id": "xepEu0hnhs2d"
      }
    },
    {
      "cell_type": "code",
      "source": [
        "# Concatenation\n",
        "tuple1 = (1, 2, 3)\n",
        "tuple2 = (4, 5)\n",
        "print(tuple1 + tuple2)  # Output: (1, 2, 3, 4, 5)\n",
        "\n",
        "# Repetition\n",
        "print(tuple1 * 2)  # Output: (1, 2, 3, 1, 2, 3)\n",
        "\n",
        "# Membership Test\n",
        "print(2 in tuple1)  # Output: True\n",
        "print(6 not in tuple1)  # Output: True\n"
      ],
      "metadata": {
        "colab": {
          "base_uri": "https://localhost:8080/"
        },
        "id": "CLsSlls6hAN7",
        "outputId": "1db0daaf-f27d-47a8-cd28-cb7dc17637f7"
      },
      "execution_count": 4,
      "outputs": [
        {
          "output_type": "stream",
          "name": "stdout",
          "text": [
            "(1, 2, 3, 4, 5)\n",
            "(1, 2, 3, 1, 2, 3)\n",
            "True\n",
            "True\n"
          ]
        }
      ]
    },
    {
      "cell_type": "markdown",
      "source": [
        "# 5. Tuple Functions"
      ],
      "metadata": {
        "id": "24VVb3I8hz9d"
      }
    },
    {
      "cell_type": "code",
      "source": [
        "my_tuple = (1, 2, 3, 1)\n",
        "\n",
        "# Count occurrences of a value\n",
        "print(my_tuple.count(1))  # Output: 2\n",
        "\n",
        "# Find the index of a value\n",
        "print(my_tuple.index(3))  # Output: 2\n",
        "\n",
        "# Length of tuple\n",
        "print(len(my_tuple))  # Output: 4\n"
      ],
      "metadata": {
        "colab": {
          "base_uri": "https://localhost:8080/"
        },
        "id": "ztPovYYAhAL0",
        "outputId": "da332e63-211d-40e6-bd0e-9d77ddddd2fe"
      },
      "execution_count": 5,
      "outputs": [
        {
          "output_type": "stream",
          "name": "stdout",
          "text": [
            "2\n",
            "2\n",
            "4\n"
          ]
        }
      ]
    },
    {
      "cell_type": "markdown",
      "source": [
        "# 6. List vs Tuple"
      ],
      "metadata": {
        "id": "PVTzlUkbiAy4"
      }
    },
    {
      "cell_type": "code",
      "source": [
        "# Example of mutability\n",
        "my_list = [1, 2, 3]\n",
        "my_list[0] = 10\n",
        "print(my_list)  # Output: [10, 2, 3]\n",
        "\n",
        "my_tuple = (1, 2, 3)\n",
        "# my_tuple[0] = 10  # Error: Tuples are immutable\n"
      ],
      "metadata": {
        "colab": {
          "base_uri": "https://localhost:8080/"
        },
        "id": "gQ-T0VJsh_g2",
        "outputId": "7959dd7b-f370-4055-f025-c8cd05125df4"
      },
      "execution_count": 6,
      "outputs": [
        {
          "output_type": "stream",
          "name": "stdout",
          "text": [
            "[10, 2, 3]\n"
          ]
        }
      ]
    },
    {
      "cell_type": "markdown",
      "source": [
        "# 7. Tuple Unpacking"
      ],
      "metadata": {
        "id": "md1enZLbiOG9"
      }
    },
    {
      "cell_type": "code",
      "source": [
        "my_tuple = (1, 2, 3)\n",
        "a, b, c = my_tuple\n",
        "print(a, b, c)  # Output: 1 2 3\n",
        "\n",
        "# Using * for unpacking remaining values\n",
        "my_tuple = (1, 2, 3, 4, 5)\n",
        "a, *b, c = my_tuple\n",
        "print(a, b, c)  # Output: 1 [2, 3, 4] 5\n"
      ],
      "metadata": {
        "colab": {
          "base_uri": "https://localhost:8080/"
        },
        "id": "5CwTTmsXh_e1",
        "outputId": "33f8128b-b447-4823-8506-4f780c69ec82"
      },
      "execution_count": 7,
      "outputs": [
        {
          "output_type": "stream",
          "name": "stdout",
          "text": [
            "1 2 3\n",
            "1 [2, 3, 4] 5\n"
          ]
        }
      ]
    },
    {
      "cell_type": "markdown",
      "source": [
        "# 8. Zip() on Tuple"
      ],
      "metadata": {
        "id": "HQ8E5OXMiYQU"
      }
    },
    {
      "cell_type": "code",
      "source": [
        "tuple1 = (1, 2, 3)\n",
        "tuple2 = (\"a\", \"b\", \"c\")\n",
        "\n",
        "# Zipping tuples\n",
        "zipped = zip(tuple1, tuple2)\n",
        "print(list(zipped))  # Output: [(1, 'a'), (2, 'b'), (3, 'c')]\n",
        "\n",
        "# Unzipping tuples\n",
        "zipped = zip(tuple1, tuple2)\n",
        "unzipped = list(zip(*zipped))\n",
        "print(unzipped)  # Output: [(1, 2, 3), ('a', 'b', 'c')]\n"
      ],
      "metadata": {
        "colab": {
          "base_uri": "https://localhost:8080/"
        },
        "id": "GDQnucvWh_b9",
        "outputId": "fdd4492a-441d-449d-fdd1-cedff3f3e5b0"
      },
      "execution_count": 8,
      "outputs": [
        {
          "output_type": "stream",
          "name": "stdout",
          "text": [
            "[(1, 'a'), (2, 'b'), (3, 'c')]\n",
            "[(1, 2, 3), ('a', 'b', 'c')]\n"
          ]
        }
      ]
    },
    {
      "cell_type": "markdown",
      "source": [
        "# Set"
      ],
      "metadata": {
        "id": "KOzmJRUDiwDl"
      }
    },
    {
      "cell_type": "markdown",
      "source": [
        "# 1. Create and Access a Set"
      ],
      "metadata": {
        "id": "dWtqASrtixxF"
      }
    },
    {
      "cell_type": "code",
      "source": [
        "# Creating a set\n",
        "my_set = {1, 2, 3, 4, 5}\n",
        "\n",
        "# Accessing elements (direct indexing is not allowed)\n",
        "for element in my_set:\n",
        "    print(element)\n",
        "\n",
        "# Example in Data Science: Removing duplicates\n",
        "data = [1, 2, 2, 3, 4, 4, 5]\n",
        "unique_data = set(data)\n",
        "print(unique_data)  # Output: {1, 2, 3, 4, 5}\n"
      ],
      "metadata": {
        "colab": {
          "base_uri": "https://localhost:8080/"
        },
        "id": "I6kO_FmuhAJs",
        "outputId": "46020ebf-5e8f-4558-ae8e-0aafe8ced363"
      },
      "execution_count": 9,
      "outputs": [
        {
          "output_type": "stream",
          "name": "stdout",
          "text": [
            "1\n",
            "2\n",
            "3\n",
            "4\n",
            "5\n",
            "{1, 2, 3, 4, 5}\n"
          ]
        }
      ]
    },
    {
      "cell_type": "markdown",
      "source": [
        "# 2. Can We Edit and Add Items to a Set?"
      ],
      "metadata": {
        "id": "GEsqWTs8i_zW"
      }
    },
    {
      "cell_type": "code",
      "source": [
        "my_set = {1, 2, 3}\n",
        "\n",
        "# Adding an element\n",
        "my_set.add(4)\n",
        "print(my_set)  # Output: {1, 2, 3, 4}\n",
        "\n",
        "# Adding multiple elements\n",
        "my_set.update([5, 6])\n",
        "print(my_set)  # Output: {1, 2, 3, 4, 5, 6}\n",
        "\n",
        "# Example in ML: Adding unique labels to a set\n",
        "labels = {\"cat\", \"dog\"}\n",
        "labels.add(\"bird\")\n",
        "print(labels)  # Output: {'cat', 'dog', 'bird'}\n"
      ],
      "metadata": {
        "colab": {
          "base_uri": "https://localhost:8080/"
        },
        "id": "rsybf231hAG9",
        "outputId": "4c5c4c73-b9bc-4750-fc5f-48b9a8e9211a"
      },
      "execution_count": 10,
      "outputs": [
        {
          "output_type": "stream",
          "name": "stdout",
          "text": [
            "{1, 2, 3, 4}\n",
            "{1, 2, 3, 4, 5, 6}\n",
            "{'bird', 'dog', 'cat'}\n"
          ]
        }
      ]
    },
    {
      "cell_type": "markdown",
      "source": [
        "# 3. Delection"
      ],
      "metadata": {
        "id": "qpxxaBqbjObs"
      }
    },
    {
      "cell_type": "code",
      "source": [
        "my_set = {1, 2, 3, 4}\n",
        "\n",
        "# Remove an element (raises KeyError if not found)\n",
        "my_set.remove(3)\n",
        "\n",
        "# Discard an element (does not raise an error if not found)\n",
        "my_set.discard(5)\n",
        "\n",
        "# Clear all elements\n",
        "my_set.clear()\n",
        "print(my_set)  # Output: set()\n",
        "\n",
        "# Example: Cleaning up outliers in a dataset\n",
        "outliers = {100, 200, 300}\n",
        "outliers.discard(100)\n",
        "print(outliers)  # Output: {200, 300}\n"
      ],
      "metadata": {
        "colab": {
          "base_uri": "https://localhost:8080/"
        },
        "id": "I2Ubuz2mi_ZW",
        "outputId": "019a103b-d8f6-421c-ffdf-8108501d954d"
      },
      "execution_count": 11,
      "outputs": [
        {
          "output_type": "stream",
          "name": "stdout",
          "text": [
            "set()\n",
            "{200, 300}\n"
          ]
        }
      ]
    },
    {
      "cell_type": "markdown",
      "source": [
        "# 4. Operations on Set"
      ],
      "metadata": {
        "id": "U3QL6RmjjWDN"
      }
    },
    {
      "cell_type": "code",
      "source": [
        "set_a = {1, 2, 3}\n",
        "set_b = {3, 4, 5}\n",
        "\n",
        "# Union\n",
        "print(set_a | set_b)  # Output: {1, 2, 3, 4, 5}\n",
        "\n",
        "# Intersection\n",
        "print(set_a & set_b)  # Output: {3}\n",
        "\n",
        "# Difference\n",
        "print(set_a - set_b)  # Output: {1, 2}\n",
        "\n",
        "# Symmetric Difference\n",
        "print(set_a ^ set_b)  # Output: {1, 2, 4, 5}\n",
        "\n",
        "# Example: Finding common and unique features in ML datasets\n",
        "features_a = {\"age\", \"height\", \"weight\"}\n",
        "features_b = {\"height\", \"weight\", \"blood_pressure\"}\n",
        "common_features = features_a & features_b\n",
        "unique_features = features_a ^ features_b\n",
        "print(common_features)  # Output: {'height', 'weight'}\n",
        "print(unique_features)  # Output: {'age', 'blood_pressure'}\n"
      ],
      "metadata": {
        "colab": {
          "base_uri": "https://localhost:8080/"
        },
        "id": "ZO6atk_-jVq1",
        "outputId": "1ccd55ba-73b3-4a26-85e4-3a5fcb5e8460"
      },
      "execution_count": 12,
      "outputs": [
        {
          "output_type": "stream",
          "name": "stdout",
          "text": [
            "{1, 2, 3, 4, 5}\n",
            "{3}\n",
            "{1, 2}\n",
            "{1, 2, 4, 5}\n",
            "{'height', 'weight'}\n",
            "{'blood_pressure', 'age'}\n"
          ]
        }
      ]
    },
    {
      "cell_type": "markdown",
      "source": [
        "# 5. Set Functions"
      ],
      "metadata": {
        "id": "J6aEjzEAje9N"
      }
    },
    {
      "cell_type": "code",
      "source": [
        "my_set = {1, 2, 3, 4}\n",
        "\n",
        "# Length of set\n",
        "print(len(my_set))  # Output: 4\n",
        "\n",
        "# Check membership\n",
        "print(2 in my_set)  # Output: True\n",
        "\n",
        "# Convert list to set\n",
        "my_list = [1, 2, 2, 3]\n",
        "unique_set = set(my_list)\n",
        "print(unique_set)  # Output: {1, 2, 3}\n",
        "\n",
        "# Example: Checking unique values in a column\n",
        "import pandas as pd\n",
        "data = pd.DataFrame({\"Category\": [\"A\", \"B\", \"A\", \"C\"]})\n",
        "unique_categories = set(data[\"Category\"])\n",
        "print(unique_categories)  # Output: {'A', 'C', 'B'}\n"
      ],
      "metadata": {
        "colab": {
          "base_uri": "https://localhost:8080/"
        },
        "id": "uJdjFZMEjVod",
        "outputId": "9f2ecb19-e9d9-4c5e-89b5-671b7856345f"
      },
      "execution_count": 13,
      "outputs": [
        {
          "output_type": "stream",
          "name": "stdout",
          "text": [
            "4\n",
            "True\n",
            "{1, 2, 3}\n",
            "{'C', 'A', 'B'}\n"
          ]
        }
      ]
    },
    {
      "cell_type": "markdown",
      "source": [
        "6. Frozen Set(Immutable set)"
      ],
      "metadata": {
        "id": "aiNa2pRWj0d9"
      }
    },
    {
      "cell_type": "code",
      "source": [
        "# Creating a frozen set\n",
        "frozen = frozenset([1, 2, 3, 4])\n",
        "\n",
        "# Frozen sets cannot be modified\n",
        "# frozen.add(5)  # Error: AttributeError\n",
        "\n",
        "# Example in Data Science: Immutable configuration\n",
        "features = frozenset([\"age\", \"height\", \"weight\"])\n",
        "print(features)  # Output: frozenset({'age', 'height', 'weight'})\n"
      ],
      "metadata": {
        "colab": {
          "base_uri": "https://localhost:8080/"
        },
        "id": "nCtLD9IrjVkG",
        "outputId": "c36043f9-c71d-43a5-be03-a0a041cf65f8"
      },
      "execution_count": 14,
      "outputs": [
        {
          "output_type": "stream",
          "name": "stdout",
          "text": [
            "frozenset({'height', 'weight', 'age'})\n"
          ]
        }
      ]
    },
    {
      "cell_type": "markdown",
      "source": [
        "# 7. Set Comprehension"
      ],
      "metadata": {
        "id": "aQoN-oz4j5Ue"
      }
    },
    {
      "cell_type": "code",
      "source": [
        "# Example: Square of numbers\n",
        "squared = {x**2 for x in range(5)}\n",
        "print(squared)  # Output: {0, 1, 4, 9, 16}\n",
        "\n",
        "# Example in ML: Extract unique words from text\n",
        "text = \"machine learning makes machines learn\"\n",
        "unique_words = {word for word in text.split()}\n",
        "print(unique_words)  # Output: {'learning', 'learn', 'makes', 'machine', 'machines'}\n"
      ],
      "metadata": {
        "colab": {
          "base_uri": "https://localhost:8080/"
        },
        "id": "Qwk7RCmAi_Vu",
        "outputId": "83449ac9-1d89-4912-b88d-ef17c878b01d"
      },
      "execution_count": 15,
      "outputs": [
        {
          "output_type": "stream",
          "name": "stdout",
          "text": [
            "{0, 1, 4, 9, 16}\n",
            "{'makes', 'learn', 'learning', 'machine', 'machines'}\n"
          ]
        }
      ]
    },
    {
      "cell_type": "markdown",
      "source": [
        "# Dictionary"
      ],
      "metadata": {
        "id": "n-n1K1_ukGeE"
      }
    },
    {
      "cell_type": "markdown",
      "source": [
        "# 1. Create a Dictionary"
      ],
      "metadata": {
        "id": "vPHFBwEikJO2"
      }
    },
    {
      "cell_type": "code",
      "source": [
        "# Creating a dictionary\n",
        "data = {\"name\": \"Alice\", \"age\": 25, \"city\": \"New York\"}\n",
        "\n",
        "# Example in Data Science: Feature mapping\n",
        "feature_mapping = {\"feature1\": \"age\", \"feature2\": \"salary\"}\n",
        "print(feature_mapping)  # Output: {'feature1': 'age', 'feature2': 'salary'}\n"
      ],
      "metadata": {
        "colab": {
          "base_uri": "https://localhost:8080/"
        },
        "id": "OWyX4Nlvi_R1",
        "outputId": "b1c9d6c8-46eb-42ee-c4e5-a8cd760d83d6"
      },
      "execution_count": 16,
      "outputs": [
        {
          "output_type": "stream",
          "name": "stdout",
          "text": [
            "{'feature1': 'age', 'feature2': 'salary'}\n"
          ]
        }
      ]
    },
    {
      "cell_type": "markdown",
      "source": [
        "# 2. Accessing Items"
      ],
      "metadata": {
        "id": "0uG9oOlrkWwN"
      }
    },
    {
      "cell_type": "code",
      "source": [
        "data = {\"name\": \"Alice\", \"age\": 25, \"city\": \"New York\"}\n",
        "\n",
        "# Accessing values by keys\n",
        "print(data[\"name\"])  # Output: Alice\n",
        "\n",
        "# Using `get()` to avoid errors if the key does not exist\n",
        "print(data.get(\"country\", \"Key not found\"))  # Output: Key not found\n",
        "\n",
        "# Example: Accessing column mapping\n",
        "print(feature_mapping.get(\"feature1\"))  # Output: age\n"
      ],
      "metadata": {
        "colab": {
          "base_uri": "https://localhost:8080/"
        },
        "id": "4wvDCR-VkWB9",
        "outputId": "5fd0bbc8-3068-4054-e33f-710bae0f2a65"
      },
      "execution_count": 17,
      "outputs": [
        {
          "output_type": "stream",
          "name": "stdout",
          "text": [
            "Alice\n",
            "Key not found\n",
            "age\n"
          ]
        }
      ]
    },
    {
      "cell_type": "markdown",
      "source": [
        "# 3. Add, Remove , Edit key-value Pairs"
      ],
      "metadata": {
        "id": "zHE4PBwakbM1"
      }
    },
    {
      "cell_type": "code",
      "source": [
        "data = {\"name\": \"Alice\", \"age\": 25}\n",
        "data[\"city\"] = \"New York\"  # Adding a new key-value pair\n",
        "print(data)  # Output: {'name': 'Alice', 'age': 25, 'city': 'New York'}\n"
      ],
      "metadata": {
        "colab": {
          "base_uri": "https://localhost:8080/"
        },
        "id": "pDOpOux-kV_2",
        "outputId": "39bda900-c5c6-4aee-82c3-7846df884872"
      },
      "execution_count": 18,
      "outputs": [
        {
          "output_type": "stream",
          "name": "stdout",
          "text": [
            "{'name': 'Alice', 'age': 25, 'city': 'New York'}\n"
          ]
        }
      ]
    },
    {
      "cell_type": "code",
      "source": [
        "data.pop(\"age\")  # Removes the key-value pair for 'age'\n",
        "print(data)  # Output: {'name': 'Alice', 'city': 'New York'}\n"
      ],
      "metadata": {
        "colab": {
          "base_uri": "https://localhost:8080/"
        },
        "id": "Sb9uFhgIkV9v",
        "outputId": "2388f11a-13d6-4076-a535-fa3f5b6e4131"
      },
      "execution_count": 19,
      "outputs": [
        {
          "output_type": "stream",
          "name": "stdout",
          "text": [
            "{'name': 'Alice', 'city': 'New York'}\n"
          ]
        }
      ]
    },
    {
      "cell_type": "code",
      "source": [
        "data[\"name\"] = \"Bob\"  # Modifying the value\n",
        "print(data)  # Output: {'name': 'Bob', 'city': 'New York'}\n",
        "\n",
        "# Example in ML: Update feature names\n",
        "feature_mapping[\"feature2\"] = \"income\"\n",
        "print(feature_mapping)  # Output: {'feature1': 'age', 'feature2': 'income'}\n"
      ],
      "metadata": {
        "colab": {
          "base_uri": "https://localhost:8080/"
        },
        "id": "ka9I6Ci0kV7M",
        "outputId": "b26aa147-69b8-4b5e-b8be-8c7f6f921e88"
      },
      "execution_count": 20,
      "outputs": [
        {
          "output_type": "stream",
          "name": "stdout",
          "text": [
            "{'name': 'Bob', 'city': 'New York'}\n",
            "{'feature1': 'age', 'feature2': 'income'}\n"
          ]
        }
      ]
    },
    {
      "cell_type": "markdown",
      "source": [
        "# 4. Operations on Dictionary"
      ],
      "metadata": {
        "id": "8GnbIBtPklWd"
      }
    },
    {
      "cell_type": "code",
      "source": [
        "data = {\"name\": \"Alice\", \"age\": 25, \"city\": \"New York\"}\n",
        "\n",
        "# Iterating over keys\n",
        "for key in data:\n",
        "    print(key)\n",
        "\n",
        "# Iterating over values\n",
        "for value in data.values():\n",
        "    print(value)\n",
        "\n",
        "# Iterating over key-value pairs\n",
        "for key, value in data.items():\n",
        "    print(f\"{key}: {value}\")\n",
        "\n",
        "# Membership Test\n",
        "print(\"name\" in data)  # Output: True\n"
      ],
      "metadata": {
        "colab": {
          "base_uri": "https://localhost:8080/"
        },
        "id": "JCXN12BMkVyM",
        "outputId": "25b1c1f2-45e9-4fe9-ff4b-5c9668fcd956"
      },
      "execution_count": 21,
      "outputs": [
        {
          "output_type": "stream",
          "name": "stdout",
          "text": [
            "name\n",
            "age\n",
            "city\n",
            "Alice\n",
            "25\n",
            "New York\n",
            "name: Alice\n",
            "age: 25\n",
            "city: New York\n",
            "True\n"
          ]
        }
      ]
    },
    {
      "cell_type": "markdown",
      "source": [
        "# 5. Dictionary Functions"
      ],
      "metadata": {
        "id": "VI9F99dpkraV"
      }
    },
    {
      "cell_type": "code",
      "source": [
        "data = {\"name\": \"Alice\", \"age\": 25, \"city\": \"New York\"}\n",
        "\n",
        "# Getting all keys\n",
        "print(data.keys())  # Output: dict_keys(['name', 'age', 'city'])\n",
        "\n",
        "# Getting all values\n",
        "print(data.values())  # Output: dict_values(['Alice', 25, 'New York'])\n",
        "\n",
        "# Getting all key-value pairs\n",
        "print(data.items())  # Output: dict_items([('name', 'Alice'), ('age', 25), ('city', 'New York')])\n",
        "\n",
        "# Clearing all items\n",
        "data.clear()\n",
        "print(data)  # Output: {}\n"
      ],
      "metadata": {
        "colab": {
          "base_uri": "https://localhost:8080/"
        },
        "id": "DyyRl41rkqrJ",
        "outputId": "d4254e18-39be-474b-bdff-b5fe8061f5d6"
      },
      "execution_count": 22,
      "outputs": [
        {
          "output_type": "stream",
          "name": "stdout",
          "text": [
            "dict_keys(['name', 'age', 'city'])\n",
            "dict_values(['Alice', 25, 'New York'])\n",
            "dict_items([('name', 'Alice'), ('age', 25), ('city', 'New York')])\n",
            "{}\n"
          ]
        }
      ]
    },
    {
      "cell_type": "markdown",
      "source": [
        "# 6. Dictionary Comprehension"
      ],
      "metadata": {
        "id": "qiy_6dPKkzj2"
      }
    },
    {
      "cell_type": "code",
      "source": [
        "# Example: Squaring numbers\n",
        "squared = {x: x**2 for x in range(5)}\n",
        "print(squared)  # Output: {0: 0, 1: 1, 2: 4, 3: 9, 4: 16}\n",
        "\n",
        "# Example in ML: Mapping feature names to indices\n",
        "columns = [\"age\", \"salary\", \"gender\"]\n",
        "column_mapping = {name: idx for idx, name in enumerate(columns)}\n",
        "print(column_mapping)  # Output: {'age': 0, 'salary': 1, 'gender': 2}\n"
      ],
      "metadata": {
        "colab": {
          "base_uri": "https://localhost:8080/"
        },
        "id": "34hLPGnWkqoU",
        "outputId": "9ff68535-9864-4414-a59a-70984ad0986e"
      },
      "execution_count": 23,
      "outputs": [
        {
          "output_type": "stream",
          "name": "stdout",
          "text": [
            "{0: 0, 1: 1, 2: 4, 3: 9, 4: 16}\n",
            "{'age': 0, 'salary': 1, 'gender': 2}\n"
          ]
        }
      ]
    },
    {
      "cell_type": "markdown",
      "source": [
        "# 7. Zip() on Dictionary"
      ],
      "metadata": {
        "id": "i4OGx2w0k5Ut"
      }
    },
    {
      "cell_type": "code",
      "source": [
        "keys = [\"name\", \"age\", \"city\"]\n",
        "values = [\"Alice\", 25, \"New York\"]\n",
        "\n",
        "# Creating a dictionary using zip\n",
        "data = dict(zip(keys, values))\n",
        "print(data)  # Output: {'name': 'Alice', 'age': 25, 'city': 'New York'}\n",
        "\n",
        "# Example in ML: Zipping feature names and values\n",
        "feature_names = [\"age\", \"salary\", \"gender\"]\n",
        "feature_values = [25, 50000, \"female\"]\n",
        "features = dict(zip(feature_names, feature_values))\n",
        "print(features)  # Output: {'age': 25, 'salary': 50000, 'gender': 'female'}\n"
      ],
      "metadata": {
        "colab": {
          "base_uri": "https://localhost:8080/"
        },
        "id": "QQezPAYMkqm3",
        "outputId": "d865f142-cb00-4455-e4ae-2b809a854719"
      },
      "execution_count": 24,
      "outputs": [
        {
          "output_type": "stream",
          "name": "stdout",
          "text": [
            "{'name': 'Alice', 'age': 25, 'city': 'New York'}\n",
            "{'age': 25, 'salary': 50000, 'gender': 'female'}\n"
          ]
        }
      ]
    },
    {
      "cell_type": "markdown",
      "source": [
        "# 8. Nested Comprehensions"
      ],
      "metadata": {
        "id": "68jf2SA1k_lt"
      }
    },
    {
      "cell_type": "code",
      "source": [
        "# Nested comprehension: Grouping numbers by even/odd\n",
        "nested = {key: [x for x in range(10) if x % 2 == key] for key in [0, 1]}\n",
        "print(nested)  # Output: {0: [0, 2, 4, 6, 8], 1: [1, 3, 5, 7, 9]}\n",
        "\n",
        "# Example in ML: Creating a nested dictionary of features\n",
        "categories = [\"age\", \"salary\", \"gender\"]\n",
        "nested_features = {category: {f\"feature_{i}\": i for i in range(1, 4)} for category in categories}\n",
        "print(nested_features)\n",
        "# Output: {'age': {'feature_1': 1, 'feature_2': 2, 'feature_3': 3}, ...}\n"
      ],
      "metadata": {
        "colab": {
          "base_uri": "https://localhost:8080/"
        },
        "id": "l1wKxW8skqkO",
        "outputId": "e5b0cb0f-03bf-4aa7-c01e-b1b848b8ab23"
      },
      "execution_count": 25,
      "outputs": [
        {
          "output_type": "stream",
          "name": "stdout",
          "text": [
            "{0: [0, 2, 4, 6, 8], 1: [1, 3, 5, 7, 9]}\n",
            "{'age': {'feature_1': 1, 'feature_2': 2, 'feature_3': 3}, 'salary': {'feature_1': 1, 'feature_2': 2, 'feature_3': 3}, 'gender': {'feature_1': 1, 'feature_2': 2, 'feature_3': 3}}\n"
          ]
        }
      ]
    }
  ]
}