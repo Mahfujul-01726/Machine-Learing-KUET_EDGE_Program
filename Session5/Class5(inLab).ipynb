{
  "nbformat": 4,
  "nbformat_minor": 0,
  "metadata": {
    "colab": {
      "provenance": []
    },
    "kernelspec": {
      "name": "python3",
      "display_name": "Python 3"
    },
    "language_info": {
      "name": "python"
    }
  },
  "cells": [
    {
      "cell_type": "code",
      "source": [
        "dict={'amma'}\n",
        "for a in ml:\n",
        "  if c in dict\n"
      ],
      "metadata": {
        "id": "hqT2cdKjkEcm"
      },
      "execution_count": null,
      "outputs": []
    },
    {
      "cell_type": "code",
      "source": [
        "dict = {'amma'}\n",
        "ml = ['amma', 'appa', 'sister']\n",
        "\n",
        "for c in ml:\n",
        "    if c in dict:\n",
        "        print(f\"Found: {c}\")\n"
      ],
      "metadata": {
        "colab": {
          "base_uri": "https://localhost:8080/"
        },
        "id": "nPR9HawikEaX",
        "outputId": "6874b876-f542-4393-8de2-3cc20de2c922"
      },
      "execution_count": null,
      "outputs": [
        {
          "output_type": "stream",
          "name": "stdout",
          "text": [
            "Found: amma\n"
          ]
        }
      ]
    },
    {
      "cell_type": "code",
      "source": [
        "from collections import defaultdict\n",
        "\n",
        "my_dict = defaultdict(int)\n",
        "ml = ['amma', 'appa', 'sister']\n",
        "\n",
        "for c in ml:\n",
        "    my_dict[c] += 1\n",
        "\n",
        "print(my_dict)\n"
      ],
      "metadata": {
        "colab": {
          "base_uri": "https://localhost:8080/"
        },
        "id": "ekKBx5B7kEWG",
        "outputId": "23d43140-016e-4fb2-eaf2-a514ba288b9d"
      },
      "execution_count": null,
      "outputs": [
        {
          "output_type": "stream",
          "name": "stdout",
          "text": [
            "defaultdict(<class 'int'>, {'amma': 1, 'appa': 1, 'sister': 1})\n"
          ]
        }
      ]
    },
    {
      "cell_type": "markdown",
      "source": [
        "# Defaultdict"
      ],
      "metadata": {
        "id": "T1P3bmsK-KnR"
      }
    },
    {
      "cell_type": "code",
      "source": [
        "from collections import defaultdict\n",
        "\n",
        "my_dict = defaultdict(int)\n",
        "ml = [1,1,0,0,1,2,0,1,0]\n",
        "\n",
        "for c in ml:\n",
        "    my_dict[c] += 1\n",
        "\n",
        "print(my_dict)\n"
      ],
      "metadata": {
        "colab": {
          "base_uri": "https://localhost:8080/"
        },
        "id": "-Yfwgq2d7ic5",
        "outputId": "ea5abf29-6733-41ae-8357-8f792e35e289"
      },
      "execution_count": null,
      "outputs": [
        {
          "output_type": "stream",
          "name": "stdout",
          "text": [
            "defaultdict(<class 'int'>, {1: 4, 0: 4, 2: 1})\n"
          ]
        }
      ]
    },
    {
      "cell_type": "markdown",
      "source": [
        "# Counter Function"
      ],
      "metadata": {
        "id": "aQ8Cg786-Hmi"
      }
    },
    {
      "cell_type": "code",
      "source": [
        "from collections import Counter\n",
        "\n",
        "ml = [1,1,0,0,1,2,0,1,0]\n",
        "my_dict = Counter(ml)\n",
        "\n",
        "print(my_dict)"
      ],
      "metadata": {
        "colab": {
          "base_uri": "https://localhost:8080/"
        },
        "id": "NW63fJs7kET-",
        "outputId": "04457e59-5a70-4690-f581-3e23051e1fb3"
      },
      "execution_count": null,
      "outputs": [
        {
          "output_type": "stream",
          "name": "stdout",
          "text": [
            "Counter({1: 4, 0: 4, 2: 1})\n"
          ]
        }
      ]
    },
    {
      "cell_type": "code",
      "source": [
        "def count_vowels(text):\n",
        "    vowels = \"aeiouAEIOU\"  # List of vowels (both lowercase and uppercase)\n",
        "    count = 0  # Initialize a counter for vowels\n",
        "\n",
        "    # Loop through each character in the text\n",
        "    for char in text:\n",
        "        if char in vowels:  # Check if the character is a vowel\n",
        "            count += 1  # Increment the counter if it is a vowel\n",
        "\n",
        "    return count\n",
        "\n",
        "# Example essay\n",
        "essay = \"\"\"\n",
        "Once upon a time, in a far away kingdom, there was a beautiful castle.\n",
        "It was surrounded by vast green fields, and the sky was always clear and blue.\n",
        "People in the kingdom lived peacefully, and they were known for their kindness and hospitality.\n",
        "\"\"\"\n",
        "\n",
        "# Count the vowels in the essay\n",
        "vowel_count = count_vowels(essay)\n",
        "print(f\"Number of vowels in the essay: {vowel_count}\")\n"
      ],
      "metadata": {
        "colab": {
          "base_uri": "https://localhost:8080/"
        },
        "id": "AOd6EU6WkERm",
        "outputId": "7904a4d3-8a95-414c-a490-25cce020c503"
      },
      "execution_count": null,
      "outputs": [
        {
          "output_type": "stream",
          "name": "stdout",
          "text": [
            "Number of vowels in the essay: 74\n"
          ]
        }
      ]
    },
    {
      "cell_type": "code",
      "source": [
        "from collections import Counter\n",
        "\n",
        "def vowel_frequency(text):\n",
        "    # Define a set of vowels for faster lookup\n",
        "    vowels = set('aeiouAEIOU')  # Using a set for O(1) average-time complexity lookup\n",
        "    # Use a generator expression to count vowels efficiently\n",
        "    vowel_counts = Counter(char for char in text if char in vowels)\n",
        "    return vowel_counts\n",
        "\n",
        "# Example essay\n",
        "essay = \"\"\"\n",
        "Once upon a time, in a far away kingdom, there was a beautiful castle.\n",
        "It was surrounded by vast green fields, and the sky was always clear and blue.\n",
        "People in the kingdom lived peacefully, and they were known for their kindness and hospitality.\n",
        "\"\"\"\n",
        "\n",
        "# Get the frequency of vowels in the essay\n",
        "vowel_counts = vowel_frequency(essay)\n",
        "print(f\"Vowel frequency in the essay: {vowel_counts}\")\n"
      ],
      "metadata": {
        "colab": {
          "base_uri": "https://localhost:8080/"
        },
        "id": "9F8N0qhGkEO3",
        "outputId": "57ae9167-2e42-4dcc-eae3-963144676adc"
      },
      "execution_count": null,
      "outputs": [
        {
          "output_type": "stream",
          "name": "stdout",
          "text": [
            "Vowel frequency in the essay: Counter({'e': 24, 'a': 21, 'i': 12, 'o': 8, 'u': 7, 'O': 1, 'I': 1})\n"
          ]
        }
      ]
    },
    {
      "cell_type": "code",
      "execution_count": null,
      "metadata": {
        "id": "9U9x2-pBiFov"
      },
      "outputs": [],
      "source": []
    }
  ]
}