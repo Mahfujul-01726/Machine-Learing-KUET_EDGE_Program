{
 "cells": [
  {
   "cell_type": "markdown",
   "metadata": {
    "papermill": {
     "duration": 0.016473,
     "end_time": "2021-02-01T11:28:08.612298",
     "exception": false,
     "start_time": "2021-02-01T11:28:08.595825",
     "status": "completed"
    },
    "tags": []
   },
   "source": [
    "# Regularized Linear Models\n",
    "\n",
    "Simply speaking, a good model generalized well. However, a **high-bias model** is usually the result of a model that misses important information and thus underfits while a **high-variance model** is too sensitive, thus has high variance and overfits the training data. \n",
    "\n",
    "There is a **trade-off between bias and variance** since reducing the model complexity reduces variance but increases bias. The **irreducible error**, however, is the result not of the model but noisy data and can be reduced by cleaning up the data.\n",
    "\n",
    "**Regularization** is a way to reduce overfitting by constraining the weights of a linear model. \n",
    "\n",
    "This notebook shows **basic code example for different regularization methods** for regression problems using scikit learn. I hope it helps you to **get started implementing regularization** into your regression models.\n",
    "\n",
    "Note: Updated code and other notebooks on machine learning for beginners may be available in my GitHub repo https://github.com/JonasSchroeder/handsonmachinelearning where I take notes on my journey.\n",
    "\n",
    "### Table of Contents\n",
    "0. Linear Regression\n",
    "1. Ridge Regression (Tikhonov Regularization)\n",
    "2. Lasso Regression\n",
    "3. Elastic Net\n",
    "4. Other Regression Models with Penalty Hyperparameter\n",
    "4. Application Examples"
   ]
  },
  {
   "cell_type": "markdown",
   "metadata": {
    "_cell_guid": "b1076dfc-b9ad-4769-8c92-a6c4dae69d19",
    "_uuid": "8f2839f25d086af736a60e9eeb907d3b93b6e0e5",
    "papermill": {
     "duration": 0.013023,
     "end_time": "2021-02-01T11:28:08.639266",
     "exception": false,
     "start_time": "2021-02-01T11:28:08.626243",
     "status": "completed"
    },
    "tags": []
   },
   "source": [
    "# 0. Linear Regression"
   ]
  },
  {
   "cell_type": "code",
   "execution_count": 1,
   "metadata": {
    "_cell_guid": "79c7e3d0-c299-4dcb-8224-4455121ee9b0",
    "_uuid": "d629ff2d2480ee46fbb7e2d37f6b5fab8052498a",
    "execution": {
     "iopub.execute_input": "2021-02-01T11:28:08.687697Z",
     "iopub.status.busy": "2021-02-01T11:28:08.673820Z",
     "iopub.status.idle": "2021-02-01T11:28:09.587856Z",
     "shell.execute_reply": "2021-02-01T11:28:09.588420Z"
    },
    "papermill": {
     "duration": 0.935706,
     "end_time": "2021-02-01T11:28:09.588584",
     "exception": false,
     "start_time": "2021-02-01T11:28:08.652878",
     "status": "completed"
    },
    "tags": []
   },
   "outputs": [],
   "source": [
    "# evaluate an ridge regression model on the dataset\n",
    "import numpy as np\n",
    "from pandas import read_csv\n",
    "\n",
    "# load the dataset\n",
    "url = 'https://raw.githubusercontent.com/jbrownlee/Datasets/master/housing.csv'\n",
    "input_df = read_csv(url, header=None)\n",
    "#print(input_df)\n",
    "\n",
    "data = input_df.values\n",
    "\n",
    "X = data[0:35, 12] # choose one feature\n",
    "y = data[0:35, 13] # target"
   ]
  },
  {
   "cell_type": "code",
   "execution_count": 2,
   "metadata": {
    "execution": {
     "iopub.execute_input": "2021-02-01T11:28:09.619342Z",
     "iopub.status.busy": "2021-02-01T11:28:09.618638Z",
     "iopub.status.idle": "2021-02-01T11:28:11.101520Z",
     "shell.execute_reply": "2021-02-01T11:28:11.100869Z"
    },
    "papermill": {
     "duration": 1.499095,
     "end_time": "2021-02-01T11:28:11.101632",
     "exception": false,
     "start_time": "2021-02-01T11:28:09.602537",
     "status": "completed"
    },
    "tags": []
   },
   "outputs": [
    {
     "data": {
      "text/plain": [
       "<matplotlib.axes._subplots.AxesSubplot at 0x7f6da9bdd490>"
      ]
     },
     "execution_count": 2,
     "metadata": {},
     "output_type": "execute_result"
    },
    {
     "data": {
      "image/png": "[encoded data removed]",
      "text/plain": [
       "<Figure size 432x288 with 1 Axes>"
      ]
     },
     "metadata": {
      "needs_background": "light"
     },
     "output_type": "display_data"
    }
   ],
   "source": [
    "import seaborn as sns\n",
    "sns.scatterplot(X,y)"
   ]
  },
  {
   "cell_type": "markdown",
   "metadata": {
    "papermill": {
     "duration": 0.014241,
     "end_time": "2021-02-01T11:28:11.131081",
     "exception": false,
     "start_time": "2021-02-01T11:28:11.116840",
     "status": "completed"
    },
    "tags": []
   },
   "source": [
    "### Simple Linear Regression"
   ]
  },
  {
   "cell_type": "code",
   "execution_count": 3,
   "metadata": {
    "execution": {
     "iopub.execute_input": "2021-02-01T11:28:11.164230Z",
     "iopub.status.busy": "2021-02-01T11:28:11.163464Z",
     "iopub.status.idle": "2021-02-01T11:28:11.599924Z",
     "shell.execute_reply": "2021-02-01T11:28:11.600890Z"
    },
    "papermill": {
     "duration": 0.455208,
     "end_time": "2021-02-01T11:28:11.601091",
     "exception": false,
     "start_time": "2021-02-01T11:28:11.145883",
     "status": "completed"
    },
    "tags": []
   },
   "outputs": [
    {
     "data": {
      "image/png": "[encoded data removed]",
      "text/plain": [
       "<Figure size 432x288 with 1 Axes>"
      ]
     },
     "metadata": {
      "needs_background": "light"
     },
     "output_type": "display_data"
    },
    {
     "name": "stdout",
     "output_type": "stream",
     "text": [
      "RMSE: 4.109901007971022\n",
      "R2 score: 0.5397260819538162\n"
     ]
    }
   ],
   "source": [
    "# Simple linear regression\n",
    "from sklearn.linear_model import LinearRegression\n",
    "from sklearn.metrics import mean_squared_error, r2_score\n",
    "import numpy as np\n",
    "import matplotlib.pyplot as plt\n",
    "\n",
    "lin_reg = LinearRegression()\n",
    "\n",
    "# reshape\n",
    "X_re = X[:, np.newaxis]\n",
    "y_re = y[:, np.newaxis]\n",
    "\n",
    "lin_reg.fit(X_re, y_re)\n",
    "\n",
    "y_pred = lin_reg.predict(X_re)\n",
    "\n",
    "# Plot fit over data\n",
    "plt.scatter(X_re, y_re, s=10)\n",
    "plt.plot(X_re, y_pred, color='r')\n",
    "plt.show()\n",
    "\n",
    "# Model accuracy\n",
    "rmse = np.sqrt(mean_squared_error(y,y_pred))\n",
    "r2 = r2_score(y,y_pred)\n",
    "print(\"RMSE: \" + str(rmse))\n",
    "print(\"R2 score: \" + str(r2))"
   ]
  },
  {
   "cell_type": "markdown",
   "metadata": {
    "papermill": {
     "duration": 0.015463,
     "end_time": "2021-02-01T11:28:11.633356",
     "exception": false,
     "start_time": "2021-02-01T11:28:11.617893",
     "status": "completed"
    },
    "tags": []
   },
   "source": [
    "### Polynomial Regression"
   ]
  },
  {
   "cell_type": "code",
   "execution_count": 4,
   "metadata": {
    "execution": {
     "iopub.execute_input": "2021-02-01T11:28:11.690650Z",
     "iopub.status.busy": "2021-02-01T11:28:11.684769Z",
     "iopub.status.idle": "2021-02-01T11:28:11.826746Z",
     "shell.execute_reply": "2021-02-01T11:28:11.827242Z"
    },
    "papermill": {
     "duration": 0.178177,
     "end_time": "2021-02-01T11:28:11.827390",
     "exception": false,
     "start_time": "2021-02-01T11:28:11.649213",
     "status": "completed"
    },
    "tags": []
   },
   "outputs": [
    {
     "data": {
      "image/png": "[encoded data removed]",
      "text/plain": [
       "<Figure size 432x288 with 1 Axes>"
      ]
     },
     "metadata": {
      "needs_background": "light"
     },
     "output_type": "display_data"
    },
    {
     "name": "stdout",
     "output_type": "stream",
     "text": [
      "RMSE: 3.7775471605955646\n",
      "R2 score: 0.6111577631639977\n"
     ]
    }
   ],
   "source": [
    "# Polynomial regression\n",
    "import operator\n",
    "from sklearn.linear_model import LinearRegression\n",
    "from sklearn.preprocessing import PolynomialFeatures\n",
    "from sklearn.metrics import mean_squared_error, r2_score\n",
    "import numpy as np\n",
    "import matplotlib.pyplot as plt\n",
    "\n",
    "lin_reg = LinearRegression()\n",
    "\n",
    "# reshape\n",
    "X_re = X[:, np.newaxis]\n",
    "y_re = y[:, np.newaxis]\n",
    "\n",
    "# polynomial transformation\n",
    "polynomial_features= PolynomialFeatures(degree=2)\n",
    "X_poly = polynomial_features.fit_transform(X_re)\n",
    "\n",
    "lin_reg.fit(X_poly, y_re)\n",
    "\n",
    "y_poly_pred = lin_reg.predict(X_poly)\n",
    "\n",
    "# Plot fit over data:\n",
    "plt.scatter(X_re, y_re, s=10)\n",
    "sort_axis = operator.itemgetter(0)\n",
    "sorted_zip = sorted(zip(X_re, y_poly_pred), key=sort_axis)\n",
    "X_re_sort, y_poly_pred = zip(*sorted_zip)\n",
    "plt.plot(X_re_sort, y_poly_pred, color='r')\n",
    "plt.show()\n",
    "\n",
    "# Model accuracy\n",
    "rmse = np.sqrt(mean_squared_error(y_re, y_poly_pred))\n",
    "r2 = r2_score(y_re, y_poly_pred)\n",
    "print(\"RMSE: \" + str(rmse))\n",
    "print(\"R2 score: \" + str(r2))"
   ]
  },
  {
   "cell_type": "markdown",
   "metadata": {
    "papermill": {
     "duration": 0.017558,
     "end_time": "2021-02-01T11:28:11.862479",
     "exception": false,
     "start_time": "2021-02-01T11:28:11.844921",
     "status": "completed"
    },
    "tags": []
   },
   "source": [
    "# 1. Ridge Regression (Tikhonov Regularization)\n",
    "\n",
    "During training the model, a regularization term is added to the cost function which keeps the weights as small as possible (thus preventing overfitting). This adapted cost function is called ridge regression cost function, it includes **regularizer penalty**, which is moderated by alpha (or lamda).\n",
    "\n",
    "Thus, when we fit a model with ridge regression, we minimize the cost function: \n",
    "### cost = sum of squared residuals + lamda * (slope)^2\n",
    "\n",
    "\n",
    "This introduces a small amount of Bias but reduces the Variance significantly and thus reduces the chance of overfitting the training data.\n",
    "\n",
    "A ridge model with **alpha=0 is equivalent to the simple linear regression model** (see example below).\n",
    "\n",
    "The **larger the hyperparameter alpha, the closer the weights end up at zero** and the result is a flat line through the data's mean.\n",
    "\n",
    "This leads to a ridge regression model having smaller weights than without regularization (or same weights when lambda = 1)."
   ]
  },
  {
   "cell_type": "code",
   "execution_count": 5,
   "metadata": {
    "execution": {
     "iopub.execute_input": "2021-02-01T11:28:11.913050Z",
     "iopub.status.busy": "2021-02-01T11:28:11.905454Z",
     "iopub.status.idle": "2021-02-01T11:28:12.172157Z",
     "shell.execute_reply": "2021-02-01T11:28:12.172743Z"
    },
    "papermill": {
     "duration": 0.293019,
     "end_time": "2021-02-01T11:28:12.172888",
     "exception": false,
     "start_time": "2021-02-01T11:28:11.879869",
     "status": "completed"
    },
    "tags": []
   },
   "outputs": [
    {
     "data": {
      "image/png": "[encoded data removed]",
      "text/plain": [
       "<Figure size 432x288 with 1 Axes>"
      ]
     },
     "metadata": {
      "needs_background": "light"
     },
     "output_type": "display_data"
    },
    {
     "name": "stdout",
     "output_type": "stream",
     "text": [
      "RMSE: 4.109902204828202\n",
      "R2 score: 0.5397258138781507\n"
     ]
    }
   ],
   "source": [
    "# Model with ridge regularization\n",
    "from sklearn.linear_model import Ridge\n",
    "\n",
    "# define model with alpha=1\n",
    "ridge_reg = Ridge(alpha=1.0)\n",
    "\n",
    "# reshape\n",
    "X_re = X[:, np.newaxis]\n",
    "y_re = y[:, np.newaxis]\n",
    "\n",
    "# fit ridge model\n",
    "ridge_reg.fit(X_re, y_re)\n",
    "\n",
    "# predict y\n",
    "y_ridge_pred = ridge_reg.predict(X_re)\n",
    "\n",
    "# Plot fit over data\n",
    "plt.scatter(X_re, y_re, s=10)\n",
    "plt.plot(X_re, y_ridge_pred, color='r')\n",
    "plt.show()\n",
    "\n",
    "# Model accuracy\n",
    "rmse = np.sqrt(mean_squared_error(y_re, y_ridge_pred))\n",
    "r2 = r2_score(y_re, y_ridge_pred)\n",
    "print(\"RMSE: \" + str(rmse))\n",
    "print(\"R2 score: \" + str(r2))"
   ]
  },
  {
   "cell_type": "code",
   "execution_count": 6,
   "metadata": {
    "execution": {
     "iopub.execute_input": "2021-02-01T11:28:12.229197Z",
     "iopub.status.busy": "2021-02-01T11:28:12.227445Z",
     "iopub.status.idle": "2021-02-01T11:28:12.360387Z",
     "shell.execute_reply": "2021-02-01T11:28:12.360932Z"
    },
    "papermill": {
     "duration": 0.169178,
     "end_time": "2021-02-01T11:28:12.361073",
     "exception": false,
     "start_time": "2021-02-01T11:28:12.191895",
     "status": "completed"
    },
    "tags": []
   },
   "outputs": [
    {
     "data": {
      "image/png": "[encoded data removed]",
      "text/plain": [
       "<Figure size 432x288 with 1 Axes>"
      ]
     },
     "metadata": {
      "needs_background": "light"
     },
     "output_type": "display_data"
    },
    {
     "name": "stdout",
     "output_type": "stream",
     "text": [
      "RMSE: 5.664306099570402\n",
      "R2 score: 0.12572698850601627\n",
      "\n",
      "Data mean is : 19.63714285714286\n"
     ]
    }
   ],
   "source": [
    "# define model with very large alpha\n",
    "ridge_reg = Ridge(alpha=10000)\n",
    "\n",
    "# reshape\n",
    "X_re = X[:, np.newaxis]\n",
    "y_re = y[:, np.newaxis]\n",
    "\n",
    "# fit ridge model\n",
    "ridge_reg.fit(X_re, y_re)\n",
    "\n",
    "# predict y\n",
    "y_ridge_pred = ridge_reg.predict(X_re)\n",
    "\n",
    "# Plot fit over data\n",
    "plt.scatter(X_re, y_re, s=10)\n",
    "plt.plot(X_re, y_ridge_pred, color='r')\n",
    "plt.show()\n",
    "\n",
    "# Model accuracy\n",
    "rmse = np.sqrt(mean_squared_error(y_re, y_ridge_pred))\n",
    "r2 = r2_score(y_re, y_ridge_pred)\n",
    "print(\"RMSE: \" + str(rmse))\n",
    "print(\"R2 score: \" + str(r2))\n",
    "\n",
    "print(\"\\nData mean is : \" + str(np.mean(y_re)))"
   ]
  },
  {
   "cell_type": "markdown",
   "metadata": {
    "papermill": {
     "duration": 0.019598,
     "end_time": "2021-02-01T11:28:12.400696",
     "exception": false,
     "start_time": "2021-02-01T11:28:12.381098",
     "status": "completed"
    },
    "tags": []
   },
   "source": [
    "By controlling the model weights, ridge regularization reduces the variance of a model.\n",
    "Let's try ridge regularization after polynomial transformation with degree=10 versus without regularization."
   ]
  },
  {
   "cell_type": "code",
   "execution_count": 7,
   "metadata": {
    "execution": {
     "iopub.execute_input": "2021-02-01T11:28:12.456598Z",
     "iopub.status.busy": "2021-02-01T11:28:12.455469Z",
     "iopub.status.idle": "2021-02-01T11:28:12.598371Z",
     "shell.execute_reply": "2021-02-01T11:28:12.599071Z"
    },
    "papermill": {
     "duration": 0.178747,
     "end_time": "2021-02-01T11:28:12.599292",
     "exception": false,
     "start_time": "2021-02-01T11:28:12.420545",
     "status": "completed"
    },
    "tags": []
   },
   "outputs": [
    {
     "data": {
      "image/png": "[encoded data removed]",
      "text/plain": [
       "<Figure size 432x288 with 1 Axes>"
      ]
     },
     "metadata": {
      "needs_background": "light"
     },
     "output_type": "display_data"
    },
    {
     "name": "stdout",
     "output_type": "stream",
     "text": [
      "RMSE: 4.0184829346092235\n",
      "R2 score: 0.5599744448774785\n"
     ]
    }
   ],
   "source": [
    "# reshape\n",
    "X_re = X[:, np.newaxis]\n",
    "y_re = y[:, np.newaxis]\n",
    "\n",
    "# polynomial transformation\n",
    "polynomial_features= PolynomialFeatures(degree=10)\n",
    "X_poly = polynomial_features.fit_transform(X_re)\n",
    "\n",
    "#----------\n",
    "\n",
    "# Model without regularization\n",
    "\n",
    "lin_reg = LinearRegression()\n",
    "lin_reg.fit(X_poly, y_re)\n",
    "\n",
    "y_poly_pred = lin_reg.predict(X_poly)\n",
    "\n",
    "# Plot fit over data\n",
    "plt.scatter(X_re, y_re, s=10)\n",
    "sort_axis = operator.itemgetter(0)\n",
    "sorted_zip = sorted(zip(X_re, y_poly_pred), key=sort_axis)\n",
    "X_re_sort, y_poly_pred = zip(*sorted_zip)\n",
    "plt.plot(X_re_sort, y_poly_pred, color='r')\n",
    "plt.show()\n",
    "\n",
    "# Model accuracy\n",
    "rmse = np.sqrt(mean_squared_error(y_re, y_poly_pred))\n",
    "r2 = r2_score(y_re, y_poly_pred)\n",
    "print(\"RMSE: \" + str(rmse))\n",
    "print(\"R2 score: \" + str(r2))\n",
    "\n"
   ]
  },
  {
   "cell_type": "code",
   "execution_count": 8,
   "metadata": {
    "execution": {
     "iopub.execute_input": "2021-02-01T11:28:12.656180Z",
     "iopub.status.busy": "2021-02-01T11:28:12.655434Z",
     "iopub.status.idle": "2021-02-01T11:28:12.802973Z",
     "shell.execute_reply": "2021-02-01T11:28:12.803605Z"
    },
    "papermill": {
     "duration": 0.179761,
     "end_time": "2021-02-01T11:28:12.803775",
     "exception": false,
     "start_time": "2021-02-01T11:28:12.624014",
     "status": "completed"
    },
    "tags": []
   },
   "outputs": [
    {
     "name": "stderr",
     "output_type": "stream",
     "text": [
      "/opt/conda/lib/python3.7/site-packages/sklearn/linear_model/_ridge.py:148: LinAlgWarning: Ill-conditioned matrix (rcond=2.05472e-29): result may not be accurate.\n",
      "  overwrite_a=True).T\n"
     ]
    },
    {
     "data": {
      "image/png": "[encoded data removed]",
      "text/plain": [
       "<Figure size 432x288 with 1 Axes>"
      ]
     },
     "metadata": {
      "needs_background": "light"
     },
     "output_type": "display_data"
    },
    {
     "name": "stdout",
     "output_type": "stream",
     "text": [
      "RMSE: 3.9183157683812606\n",
      "R2 score: 0.5816377340057715\n"
     ]
    }
   ],
   "source": [
    "# Model with ridge regularization\n",
    "from sklearn.linear_model import Ridge\n",
    "\n",
    "# define model with alpha=xxx\n",
    "ridge_reg = Ridge(alpha=10)\n",
    "\n",
    "# fit ridge model\n",
    "ridge_reg.fit(X_poly, y_re)\n",
    "\n",
    "# predict y\n",
    "y_ridge_poly_pred = ridge_reg.predict(X_poly)\n",
    "\n",
    "# Plot fit over data\n",
    "plt.scatter(X_re, y_re, s=10)\n",
    "sort_axis = operator.itemgetter(0)\n",
    "sorted_zip = sorted(zip(X_re, y_ridge_poly_pred), key=sort_axis)\n",
    "X_re_sort, y_ridge_poly_pred = zip(*sorted_zip)\n",
    "plt.plot(X_re_sort, y_ridge_poly_pred, color='r')\n",
    "plt.show()\n",
    "\n",
    "# Model accuracy\n",
    "rmse = np.sqrt(mean_squared_error(y_re, y_ridge_poly_pred))\n",
    "r2 = r2_score(y_re, y_ridge_poly_pred)\n",
    "print(\"RMSE: \" + str(rmse))\n",
    "print(\"R2 score: \" + str(r2))"
   ]
  },
  {
   "cell_type": "markdown",
   "metadata": {
    "papermill": {
     "duration": 0.021802,
     "end_time": "2021-02-01T11:28:12.848589",
     "exception": false,
     "start_time": "2021-02-01T11:28:12.826787",
     "status": "completed"
    },
    "tags": []
   },
   "source": [
    "# 2. Lasso Regression\n",
    "\n",
    "**Lasso Regression** stands for **Least Absolute Shrinkage and Selection Operator Regression**. Like Ridge, the model is regularized by adding a regularization term to the cost function, but it uses the L1 norm of the weight vector instead of half the square of the L2 norm.\n",
    "\n",
    "Lasso regression tends to eliminate the weights of the least important features by setting them to zero. Thus, **Lasso performs feature selection** and outputs a sparse model with only a few nonzero feature weights."
   ]
  },
  {
   "cell_type": "code",
   "execution_count": 9,
   "metadata": {
    "execution": {
     "iopub.execute_input": "2021-02-01T11:28:12.909989Z",
     "iopub.status.busy": "2021-02-01T11:28:12.909258Z",
     "iopub.status.idle": "2021-02-01T11:28:13.064539Z",
     "shell.execute_reply": "2021-02-01T11:28:13.065114Z"
    },
    "papermill": {
     "duration": 0.194054,
     "end_time": "2021-02-01T11:28:13.065256",
     "exception": false,
     "start_time": "2021-02-01T11:28:12.871202",
     "status": "completed"
    },
    "tags": []
   },
   "outputs": [
    {
     "name": "stderr",
     "output_type": "stream",
     "text": [
      "/opt/conda/lib/python3.7/site-packages/sklearn/linear_model/_coordinate_descent.py:531: ConvergenceWarning: Objective did not converge. You might want to increase the number of iterations. Duality gap: 266.16215874538346, tolerance: 0.12844417142857145\n",
      "  positive)\n"
     ]
    },
    {
     "data": {
      "image/png": "[encoded data removed]",
      "text/plain": [
       "<Figure size 432x288 with 1 Axes>"
      ]
     },
     "metadata": {
      "needs_background": "light"
     },
     "output_type": "display_data"
    },
    {
     "name": "stdout",
     "output_type": "stream",
     "text": [
      "RMSE: 3.6695733053250272\n",
      "R2 score: 0.6330686840293992\n"
     ]
    }
   ],
   "source": [
    "# Polynomial regression as before but using Lasso regularization\n",
    "\n",
    "from sklearn.linear_model import Lasso\n",
    "\n",
    "# define model with alpha=10\n",
    "lasso_reg = Lasso(alpha=10)\n",
    "\n",
    "# fit ridge model\n",
    "lasso_reg.fit(X_poly, y_re)\n",
    "\n",
    "# predict y\n",
    "y_lasso_poly_pred = lasso_reg.predict(X_poly)\n",
    "\n",
    "# Plot fit over data\n",
    "plt.scatter(X_re, y_re, s=10)\n",
    "sort_axis = operator.itemgetter(0)\n",
    "sorted_zip = sorted(zip(X_re, y_lasso_poly_pred), key=sort_axis)\n",
    "X_re_sort, y_lasso_poly_pred = zip(*sorted_zip)\n",
    "plt.plot(X_re_sort, y_lasso_poly_pred, color='r')\n",
    "plt.show()\n",
    "\n",
    "# Model accuracy\n",
    "rmse = np.sqrt(mean_squared_error(y_re, y_lasso_poly_pred))\n",
    "r2 = r2_score(y_re, y_lasso_poly_pred)\n",
    "print(\"RMSE: \" + str(rmse))\n",
    "print(\"R2 score: \" + str(r2))"
   ]
  },
  {
   "cell_type": "markdown",
   "metadata": {
    "papermill": {
     "duration": 0.024382,
     "end_time": "2021-02-01T11:28:13.113920",
     "exception": false,
     "start_time": "2021-02-01T11:28:13.089538",
     "status": "completed"
    },
    "tags": []
   },
   "source": [
    "# 3. Elastic Net\n",
    "\n",
    "Elastic Net is the middle ground between Ridge Regression and Lasso Regression. Its **regularization term is a mixture of those of Ridge and Lasso** and the mix ratio can be controlled by r.\n",
    "\n",
    "When r=0, Elastic Net is equivalent to Lasso Regression\n",
    "When r=1, Elastic Net is equivalent to Ridge Regression\n",
    "\n",
    "We should avoid using Linear Regression without regularization. **Ridge Regression** is a good default but when we think that only a small number if features are relevant, we could use **Lasso Regression**. However, Lasso can behave too erratically when the number of features is greater than the number of training instances or when several features are strongly correlated. In that case, **Elastic Net** can be used instead of Lasso to control the behavior to be less extreme."
   ]
  },
  {
   "cell_type": "code",
   "execution_count": 10,
   "metadata": {
    "execution": {
     "iopub.execute_input": "2021-02-01T11:28:13.180038Z",
     "iopub.status.busy": "2021-02-01T11:28:13.173750Z",
     "iopub.status.idle": "2021-02-01T11:28:13.319375Z",
     "shell.execute_reply": "2021-02-01T11:28:13.318764Z"
    },
    "papermill": {
     "duration": 0.180609,
     "end_time": "2021-02-01T11:28:13.319480",
     "exception": false,
     "start_time": "2021-02-01T11:28:13.138871",
     "status": "completed"
    },
    "tags": []
   },
   "outputs": [
    {
     "data": {
      "image/png": "[encoded data removed]",
      "text/plain": [
       "<Figure size 432x288 with 1 Axes>"
      ]
     },
     "metadata": {
      "needs_background": "light"
     },
     "output_type": "display_data"
    },
    {
     "name": "stdout",
     "output_type": "stream",
     "text": [
      "RMSE: 4.11201562278132\n",
      "R2 score: 0.5392523223998349\n"
     ]
    }
   ],
   "source": [
    "from sklearn.linear_model import ElasticNet\n",
    "\n",
    "# define elastic net model\n",
    "elastic_net = ElasticNet(alpha=1, l1_ratio=0.5) # Lasso 50 : 50 Ridge\n",
    "\n",
    "# fit model\n",
    "elastic_net.fit(X_re, y_re)\n",
    "\n",
    "# predict y\n",
    "y_elas_pred = elastic_net.predict(X_re)\n",
    "\n",
    "# Plot fit over data\n",
    "plt.scatter(X_re, y_re, s=10)\n",
    "sort_axis = operator.itemgetter(0)\n",
    "sorted_zip = sorted(zip(X_re, y_elas_pred), key=sort_axis)\n",
    "X_re_sort, y_lasso_poly_pred = zip(*sorted_zip)\n",
    "plt.plot(X_re_sort, y_elas_pred, color='r')\n",
    "plt.show()\n",
    "\n",
    "# Model accuracy\n",
    "rmse = np.sqrt(mean_squared_error(y_re, y_elas_pred))\n",
    "r2 = r2_score(y_re, y_elas_pred)\n",
    "print(\"RMSE: \" + str(rmse))\n",
    "print(\"R2 score: \" + str(r2))"
   ]
  },
  {
   "cell_type": "code",
   "execution_count": 11,
   "metadata": {
    "execution": {
     "iopub.execute_input": "2021-02-01T11:28:13.385648Z",
     "iopub.status.busy": "2021-02-01T11:28:13.380202Z",
     "iopub.status.idle": "2021-02-01T11:28:13.528731Z",
     "shell.execute_reply": "2021-02-01T11:28:13.527976Z"
    },
    "papermill": {
     "duration": 0.184063,
     "end_time": "2021-02-01T11:28:13.528858",
     "exception": false,
     "start_time": "2021-02-01T11:28:13.344795",
     "status": "completed"
    },
    "tags": []
   },
   "outputs": [
    {
     "data": {
      "image/png": "[encoded data removed]",
      "text/plain": [
       "<Figure size 432x288 with 1 Axes>"
      ]
     },
     "metadata": {
      "needs_background": "light"
     },
     "output_type": "display_data"
    },
    {
     "name": "stdout",
     "output_type": "stream",
     "text": [
      "RMSE: 4.111429299795064\n",
      "R2 score: 0.5393837069660432\n"
     ]
    }
   ],
   "source": [
    "# define elastic net model\n",
    "elastic_net = ElasticNet(alpha=1, l1_ratio=0.1) # Lasso 10 : 90 Ridge\n",
    "\n",
    "# fit model\n",
    "elastic_net.fit(X_re, y_re)\n",
    "\n",
    "# predict y\n",
    "y_elas_pred = elastic_net.predict(X_re)\n",
    "\n",
    "# Plot fit over data\n",
    "plt.scatter(X_re, y_re, s=10)\n",
    "sort_axis = operator.itemgetter(0)\n",
    "sorted_zip = sorted(zip(X_re, y_elas_pred), key=sort_axis)\n",
    "X_re_sort, y_lasso_poly_pred = zip(*sorted_zip)\n",
    "plt.plot(X_re_sort, y_elas_pred, color='r')\n",
    "plt.show()\n",
    "\n",
    "# Model accuracy\n",
    "rmse = np.sqrt(mean_squared_error(y_re, y_elas_pred))\n",
    "r2 = r2_score(y_re, y_elas_pred)\n",
    "print(\"RMSE: \" + str(rmse))\n",
    "print(\"R2 score: \" + str(r2))"
   ]
  },
  {
   "cell_type": "code",
   "execution_count": 12,
   "metadata": {
    "execution": {
     "iopub.execute_input": "2021-02-01T11:28:13.600099Z",
     "iopub.status.busy": "2021-02-01T11:28:13.594404Z",
     "iopub.status.idle": "2021-02-01T11:28:13.746246Z",
     "shell.execute_reply": "2021-02-01T11:28:13.746796Z"
    },
    "papermill": {
     "duration": 0.191322,
     "end_time": "2021-02-01T11:28:13.746944",
     "exception": false,
     "start_time": "2021-02-01T11:28:13.555622",
     "status": "completed"
    },
    "tags": []
   },
   "outputs": [
    {
     "data": {
      "image/png": "[encoded data removed]",
      "text/plain": [
       "<Figure size 432x288 with 1 Axes>"
      ]
     },
     "metadata": {
      "needs_background": "light"
     },
     "output_type": "display_data"
    },
    {
     "name": "stdout",
     "output_type": "stream",
     "text": [
      "RMSE: 4.1127112209940595\n",
      "R2 score: 0.5390964268982945\n"
     ]
    }
   ],
   "source": [
    "# define elastic net model\n",
    "elastic_net = ElasticNet(alpha=1, l1_ratio=0.9) # Lasso 90 : 10 Ridge\n",
    "\n",
    "# fit model\n",
    "elastic_net.fit(X_re, y_re)\n",
    "\n",
    "# predict y\n",
    "y_elas_pred = elastic_net.predict(X_re)\n",
    "\n",
    "# Plot fit over data\n",
    "plt.scatter(X_re, y_re, s=10)\n",
    "sort_axis = operator.itemgetter(0)\n",
    "sorted_zip = sorted(zip(X_re, y_elas_pred), key=sort_axis)\n",
    "X_re_sort, y_lasso_poly_pred = zip(*sorted_zip)\n",
    "plt.plot(X_re_sort, y_elas_pred, color='r')\n",
    "plt.show()\n",
    "\n",
    "# Model accuracy\n",
    "rmse = np.sqrt(mean_squared_error(y_re, y_elas_pred))\n",
    "r2 = r2_score(y_re, y_elas_pred)\n",
    "print(\"RMSE: \" + str(rmse))\n",
    "print(\"R2 score: \" + str(r2))"
   ]
  },
  {
   "cell_type": "markdown",
   "metadata": {
    "papermill": {
     "duration": 0.028305,
     "end_time": "2021-02-01T11:28:13.804233",
     "exception": false,
     "start_time": "2021-02-01T11:28:13.775928",
     "status": "completed"
    },
    "tags": []
   },
   "source": [
    "## Why is Ridge called an L2 regularization? Why Lasso L1?\n",
    "\n",
    "When we talk about norms in machine learning, we are talking about mathematical ways to express distance between two vectors.\n",
    "\n",
    "**Manhattan distance** or **taxicab geometry** measure distance by summing up the right-angle distances (like a cab driving around a block).\n",
    "\n",
    "**Euclidean distance** is the simplest form, it is how we would measure the distance between two points (diagonal distance)\n",
    "\n",
    "When we fit a model, we have a cost function which measures the distance between the predicted and actual point. Thus, our definition of distance is relevant for the cost function.\n",
    "\n",
    "Euclidean distance is also called the **L2 norm** and Manhattan distance is known as **L1 norm**. \n",
    "\n",
    "Thus, **Ridge Regression uses Euclidean Distance** and **Lasso Regressionen uses Manhattan distance** when expressing the regularization term which is added to the cost function.\n",
    "\n",
    "More: https://www.kaggle.com/residentmario/l1-norms-versus-l2-norms\n",
    "\n",
    "\n",
    "## When do we use Ridge, when Lasso?\n",
    "\n",
    "- L1 is more robust against outliers (extreme values) than L2 since L2 squares values\n",
    "- L2 is more stable than L1 (? resistance to horizontal adjustments ?)\n",
    "- there is ony one numeric solution for L2 (one diagonal), but many for L1 (many ways to get from A to B in Manhattan)\n",
    "- L1 is more difficult to compute than L2, since L2 has a closed form solution but L1 can only be solved piece-wise\n",
    "- L1 leads to more sparsity (elimination of many feature weights) then L2"
   ]
  },
  {
   "cell_type": "code",
   "execution_count": null,
   "metadata": {
    "papermill": {
     "duration": 0.028366,
     "end_time": "2021-02-01T11:28:13.860707",
     "exception": false,
     "start_time": "2021-02-01T11:28:13.832341",
     "status": "completed"
    },
    "tags": []
   },
   "outputs": [],
   "source": []
  }
 ],
 "metadata": {
  "kernelspec": {
   "display_name": "Python 3",
   "language": "python",
   "name": "python3"
  },
  "language_info": {
   "codemirror_mode": {
    "name": "ipython",
    "version": 3
   },
   "file_extension": ".py",
   "mimetype": "text/x-python",
   "name": "python",
   "nbconvert_exporter": "python",
   "pygments_lexer": "ipython3",
   "version": "3.7.6"
  },
  "papermill": {
   "duration": 11.103908,
   "end_time": "2021-02-01T11:28:13.999175",
   "environment_variables": {},
   "exception": null,
   "input_path": "__notebook__.ipynb",
   "output_path": "__notebook__.ipynb",
   "parameters": {},
   "start_time": "2021-02-01T11:28:02.895267",
   "version": "2.1.0"
  }
 },
 "nbformat": 4,
 "nbformat_minor": 4
}
