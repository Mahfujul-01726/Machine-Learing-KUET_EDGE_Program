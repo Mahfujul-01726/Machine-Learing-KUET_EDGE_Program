{
  "nbformat": 4,
  "nbformat_minor": 0,
  "metadata": {
    "colab": {
      "provenance": []
    },
    "kernelspec": {
      "name": "python3",
      "display_name": "Python 3"
    },
    "language_info": {
      "name": "python"
    }
  },
  "cells": [
    {
      "cell_type": "code",
      "source": [
        "import math\n",
        "\n",
        "def binomial_expansion(a, b, n):\n",
        "    # List to store the result terms\n",
        "    result = []\n",
        "\n",
        "    # Iterate over each term in the expansion\n",
        "    for k in range(n + 1):\n",
        "        # Calculate the binomial coefficient\n",
        "        coefficient = math.comb(n, k)  # math.comb(n, k) is equivalent to nCk\n",
        "        # Calculate the terms a^(n-k) and b^k\n",
        "        term = coefficient * (a ** (n - k)) * (b ** k)\n",
        "        # Append the result term\n",
        "        result.append(term)\n",
        "\n",
        "    return result\n",
        "\n",
        "# Example usage:\n",
        "a = 2\n",
        "b = 3\n",
        "n = 4\n",
        "expansion = binomial_expansion(a, b, n)\n",
        "print(expansion)\n"
      ],
      "metadata": {
        "colab": {
          "base_uri": "https://localhost:8080/"
        },
        "id": "doYESZJPEfqd",
        "outputId": "7aeaccec-2159-44ab-bfd8-c0a930535199"
      },
      "execution_count": null,
      "outputs": [
        {
          "output_type": "stream",
          "name": "stdout",
          "text": [
            "[16, 96, 216, 216, 81]\n"
          ]
        }
      ]
    },
    {
      "cell_type": "markdown",
      "source": [
        "# Factorial Problem"
      ],
      "metadata": {
        "id": "EBnn1vNrMljs"
      }
    },
    {
      "cell_type": "code",
      "source": [
        "a=int(input(\"Enter the factorial number: \"))\n",
        "\n",
        "fact=1\n",
        "for i in range(1,a+1):\n",
        "    fact=fact*i\n",
        "print(\"The output is: \",fact)"
      ],
      "metadata": {
        "colab": {
          "base_uri": "https://localhost:8080/"
        },
        "id": "AKk8OxepEfol",
        "outputId": "bc60a09f-75eb-4334-9668-bed86ae87c0c"
      },
      "execution_count": null,
      "outputs": [
        {
          "output_type": "stream",
          "name": "stdout",
          "text": [
            "Enter the factorial number: 4\n",
            "The output is:  24\n"
          ]
        }
      ]
    },
    {
      "cell_type": "markdown",
      "source": [
        "# Fibonacchi"
      ],
      "metadata": {
        "id": "FuEo5MkrPhNt"
      }
    },
    {
      "cell_type": "code",
      "source": [
        "n=int(input(\"Enter the targeted number: \"))\n",
        "def fibonacci(n):\n",
        "    fib = [0, 1]\n",
        "    for i in range(2, n):\n",
        "        fib.append(fib[i - 1] + fib[i - 2])\n",
        "    return fib[:n]\n",
        "\n",
        "print(fibonacci(n))\n"
      ],
      "metadata": {
        "colab": {
          "base_uri": "https://localhost:8080/"
        },
        "id": "DMgZHPx2Nz3b",
        "outputId": "637b67e0-9738-4069-f1e9-ae66c5416984"
      },
      "execution_count": null,
      "outputs": [
        {
          "output_type": "stream",
          "name": "stdout",
          "text": [
            "Enter the targeted number: 8\n",
            "[0, 1, 1, 2, 3, 5, 8, 13]\n"
          ]
        }
      ]
    },
    {
      "cell_type": "code",
      "source": [
        "n = int(input(\"Enter the targeted number: \"))\n",
        "\n",
        "def fibonacci(n):\n",
        "    fib = [0, 1]\n",
        "    for i in range(2, n):\n",
        "        fib.append(fib[i - 1] + fib[i - 2])\n",
        "    return fib[:n]\n",
        "\n",
        "fib_sequence = fibonacci(n)\n",
        "\n",
        "print(\"Fibonacci sequence:\", fib_sequence)\n",
        "\n",
        "fib_sum = sum(fib_sequence)\n",
        "\n",
        "print(\"Sum of Fibonacci sequence:\", fib_sum)\n"
      ],
      "metadata": {
        "colab": {
          "base_uri": "https://localhost:8080/"
        },
        "id": "A2S6LCS6hbHs",
        "outputId": "2b8be1cb-66e5-46b1-96dd-93de694904e4"
      },
      "execution_count": null,
      "outputs": [
        {
          "output_type": "stream",
          "name": "stdout",
          "text": [
            "Enter the targeted number: 8\n",
            "Fibonacci sequence: [0, 1, 1, 2, 3, 5, 8, 13]\n",
            "Sum of Fibonacci sequence: 33\n"
          ]
        }
      ]
    },
    {
      "cell_type": "markdown",
      "source": [
        "# Bubble sorting"
      ],
      "metadata": {
        "id": "9hm7nBZ6b358"
      }
    },
    {
      "cell_type": "code",
      "source": [
        "def bubble_sort(arr):\n",
        "    n = len(arr)\n",
        "    for i in range(n):\n",
        "        for j in range(0, n-i-1):\n",
        "            if arr[j] > arr[j+1]:\n",
        "                arr[j], arr[j+1] = arr[j+1], arr[j]\n",
        "    return arr\n",
        "\n",
        "arr = [64, 34, 25, 12, 22, 11, 90]\n",
        "sorted_arr = bubble_sort(arr)\n",
        "print(\"Sorted array:\", sorted_arr)\n"
      ],
      "metadata": {
        "id": "kTtGFksWNz1T"
      },
      "execution_count": null,
      "outputs": []
    },
    {
      "cell_type": "code",
      "source": [
        "list=[1,6,9,12,3,5,2]\n",
        "n=len(list)\n",
        "for i in range(0,n-1):\n",
        "    for j in range(0, n-1-i):\n",
        "      if list[j]>list[j+1]:\n",
        "        list[j],list[j+1]=list[j+1],list[j]\n",
        "        print(list)\n",
        "print(list)"
      ],
      "metadata": {
        "id": "b3CmZfgSNzyz",
        "colab": {
          "base_uri": "https://localhost:8080/"
        },
        "outputId": "1810731a-eed1-45f4-85cd-f347185be5e9"
      },
      "execution_count": null,
      "outputs": [
        {
          "output_type": "stream",
          "name": "stdout",
          "text": [
            "[1, 6, 9, 3, 12, 5, 2]\n",
            "[1, 6, 9, 3, 5, 12, 2]\n",
            "[1, 6, 9, 3, 5, 2, 12]\n",
            "[1, 6, 3, 9, 5, 2, 12]\n",
            "[1, 6, 3, 5, 9, 2, 12]\n",
            "[1, 6, 3, 5, 2, 9, 12]\n",
            "[1, 3, 6, 5, 2, 9, 12]\n",
            "[1, 3, 5, 6, 2, 9, 12]\n",
            "[1, 3, 5, 2, 6, 9, 12]\n",
            "[1, 3, 2, 5, 6, 9, 12]\n",
            "[1, 2, 3, 5, 6, 9, 12]\n",
            "[1, 2, 3, 5, 6, 9, 12]\n"
          ]
        }
      ]
    },
    {
      "cell_type": "markdown",
      "source": [
        "# Email Address Valid or Invalid\n"
      ],
      "metadata": {
        "id": "dV7iz7NNkeWK"
      }
    },
    {
      "cell_type": "code",
      "source": [
        "import re\n",
        "\n",
        "def validate_email(email):\n",
        "\n",
        "    email_regex = r'^[a-zA-Z0-9_.+-]+@[a-zA-Z0-9-]+\\.[a-zA-Z0-9-.]+$'\n",
        "\n",
        "    if re.match(email_regex, email):\n",
        "        return True\n",
        "    else:\n",
        "        return False\n",
        "\n",
        "email = input(\"Enter an email address: \")\n",
        "\n",
        "if validate_email(email):\n",
        "    print(\"The email address is valid.\")\n",
        "else:\n",
        "    print(\"The email address is invalid.\")\n"
      ],
      "metadata": {
        "id": "74wKHZw_Nzwj",
        "colab": {
          "base_uri": "https://localhost:8080/"
        },
        "outputId": "ff57c6cb-a91d-4e16-ccb8-6c5f410b3161"
      },
      "execution_count": null,
      "outputs": [
        {
          "output_type": "stream",
          "name": "stdout",
          "text": [
            "Enter an email address: amla@onmicrosoft.ac.bd.mm\n",
            "The email address is valid.\n"
          ]
        }
      ]
    },
    {
      "cell_type": "code",
      "source": [
        "student = {\n",
        "  \"galib\" : {\n",
        "    \"term1\" : {\n",
        "        \"sub1\":\"A\",\n",
        "        \"mark1\":\"90\"\n",
        "    }\n",
        "\n",
        "  },\n",
        "}\n",
        "\n",
        "\n",
        "print(student)\n"
      ],
      "metadata": {
        "id": "e0BAyDWaNzr0",
        "colab": {
          "base_uri": "https://localhost:8080/"
        },
        "outputId": "3cfd44ab-b567-4fac-ce32-8c225de0dd22"
      },
      "execution_count": null,
      "outputs": [
        {
          "output_type": "stream",
          "name": "stdout",
          "text": [
            "{'galib': {'term1': {'sub1': 'A', 'mark1': '90'}}}\n"
          ]
        }
      ]
    },
    {
      "cell_type": "code",
      "source": [],
      "metadata": {
        "id": "K0KxmMvPEfl0"
      },
      "execution_count": null,
      "outputs": []
    }
  ]
}