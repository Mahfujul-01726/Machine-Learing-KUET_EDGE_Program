{
  "nbformat": 4,
  "nbformat_minor": 0,
  "metadata": {
    "colab": {
      "provenance": []
    },
    "kernelspec": {
      "name": "python3",
      "display_name": "Python 3"
    },
    "language_info": {
      "name": "python"
    }
  },
  "cells": [
    {
      "cell_type": "code",
      "execution_count": null,
      "metadata": {
        "id": "IUiDqRO6QbHG"
      },
      "outputs": [],
      "source": [
        "#Factorial Calculation: Computes the product of all positive integers up to a given number.\n",
        "def factorial(n):\n",
        "    result = 1\n",
        "    for i in range(1, n + 1):\n",
        "        result *= i\n",
        "    return result\n",
        "\n",
        "print(\"Factorial of 5:\", factorial(5))\n"
      ]
    },
    {
      "cell_type": "code",
      "source": [
        "#Fibonacci Sequence : Generates a sequence where each number is the sum of the two preceding ones\n",
        "def fibonacci(n):\n",
        "    a, b = 0, 1\n",
        "    for _ in range(n):\n",
        "        print(a, end=\" \")\n",
        "        a, b = b, a + b\n",
        "\n",
        "print(\"Fibonacci sequence:\")\n",
        "fibonacci(10)\n"
      ],
      "metadata": {
        "id": "pqcq37glRpTE"
      },
      "execution_count": null,
      "outputs": []
    },
    {
      "cell_type": "code",
      "source": [
        "#Prime Number Detection\n",
        "def is_prime(num):\n",
        "    if num < 2:\n",
        "        return False\n",
        "    for i in range(2, int(num ** 0.5) + 1):\n",
        "        if num % i == 0:\n",
        "            return False\n",
        "    return True\n",
        "\n",
        "print(\"Is 29 prime?\", is_prime(29))\n"
      ],
      "metadata": {
        "id": "hcy7dAu0Sm4S"
      },
      "execution_count": null,
      "outputs": []
    },
    {
      "cell_type": "code",
      "source": [
        "#Bubble Sort:Repeatedly swaps adjacent elements if they are in the wrong order.\n",
        "def bubble_sort(arr):\n",
        "    n = len(arr)\n",
        "    for i in range(n):\n",
        "        for j in range(0, n - i - 1):\n",
        "            if arr[j] > arr[j + 1]:\n",
        "                arr[j], arr[j + 1] = arr[j + 1], arr[j]\n",
        "    return arr\n",
        "\n",
        "print(\"Sorted array:\", bubble_sort([64, 34, 25, 12, 22, 11, 90]))\n"
      ],
      "metadata": {
        "id": "mEQdPYfPTLE5"
      },
      "execution_count": null,
      "outputs": []
    },
    {
      "cell_type": "code",
      "source": [
        "list=[4,8,0,9,2,3]\n",
        "n=len(list)\n",
        "for i in range(0,n):\n",
        "  for j in range(0,n-1-i):\n",
        "    if list[j]> list[j+1]:\n",
        "      list[j],list[j+1]=list[j+1],list[j]\n",
        "  print(list)\n",
        "print(list)"
      ],
      "metadata": {
        "colab": {
          "base_uri": "https://localhost:8080/"
        },
        "id": "BoM4mMf5YO8O",
        "outputId": "1982d29c-e151-452b-8bf7-b92859a130fc"
      },
      "execution_count": null,
      "outputs": [
        {
          "output_type": "stream",
          "name": "stdout",
          "text": [
            "[4, 0, 8, 2, 3, 9]\n",
            "[0, 4, 2, 3, 8, 9]\n",
            "[0, 2, 3, 4, 8, 9]\n",
            "[0, 2, 3, 4, 8, 9]\n",
            "[0, 2, 3, 4, 8, 9]\n",
            "[0, 2, 3, 4, 8, 9]\n",
            "[0, 2, 3, 4, 8, 9]\n"
          ]
        }
      ]
    },
    {
      "cell_type": "code",
      "source": [
        "list=[2,8,4,9,1,3]\n",
        "n=len(list)\n",
        "for j in range(0,n-1):\n",
        "  if list[j]> list[j+1]:\n",
        "    list[j],list[j+1]=list[j+1],list[j]\n",
        "print(list)\n"
      ],
      "metadata": {
        "colab": {
          "base_uri": "https://localhost:8080/"
        },
        "id": "yqIhw7nLY08N",
        "outputId": "d18daeb4-6b4c-44bf-d557-7f3866d470e5"
      },
      "execution_count": null,
      "outputs": [
        {
          "output_type": "stream",
          "name": "stdout",
          "text": [
            "[2, 4, 8, 1, 3, 9]\n"
          ]
        }
      ]
    },
    {
      "cell_type": "code",
      "source": [
        "#to reverse a given list using a loop.\n",
        "def reverse(arr):\n",
        "  n=len(arr)\n",
        "  for i in range(n//2):\n",
        "    arr[i],arr[n-i-1]=arr[n-i-1],arr[i]\n",
        "  return arr\n",
        "\n",
        "print(reverse([1,2,3,4,5]))"
      ],
      "metadata": {
        "colab": {
          "base_uri": "https://localhost:8080/"
        },
        "id": "SF7MClUGT56l",
        "outputId": "2ef83bb7-3601-4552-a8b3-011bdc1b1b68"
      },
      "execution_count": null,
      "outputs": [
        {
          "output_type": "stream",
          "name": "stdout",
          "text": [
            "[5, 4, 3, 2, 1]\n"
          ]
        }
      ]
    },
    {
      "cell_type": "markdown",
      "source": [
        "What is a String?\n",
        "\n",
        "A string is a sequence of characters enclosed in quotes.\n",
        "\n",
        "Strings can be created using:\n",
        "\n",
        "Single quotes: 'Hello'\n",
        "\n",
        "Double quotes: \"Hello\"\n",
        "\n",
        "Triple quotes (for multi-line strings): \"\"\"Hello\"\"\""
      ],
      "metadata": {
        "id": "KgElpfXdVb7x"
      }
    },
    {
      "cell_type": "code",
      "source": [
        "string1 = 'Hello'\n",
        "string2 = \"World\"\n",
        "multiline = \"\"\"This is\n",
        "a multi-line string.\"\"\"\n",
        "print(string1, string2)\n",
        "print(multiline)\n"
      ],
      "metadata": {
        "colab": {
          "base_uri": "https://localhost:8080/"
        },
        "id": "3kBagRcdVivu",
        "outputId": "55464d01-f882-43d2-f6f1-d6c454751916"
      },
      "execution_count": null,
      "outputs": [
        {
          "output_type": "stream",
          "name": "stdout",
          "text": [
            "Hello World\n",
            "This is\n",
            "a multi-line string.\n"
          ]
        }
      ]
    },
    {
      "cell_type": "code",
      "source": [
        "#Properties of Strings\n",
        "#Immutability: Strings cannot be modified after creation.\n",
        "s = \"hello\"\n",
        "#s[0] = 'H'  # This will raise an error\n",
        "#Indexing: Access individual characters using indices.\n",
        "s = \"Python\"\n",
        "print(s[0])   # Output: P\n",
        "print(s[-1])  # Output: n\n"
      ],
      "metadata": {
        "id": "OY-SDYBaVrt0",
        "colab": {
          "base_uri": "https://localhost:8080/",
          "height": 211
        },
        "outputId": "1c30ce6a-331e-4061-a7cd-be1391a94d0d"
      },
      "execution_count": null,
      "outputs": [
        {
          "output_type": "error",
          "ename": "TypeError",
          "evalue": "'str' object does not support item assignment",
          "traceback": [
            "\u001b[0;31m---------------------------------------------------------------------------\u001b[0m",
            "\u001b[0;31mTypeError\u001b[0m                                 Traceback (most recent call last)",
            "\u001b[0;32m<ipython-input-11-86744bd0bb02>\u001b[0m in \u001b[0;36m<cell line: 4>\u001b[0;34m()\u001b[0m\n\u001b[1;32m      2\u001b[0m \u001b[0;31m#Immutability: Strings cannot be modified after creation.\u001b[0m\u001b[0;34m\u001b[0m\u001b[0;34m\u001b[0m\u001b[0m\n\u001b[1;32m      3\u001b[0m \u001b[0ms\u001b[0m \u001b[0;34m=\u001b[0m \u001b[0;34m\"hello\"\u001b[0m\u001b[0;34m\u001b[0m\u001b[0;34m\u001b[0m\u001b[0m\n\u001b[0;32m----> 4\u001b[0;31m \u001b[0ms\u001b[0m\u001b[0;34m[\u001b[0m\u001b[0;36m0\u001b[0m\u001b[0;34m]\u001b[0m \u001b[0;34m=\u001b[0m \u001b[0;34m'H'\u001b[0m  \u001b[0;31m# This will raise an error\u001b[0m\u001b[0;34m\u001b[0m\u001b[0;34m\u001b[0m\u001b[0m\n\u001b[0m\u001b[1;32m      5\u001b[0m \u001b[0;31m#Indexing: Access individual characters using indices.\u001b[0m\u001b[0;34m\u001b[0m\u001b[0;34m\u001b[0m\u001b[0m\n\u001b[1;32m      6\u001b[0m \u001b[0ms\u001b[0m \u001b[0;34m=\u001b[0m \u001b[0;34m\"Python\"\u001b[0m\u001b[0;34m\u001b[0m\u001b[0;34m\u001b[0m\u001b[0m\n",
            "\u001b[0;31mTypeError\u001b[0m: 'str' object does not support item assignment"
          ]
        }
      ]
    },
    {
      "cell_type": "code",
      "source": [
        "#String Operations\n",
        "#Concatenation\n",
        "s1 = \"Hello\"\n",
        "s2 = \"World\"\n",
        "print(s1 + \" \" + s2)\n",
        "#Repetition:\n",
        "print(\"Python\" * 3)\n",
        "#Membership:\n",
        "print(\"Py\" in \"Python\")\n",
        "print(\"Java\" not in \"Python\")\n"
      ],
      "metadata": {
        "colab": {
          "base_uri": "https://localhost:8080/"
        },
        "id": "fGmBHYPGXTYj",
        "outputId": "c657c565-1e34-4c1c-d4d4-150d6c3bceb7"
      },
      "execution_count": null,
      "outputs": [
        {
          "output_type": "stream",
          "name": "stdout",
          "text": [
            "Hello World\n",
            "PythonPythonPython\n",
            "True\n",
            "True\n"
          ]
        }
      ]
    },
    {
      "cell_type": "code",
      "source": [
        "# prompt: Write code for common python string methods\n",
        "\n",
        "# String Methods\n",
        "\n",
        "# Demonstrates common string methods in Python\n",
        "\n",
        "# Capitalize: Converts the first character to uppercase.\n",
        "string1 = \"hello\"\n",
        "print(string1.capitalize())  # Output: Hello\n",
        "\n",
        "# Casefold: Converts string into lower case\n",
        "string1 = \"Hello\"\n",
        "print(string1.casefold())  # Output: hello\n",
        "\n",
        "# Count: Counts the occurrences of a substring.\n",
        "string1 = \"banana\"\n",
        "print(string1.count(\"a\"))  # Output: 3\n",
        "\n",
        "# Endswith: Checks if the string ends with a specified suffix.\n",
        "string1 = \"hello world\"\n",
        "print(string1.endswith(\"world\"))  # Output: True\n",
        "\n",
        "# Find: Finds the first occurrence of a substring.\n",
        "string1 = \"hello world\"\n",
        "print(string1.find(\"world\"))  # Output: 6\n",
        "\n",
        "# Index: Similar to find but raises an exception if the substring is not found\n",
        "string1 = \"hello world\"\n",
        "print(string1.index(\"world\")) # Output: 6\n",
        "\n",
        "# Isalnum: Checks if all characters are alphanumeric.\n",
        "string1 = \"hello123\"\n",
        "print(string1.isalnum()) # Output: True\n",
        "string2 = \"hello 123\"\n",
        "print(string2.isalnum()) # Output: False\n",
        "\n",
        "# Isalpha: Checks if all characters are alphabetic.\n",
        "string1 = \"hello\"\n",
        "print(string1.isalpha()) # Output: True\n",
        "\n",
        "# Isdigit: Checks if all characters are digits.\n",
        "string1 = \"123\"\n",
        "print(string1.isdigit()) # Output: True\n",
        "\n",
        "# Islower: Checks if all characters are lowercase.\n",
        "string1 = \"hello\"\n",
        "print(string1.islower()) # Output: True\n",
        "\n",
        "# Isupper: Checks if all characters are uppercase.\n",
        "string1 = \"HELLO\"\n",
        "print(string1.isupper()) # Output: True\n",
        "\n",
        "# Join: Joins elements of an iterable with the string as a separator\n",
        "string1 = \"_\"\n",
        "list1 = [\"hello\", \"world\"]\n",
        "print(string1.join(list1))\n",
        "\n",
        "# Lower: Converts the string to lowercase.\n",
        "string1 = \"Hello\"\n",
        "print(string1.lower())  # Output: hello\n",
        "\n",
        "# Replace: Replaces occurrences of a substring with another substring.\n",
        "string1 = \"hello world\"\n",
        "print(string1.replace(\"world\", \"python\"))  # Output: hello python\n",
        "\n",
        "# Split: Splits the string into a list of substrings.\n",
        "string1 = \"hello world\"\n",
        "print(string1.split())  # Output: ['hello', 'world']\n",
        "\n",
        "# Startswith: Checks if the string starts with a specified prefix.\n",
        "string1 = \"hello world\"\n",
        "print(string1.startswith(\"hello\"))  # Output: True\n",
        "\n",
        "# Strip: Removes leading and trailing whitespace.\n",
        "string1 = \"  hello world  \"\n",
        "print(string1.strip())  # Output: hello world\n",
        "\n",
        "# Upper: Converts the string to uppercase\n",
        "string1 = \"hello\"\n",
        "print(string1.upper())  # Output: HELLO"
      ],
      "metadata": {
        "id": "3by8Q4hpX4lB"
      },
      "execution_count": null,
      "outputs": []
    },
    {
      "cell_type": "code",
      "source": [
        "# prompt: write code for python string slicing\n",
        "\n",
        "# String Slicing\n",
        "\n",
        "# Basic slicing\n",
        "my_string = \"Hello, World!\"\n",
        "print(my_string[0:5])  # Output: Hello\n",
        "print(my_string[7:])   # Output: World!\n",
        "print(my_string[:5])   # Output: Hello\n",
        "print(my_string[-6:])  # Output: World!\n",
        "\n",
        "# Slicing with step\n",
        "print(my_string[::2])   # Output: Hlo ol! (every second character)\n",
        "print(my_string[::-1])  # Output: !dlroW ,olleH (reversed string)\n",
        "\n",
        "# Example: Extracting a substring\n",
        "text = \"This is a sample string.\"\n",
        "substring = text[10:16] # Extract from index 10 to 15\n",
        "print(substring) # Output: sample\n",
        "\n",
        "\n",
        "# Example: Reversing a string using slicing\n",
        "original_string = \"Python\"\n",
        "reversed_string = original_string[::-1]\n",
        "print(reversed_string) # Output: nohtyP"
      ],
      "metadata": {
        "id": "fLjdnRHIawRY"
      },
      "execution_count": null,
      "outputs": []
    },
    {
      "cell_type": "code",
      "source": [
        "# prompt: Write code for python string formatting\n",
        "\n",
        "# String Formatting Examples\n",
        "\n",
        "name = \"Alice\"\n",
        "age = 30\n",
        "price = 19.9956\n",
        "\n",
        "# f-strings (formatted string literals) - Python 3.6+\n",
        "formatted_string = f\"My name is {name} and I am {age} years old. The price is Tk{price:.2f}.\"\n",
        "print(formatted_string)\n",
        "\n",
        "# str.format() method\n",
        "formatted_string = \"My name is {} and I am {} years old. The price is Tk{:.2f}.\".format(name, age, price)\n",
        "print(formatted_string)\n",
        "\n",
        "\n",
        "# % operator (older style)\n",
        "formatted_string = \"My name is %s and I am %d years old. The price is Tk%.2f.\" % (name, age, price)\n",
        "print(formatted_string)\n",
        "\n",
        "#Formatting Numbers\n",
        "number = 1890234.56789\n",
        "print(f\"{number:.2f}\")  # Output: 1234.57\n",
        "print(f\"{number:10.2f}\")  # Output:    1234.57 (width of 10)\n",
        "print(f\"{number:,}\")   # Output: 1,234.56789 (thousands separator)\n",
        "print(f\"{number:e}\")  # Output: 1.234568e+03 (scientific notation)\n",
        "print(f\"{number:%}\")  # Output: 123456.789%\n",
        "\n",
        "#Formatting Dates\n",
        "import datetime\n",
        "now = datetime.datetime.now()\n",
        "print(f\"{now:%Y-%m-%d %H:%M:%S}\") # Output: YYYY-MM-DD HH:MM:SS\n",
        "\n",
        "#Padding and alignment\n",
        "text = \"Hello\"\n",
        "print(f\"{text:<10}\") #left aligned\n",
        "print(f\"{text:>10}\") #right aligned\n",
        "print(f\"{text:^10}\") #center aligned\n",
        "print(f\"{text:=^10}\") #center aligned with = padding\n",
        "\n",
        "#Example: Combining different formats\n",
        "item = \"Laptop\"\n",
        "quantity = 5\n",
        "price_per_item = 999.99\n",
        "total_cost = quantity * price_per_item\n",
        "print(f\"Ordered {quantity} {item}s at ${price_per_item:.2f} each for a total of ${total_cost:.2f}.\")"
      ],
      "metadata": {
        "colab": {
          "base_uri": "https://localhost:8080/"
        },
        "id": "cvpFYJ6GbNJd",
        "outputId": "1cbb958e-73f7-483f-97cb-8074dde2f467"
      },
      "execution_count": null,
      "outputs": [
        {
          "output_type": "stream",
          "name": "stdout",
          "text": [
            "My name is Alice and I am 30 years old. The price is Tk20.00.\n",
            "My name is Alice and I am 30 years old. The price is Tk20.00.\n",
            "My name is Alice and I am 30 years old. The price is Tk20.00.\n",
            "1890234.57\n",
            "1890234.57\n",
            "1,890,234.56789\n",
            "1.890235e+06\n",
            "189023456.789000%\n",
            "2024-12-01 18:18:24\n",
            "Hello     \n",
            "     Hello\n",
            "  Hello   \n",
            "==Hello===\n",
            "Ordered 5 Laptops at $999.99 each for a total of $4999.95.\n"
          ]
        }
      ]
    },
    {
      "cell_type": "code",
      "source": [
        "#Formatting Dates\n",
        "import datetime\n",
        "now = datetime.datetime.now()\n",
        "print(now)\n",
        "print(f\"{now:%Y-%m-%d %H:%M:%S}\") # Output: YYYY-MM-DD HH:MM:SS"
      ],
      "metadata": {
        "colab": {
          "base_uri": "https://localhost:8080/"
        },
        "id": "7mhvrM7AfTS9",
        "outputId": "0c9b19ec-b202-4820-dd68-3724a4e9ae93"
      },
      "execution_count": null,
      "outputs": [
        {
          "output_type": "stream",
          "name": "stdout",
          "text": [
            "2024-12-02 13:15:24.238057\n",
            "2024-12-02 13:15:24\n"
          ]
        }
      ]
    },
    {
      "cell_type": "code",
      "source": [
        "# prompt: Please write example code on re module on python string with details explanation\n",
        "\n",
        "import re\n",
        "\n",
        "# Sample text\n",
        "text = \"My phone number is 123-456-7890 and my email is test@example.com.\"\n",
        "\n",
        "# 1. Finding all occurrences of a pattern\n",
        "# Find all digits in the text\n",
        "pattern = r\"\\d\"  # \\d matches any digit\n",
        "matches = re.findall(pattern, text)\n",
        "print(\"All digits:\", matches)\n",
        "\n",
        "\n",
        "# 2. Finding the first occurrence of a pattern\n",
        "# Find the first phone number\n",
        "pattern = r\"\\d{3}-\\d{3}-\\d{4}\"  # matches a phone number in the format XXX-XXX-XXXX\n",
        "match = re.search(pattern, text)\n",
        "if match:\n",
        "    print(\"First phone number:\", match.group(0))  # group(0) returns the entire match\n",
        "\n",
        "# 3. Replacing occurrences of a pattern\n",
        "# Replace all phone numbers with \"XXX-XXX-XXXX\"\n",
        "pattern = r\"\\d{3}-\\d{3}-\\d{4}\"\n",
        "new_text = re.sub(pattern, \"XXX-XXX-XXXX\", text)\n",
        "print(\"Replaced phone number:\", new_text)\n",
        "\n",
        "# 4. Splitting a string based on a pattern\n",
        "# Split the string at each space\n",
        "pattern = r\"\\s+\" # \\s+ matches one or more whitespace characters.\n",
        "words = re.split(pattern, text)\n",
        "print(\"Words:\", words)\n",
        "\n",
        "\n",
        "# 5. Matching email addresses (more complex pattern)\n",
        "# Find all email addresses\n",
        "pattern = r\"[a-zA-Z0-9._%+-]+@[a-zA-Z0-9.-]+\\.[a-zA-Z]{2,}\" #more robust email matching.\n",
        "emails = re.findall(pattern, text)\n",
        "print(\"Email Addresses:\", emails)\n",
        "\n",
        "\n",
        "# Example with compile for efficiency:\n",
        "email_pattern = re.compile(r\"[a-zA-Z0-9._%+-]+@[a-zA-Z0-9.-]+\\.[a-zA-Z]{2,}\")\n",
        "\n",
        "# Using the compiled pattern multiple times\n",
        "text2 = \"Contact us at info@mysite.net or support@example.org.\"\n",
        "emails2 = email_pattern.findall(text2)\n",
        "print(\"Emails from compiled pattern:\", emails2)\n",
        "\n",
        "# 6. Using groups in a pattern\n",
        "\n",
        "text = \"Date: 2023-11-24\"\n",
        "\n",
        "# Extract the year, month, and day separately\n",
        "pattern = r\"Date:\\s*(\\d{4})-(\\d{2})-(\\d{2})\"  # Parentheses create capture groups\n",
        "match = re.search(pattern, text)\n",
        "\n",
        "if match:\n",
        "    year = match.group(1)\n",
        "    month = match.group(2)\n",
        "    day = match.group(3)\n",
        "    print(\"Year:\", year)\n",
        "    print(\"Month:\", month)\n",
        "    print(\"Day:\", day)\n",
        "\n",
        "# 7. Using Flags:\n",
        "text = \"This is a teST string with some MIXED CASE letters.\"\n",
        "pattern = r\"test\"\n",
        "ignorecase_match = re.search(pattern, text, re.IGNORECASE)  # Case-insensitive search\n",
        "\n",
        "if ignorecase_match:\n",
        "    print(\"Case-insensitive match:\", ignorecase_match.group(0))\n",
        "\n",
        "multiline_text = \"\"\"Line 1\n",
        "Line 2\n",
        "Line 3\"\"\"\n",
        "pattern = r\"^Line \\d$\" # ^ matches beginning of line, $ matches end of line.\n",
        "matches = re.findall(pattern, multiline_text, re.MULTILINE)  # Find matches on each line\n",
        "print(\"Multiline matches:\", matches)\n",
        "\n"
      ],
      "metadata": {
        "colab": {
          "base_uri": "https://localhost:8080/"
        },
        "id": "0KIcJUFsegU4",
        "outputId": "6903b200-cbe6-4545-d85c-53abf4c17f2a"
      },
      "execution_count": null,
      "outputs": [
        {
          "output_type": "stream",
          "name": "stdout",
          "text": [
            "All digits: ['1', '2', '3', '4', '5', '6', '7', '8', '9', '0']\n",
            "First phone number: 123-456-7890\n",
            "Replaced phone number: My phone number is XXX-XXX-XXXX and my email is test@example.com.\n",
            "Words: ['My', 'phone', 'number', 'is', '123-456-7890', 'and', 'my', 'email', 'is', 'test@example.com.']\n",
            "Email Addresses: ['test@example.com']\n",
            "Emails from compiled pattern: ['info@mysite.net', 'support@example.org']\n",
            "Year: 2023\n",
            "Month: 11\n",
            "Day: 24\n",
            "Case-insensitive match: teST\n",
            "Multiline matches: ['Line 1', 'Line 2', 'Line 3']\n"
          ]
        }
      ]
    },
    {
      "cell_type": "code",
      "source": [
        "# prompt: Please write more explantion about the code \"pattern = r\"[a-zA-Z0-9._%+-]+@[a-zA-Z0-9.-]+\\.[a-zA-Z]{2,}\"\n",
        "\n",
        "# Explanation of the regular expression pattern for email addresses:\n",
        "\n",
        "# pattern = r\"[a-zA-Z0-9._%+-]+@[a-zA-Z0-9.-]+\\.[a-zA-Z]{2,}\"\n",
        "\n",
        "# Let's break down this regular expression piece by piece:\n",
        "\n",
        "# 1. `[a-zA-Z0-9._%+-]+`:\n",
        "#    - `[a-zA-Z0-9._%+- ]`: This character set defines the allowed characters in the username part of an email address.\n",
        "#    - It includes:\n",
        "#        - Lowercase letters (a-z)\n",
        "#        - Uppercase letters (A-Z)\n",
        "#        - Digits (0-9)\n",
        "#        - Dot (.)\n",
        "#        - Underscore (_)\n",
        "#        - Percent sign (%)\n",
        "#        - Plus sign (+)\n",
        "#        - Hyphen (-)\n",
        "#    - `+`: This quantifier means \"one or more occurrences\" of the preceding character set.  So, the username part can have one or more of these allowed characters.\n",
        "\n",
        "# 2. `@`:\n",
        "#    - This matches the literal \"@\" symbol, which is a required part of every email address.\n",
        "\n",
        "# 3. `[a-zA-Z0-9.-]+`:\n",
        "#    - This part defines the allowed characters in the domain name part of the email address.\n",
        "#    - It includes:\n",
        "#        - Lowercase letters (a-z)\n",
        "#        - Uppercase letters (A-Z)\n",
        "#        - Digits (0-9)\n",
        "#        - Dot (.)\n",
        "#        - Hyphen (-)\n",
        "#    - `+`: Again, this quantifier means \"one or more occurrences\" of the preceding character set.\n",
        "\n",
        "# 4. `\\.`:\n",
        "#    - This matches the literal dot (.).  The backslash `\\` is used to escape the dot because a dot in a regular expression normally means \"any character\".\n",
        "\n",
        "\n",
        "# 5. `[a-zA-Z]{2,}`:\n",
        "#    - This part defines the allowed characters in the top-level domain (TLD) part of the email address (e.g., .com, .org, .net).\n",
        "#    - `[a-zA-Z]`:  This character set allows only letters (a-z, A-Z).\n",
        "#    - `{2,}`:  This quantifier means \"two or more occurrences\" of the preceding character set. This ensures that TLDs like \".com\" or \".net\" are matched, but not single-letter TLDs.\n",
        "\n",
        "\n",
        "# In summary, the entire regular expression `[a-zA-Z0-9._%+-]+@[a-zA-Z0-9.-]+\\.[a-zA-Z]{2,}` precisely defines the pattern of a valid email address by specifying the allowed characters and their required positions within the different parts of the email address (username, domain name, and TLD)."
      ],
      "metadata": {
        "id": "2wVOznpHgYjk"
      },
      "execution_count": null,
      "outputs": []
    },
    {
      "cell_type": "code",
      "source": [
        "#Validate ID\n",
        "import re\n",
        "\n",
        "id = \"1405032\"\n",
        "# Pattern to match `03` in the third and fourth digit\n",
        "pattern = r\"^\\d{2}03\"\n",
        "if re.match(pattern, id):\n",
        "    print(\"EEE student\")\n",
        "else:\n",
        "    print(\"Not EEE student \")\n"
      ],
      "metadata": {
        "colab": {
          "base_uri": "https://localhost:8080/"
        },
        "id": "87d6v-Wwiqxa",
        "outputId": "2261c6c9-5023-4a87-85a4-ec7b0ca502f2"
      },
      "execution_count": null,
      "outputs": [
        {
          "output_type": "stream",
          "name": "stdout",
          "text": [
            "Not EEE student \n"
          ]
        }
      ]
    },
    {
      "cell_type": "markdown",
      "source": [
        "Introduction to Tuples in Python\n",
        "\n",
        "What are Tuples?\n",
        "\n",
        "*   A tuple is an ordered, immutable collection of items.\n",
        "*   Tuples are similar to lists but cannot be changed after creation.\n",
        "\n",
        "Creating and Accessing Tuples:\n",
        "\n",
        "*   Tuples are created using parentheses ().\n",
        "*   Items in a tuple are indexed, starting from 0."
      ],
      "metadata": {
        "id": "EYv_aRNRkeQv"
      }
    },
    {
      "cell_type": "code",
      "source": [
        "# Creating a tuple\n",
        "coordinates = (10, 20, 30)\n",
        "coordinates[1]=40\n",
        "print(coordinates[1])\n"
      ],
      "metadata": {
        "colab": {
          "base_uri": "https://localhost:8080/",
          "height": 198
        },
        "id": "vtXU0AyZqbIt",
        "outputId": "b4fdd492-0581-47e1-c082-50d293bf16bb"
      },
      "execution_count": null,
      "outputs": [
        {
          "output_type": "error",
          "ename": "TypeError",
          "evalue": "'tuple' object does not support item assignment",
          "traceback": [
            "\u001b[0;31m---------------------------------------------------------------------------\u001b[0m",
            "\u001b[0;31mTypeError\u001b[0m                                 Traceback (most recent call last)",
            "\u001b[0;32m<ipython-input-5-be7b7573fe59>\u001b[0m in \u001b[0;36m<cell line: 3>\u001b[0;34m()\u001b[0m\n\u001b[1;32m      1\u001b[0m \u001b[0;31m# Creating a tuple\u001b[0m\u001b[0;34m\u001b[0m\u001b[0;34m\u001b[0m\u001b[0m\n\u001b[1;32m      2\u001b[0m \u001b[0mcoordinates\u001b[0m \u001b[0;34m=\u001b[0m \u001b[0;34m(\u001b[0m\u001b[0;36m10\u001b[0m\u001b[0;34m,\u001b[0m \u001b[0;36m20\u001b[0m\u001b[0;34m,\u001b[0m \u001b[0;36m30\u001b[0m\u001b[0;34m)\u001b[0m\u001b[0;34m\u001b[0m\u001b[0;34m\u001b[0m\u001b[0m\n\u001b[0;32m----> 3\u001b[0;31m \u001b[0mcoordinates\u001b[0m\u001b[0;34m[\u001b[0m\u001b[0;36m1\u001b[0m\u001b[0;34m]\u001b[0m\u001b[0;34m=\u001b[0m\u001b[0;36m40\u001b[0m\u001b[0;34m\u001b[0m\u001b[0;34m\u001b[0m\u001b[0m\n\u001b[0m\u001b[1;32m      4\u001b[0m \u001b[0mprint\u001b[0m\u001b[0;34m(\u001b[0m\u001b[0mcoordinates\u001b[0m\u001b[0;34m[\u001b[0m\u001b[0;36m1\u001b[0m\u001b[0;34m]\u001b[0m\u001b[0;34m)\u001b[0m\u001b[0;34m\u001b[0m\u001b[0;34m\u001b[0m\u001b[0m\n",
            "\u001b[0;31mTypeError\u001b[0m: 'tuple' object does not support item assignment"
          ]
        }
      ]
    },
    {
      "cell_type": "markdown",
      "source": [
        "Tuple Immutability:\n",
        "\n",
        "*   Tuples are immutable, meaning their elements cannot be modified.\n",
        "*   This makes them useful for storing data that should not change.\n",
        "\n",
        "Basic Tuple Operations:\n",
        "\n",
        "*   Concatenation (+)\n",
        "*   Repetition (*)\n",
        "*   Membership (in)"
      ],
      "metadata": {
        "id": "TyLUBUYUqt4c"
      }
    },
    {
      "cell_type": "code",
      "source": [
        "# Tuple operations\n",
        "tuple1 = (1, 2, 3)\n",
        "tuple2 = (4, 5)\n",
        "result = tuple1 + tuple2  # Concatenation\n",
        "print(result)\n",
        "\n",
        "# Repetition (*)\n",
        "my_tuple = (1, 2,3)\n",
        "repeated_tuple = my_tuple * 4\n",
        "print(repeated_tuple)\n",
        "\n",
        "materials = (1, \"Aluminum\", \"Copper\")\n",
        "for material in materials:\n",
        "  print(material)\n"
      ],
      "metadata": {
        "colab": {
          "base_uri": "https://localhost:8080/"
        },
        "id": "8Elr5v_nrgMf",
        "outputId": "905a485c-ce80-41be-8615-53da12fef271"
      },
      "execution_count": null,
      "outputs": [
        {
          "output_type": "stream",
          "name": "stdout",
          "text": [
            "(1, 2, 3, 4, 5)\n",
            "(1, 2, 3, 1, 2, 3, 1, 2, 3, 1, 2, 3)\n",
            "1\n",
            "Aluminum\n",
            "Copper\n"
          ]
        }
      ]
    },
    {
      "cell_type": "code",
      "source": [
        "#Advanced Tuple Techniques\n",
        "#Nested Tuples: Tuples can contain other tuples, creating multi-dimensional data structures.\n",
        "nested_tuple = ((1, 2), (3, 4), (5, 6))\n",
        "print(nested_tuple[1][1])  # Output: 3\n"
      ],
      "metadata": {
        "id": "OYbe7upDsyge",
        "colab": {
          "base_uri": "https://localhost:8080/"
        },
        "outputId": "a07df8e2-dae0-4873-929d-861bb535cd7a"
      },
      "execution_count": null,
      "outputs": [
        {
          "output_type": "stream",
          "name": "stdout",
          "text": [
            "4\n"
          ]
        }
      ]
    },
    {
      "cell_type": "code",
      "source": [
        "#Tuple Unpacking:Assign values in a tuple to multiple variables.\n",
        "point = (10, 20, 30)\n",
        "x, y, z = point\n",
        "print(f\"x: {x}, y: {y}, z: {z}\")\n",
        "#x, y = point\n",
        "#print(f\"x: {x}, y: {y}\")\n"
      ],
      "metadata": {
        "colab": {
          "base_uri": "https://localhost:8080/"
        },
        "id": "kHLyfY0xtxIF",
        "outputId": "f330f0c7-aabb-4398-d236-81d1d21420c6"
      },
      "execution_count": null,
      "outputs": [
        {
          "output_type": "stream",
          "name": "stdout",
          "text": [
            "x: 10, y: 20, z: 30\n"
          ]
        }
      ]
    },
    {
      "cell_type": "code",
      "source": [
        "#Create a nested tuple that stores data about different car parts, and access individual items.\n",
        "car_parts = ((\"Engine\", \"V8\"), (\"Transmission\", \"Automatic\"), (\"Wheels\", \"Alloy\"))\n",
        "print(car_parts[2][1])\n"
      ],
      "metadata": {
        "id": "H64xNxlbwNFG"
      },
      "execution_count": null,
      "outputs": []
    },
    {
      "cell_type": "markdown",
      "source": [
        "What are Dictionaries?\n",
        "\n",
        "*   A dictionary is an unordered collection of key-value pairs.\n",
        "*   Dictionaries are mutable and indexed by keys.\n",
        "\n",
        "Creating and Accessing Dictionaries:\n",
        "\n",
        "*   Dictionaries are created using curly braces {}.\n",
        "*   Keys must be unique and immutable."
      ],
      "metadata": {
        "id": "sCk06vJFxg7R"
      }
    },
    {
      "cell_type": "code",
      "source": [
        "# Creating a dictionary\n",
        "material_properties = {\"CE2103\": [3.5,'A-',70], \"Aluminum\": 2700, \"Copper\": 8960}\n",
        "print(material_properties[\"CE2103\"])\n"
      ],
      "metadata": {
        "colab": {
          "base_uri": "https://localhost:8080/"
        },
        "id": "3gAJppc1zQwu",
        "outputId": "a017da1e-e9a7-4fd6-9596-987794ded711"
      },
      "execution_count": null,
      "outputs": [
        {
          "output_type": "stream",
          "name": "stdout",
          "text": [
            "[3.5, 'A-', 70]\n"
          ]
        }
      ]
    },
    {
      "cell_type": "markdown",
      "source": [
        "Adding, Modifying, and Deleting Key-Value Pairs:\n",
        "\n",
        "*   Add or modify: dict[key] = value\n",
        "*   Delete: del dict[key]"
      ],
      "metadata": {
        "id": "VultxPJEzbYs"
      }
    },
    {
      "cell_type": "code",
      "source": [
        "#Dictionary Keys, Values, and Items:\n",
        "#Use keys(), values(), and items() methods to access dictionary content.\n",
        "print(material_properties.keys())   # Output: dict_keys(['Steel', 'Aluminum', 'Brass'])\n",
        "print(material_properties.values()) # Output: dict_values([7850, 2700, 8500])\n"
      ],
      "metadata": {
        "colab": {
          "base_uri": "https://localhost:8080/"
        },
        "id": "1ZW-5ICA02ds",
        "outputId": "ce38a49e-49f7-4cc2-b1e4-b8c292e47298"
      },
      "execution_count": null,
      "outputs": [
        {
          "output_type": "stream",
          "name": "stdout",
          "text": [
            "dict_keys(['Steel', 'Aluminum', 'Brass'])\n",
            "dict_values([7850, 2700, 8500])\n"
          ]
        }
      ]
    },
    {
      "cell_type": "code",
      "source": [
        "# Create a dictionary with the density of various materials and print each material with its density.\n",
        "density = {\"Iron\": 7874, \"Gold\": 19300, \"Titanium\": 4500}\n",
        "for material, d in density.items():\n",
        "    print(f\"{material}: {d} kg/m³\")\n"
      ],
      "metadata": {
        "id": "5QBp_vcZ3WB4",
        "colab": {
          "base_uri": "https://localhost:8080/"
        },
        "outputId": "964eae75-b529-49b4-99ce-f93df77a220c"
      },
      "execution_count": null,
      "outputs": [
        {
          "output_type": "stream",
          "name": "stdout",
          "text": [
            "Iron: 7874 kg/m³\n",
            "Gold: 19300 kg/m³\n",
            "Titanium: 4500 kg/m³\n"
          ]
        }
      ]
    },
    {
      "cell_type": "code",
      "source": [
        "#Advanced Dictionary Techniques\n",
        "#Nested Dictionaries: Dictionaries can contain other dictionaries to create hierarchical data.\n",
        "student_grades = {\n",
        "    \"first\": {\"Math\": 95, \"Science\": 88, 'CE2103':89},\n",
        "    \"second\": {\"Math\": 78, \"Science\": 92,'EE2107':90, \"ME2108\":78},\n",
        "    \"third\": {\"ECE2109\": 85, \"ECE2110\": 90}, \"fourth\":{\"ESE2104\":45, \"ESE2114\":89}\n",
        "}\n",
        "print(student_grades[\"Bob\"][\"Science\"])\n",
        "\n",
        "car = {\n",
        "    \"Engine\": {\"Type\": \"V8\", \"Horsepower\": 450},\n",
        "    \"Transmission\": {\"Type\": \"Automatic\", \"Gears\": 8}\n",
        "}\n",
        "print(car[\"Engine\"][\"Horsepower\"])\n"
      ],
      "metadata": {
        "colab": {
          "base_uri": "https://localhost:8080/"
        },
        "id": "-n4JKrUn37W_",
        "outputId": "002fa433-3622-4f6a-9bd1-9877dd93398a"
      },
      "execution_count": null,
      "outputs": [
        {
          "output_type": "stream",
          "name": "stdout",
          "text": [
            "92\n",
            "450\n"
          ]
        }
      ]
    },
    {
      "cell_type": "code",
      "source": [
        "student_grades = {\n",
        "    \"first\": {\"Math\": 95, \"Science\": 88, 'CE2103':89},\n",
        "    \"second\": {\"Math\": 78, \"Science\": 92,'EE2107':90, \"ME2108\":78},\n",
        "    \"third\": {\"ECE2109\": 85, \"ECE2110\": 90}, \"fourth\":{\"ESE2104\":45, \"ESE2114\":89}\n",
        "}\n",
        "print(student_grades[\"third\"][\"ECE2109\"])\n"
      ],
      "metadata": {
        "colab": {
          "base_uri": "https://localhost:8080/"
        },
        "id": "JSO930jPqxM9",
        "outputId": "9508f2d4-9e3d-4979-d4ec-8b75135514d2"
      },
      "execution_count": null,
      "outputs": [
        {
          "output_type": "stream",
          "name": "stdout",
          "text": [
            "85\n"
          ]
        }
      ]
    },
    {
      "cell_type": "code",
      "source": [
        "#Dictionary Comprehensions: A concise way to create dictionaries using an expression.\n",
        "squares = {x: x**2 for x in range(6)}\n",
        "print(squares)\n"
      ],
      "metadata": {
        "colab": {
          "base_uri": "https://localhost:8080/"
        },
        "id": "Afik_YLA5cZU",
        "outputId": "a9f06626-94ba-4550-ea7b-b6c5ff9dd92b"
      },
      "execution_count": null,
      "outputs": [
        {
          "output_type": "stream",
          "name": "stdout",
          "text": [
            "{0: 0, 1: 1, 2: 4, 3: 9, 4: 16, 5: 25}\n"
          ]
        }
      ]
    },
    {
      "cell_type": "markdown",
      "source": [
        "Common Dictionary Methods:\n",
        "\n",
        "*   get(key): Returns the value for a key.\n",
        "*   pop(key): Removes and returns the value for a key.\n",
        "*   update(): Updates a dictionary with another dictionary.\n",
        "\n",
        "\n",
        "\n",
        "\n",
        "\n"
      ],
      "metadata": {
        "id": "i00ZARE76psK"
      }
    },
    {
      "cell_type": "code",
      "source": [
        "properties = {\"Density\": 2700, \"Conductivity\": 205}\n",
        "properties.update({\"Melting Point\": 660})\n",
        "print(properties)\n",
        "print(properties.get(\"Melting Point\"))\n",
        "print(properties[\"Melting Point\"])\n",
        "properties.pop(\"Density\")\n",
        "print(properties)\n",
        "\n"
      ],
      "metadata": {
        "colab": {
          "base_uri": "https://localhost:8080/"
        },
        "id": "MZIuxKIo6n58",
        "outputId": "cb2509a9-3576-4259-f34c-c2b419b38b23"
      },
      "execution_count": null,
      "outputs": [
        {
          "output_type": "stream",
          "name": "stdout",
          "text": [
            "{'Density': 2700, 'Conductivity': 205, 'Melting Point': 660}\n",
            "660\n",
            "660\n",
            "{'Conductivity': 205, 'Melting Point': 660}\n"
          ]
        }
      ]
    },
    {
      "cell_type": "code",
      "source": [
        "#Create a nested dictionary that stores information about different buildings, including height and material type.\n",
        "buildings = {\n",
        "    \"Building 1\": {\"Height\": 150, \"Material\": \"Concrete\"},\n",
        "    \"Building 2\": {\"Height\": 200, \"Material\": \"Steel\"},\n",
        "}\n",
        "print(buildings[\"Building 2\"][\"Material\"])\n"
      ],
      "metadata": {
        "colab": {
          "base_uri": "https://localhost:8080/"
        },
        "id": "BgcFieKNBEO6",
        "outputId": "91fd6cef-1151-4a09-822e-a7b2948333a7"
      },
      "execution_count": null,
      "outputs": [
        {
          "output_type": "stream",
          "name": "stdout",
          "text": [
            "Steel\n"
          ]
        }
      ]
    },
    {
      "cell_type": "code",
      "source": [
        "#Problem: Analyze material properties such as density, thermal conductivity, and Young's modulus using tuples and dictionaries.\n",
        "materials = {\n",
        "    \"Steel\": (7850, 50, 210),   # (Density, Thermal Conductivity, Young's Modulus)\n",
        "    \"Aluminum\": (2700, 237, 69),\n",
        "    \"Copper\": (8960, 400, 110)\n",
        "}\n",
        "\n",
        "for material, properties in materials.items():\n",
        "    density, conductivity, modulus = properties\n",
        "    print(f\"{material}: Density = {density} kg/m³, Conductivity = {conductivity} W/mK, Young's Modulus = {modulus} GPa\")\n"
      ],
      "metadata": {
        "colab": {
          "base_uri": "https://localhost:8080/"
        },
        "id": "kGWKgbrOBx8V",
        "outputId": "9abdf69d-097a-4e01-90c2-9cfcc1c62c24"
      },
      "execution_count": null,
      "outputs": [
        {
          "output_type": "stream",
          "name": "stdout",
          "text": [
            "Steel: Density = 7850 kg/m³, Conductivity = 50 W/mK, Young's Modulus = 210 GPa\n",
            "Aluminum: Density = 2700 kg/m³, Conductivity = 237 W/mK, Young's Modulus = 69 GPa\n",
            "Copper: Density = 8960 kg/m³, Conductivity = 400 W/mK, Young's Modulus = 110 GPa\n"
          ]
        }
      ]
    },
    {
      "cell_type": "markdown",
      "source": [],
      "metadata": {
        "id": "GW9RnyhpI7T8"
      }
    },
    {
      "cell_type": "markdown",
      "source": [
        "Advanced Dictionary Techniques Sorting:\n",
        "\n",
        "sorted() Function:\n",
        "\n",
        "The sorted() function in Python is a built-in function used to sort elements of an iterable, such as lists, tuples, strings, or dictionaries. It returns a new sorted list from the items in the iterable.\n",
        "\n",
        "sorted(iterable, key=None, reverse=False)\n",
        "\n",
        "*   iterable: The sequence (e.g., list, tuple) to be sorted.\n",
        "*   key (optional): A function that serves as a basis for sorting. Defaults to None.\n",
        "*   reverse (optional): A boolean that, if set to True, sorts the list in descending order. Default is False (ascending order).\n",
        "\n",
        "\n",
        "For sorting it will be better to introduce lambda function"
      ],
      "metadata": {
        "id": "PBLaPfNrJROf"
      }
    },
    {
      "cell_type": "code",
      "source": [
        "numbers = [5, 2, 9, 1, 5, 6]\n",
        "sorted_numbers = sorted(numbers, reverse=False)\n",
        "print(sorted_numbers)\n",
        "# What will be basis of sorting( comparing variable) if iterable (numbers) is tuple or dictionary? As these are not single valued variable\n"
      ],
      "metadata": {
        "colab": {
          "base_uri": "https://localhost:8080/"
        },
        "id": "-vuJtPR7KYCb",
        "outputId": "c9bd6b2c-1b33-4738-d061-8ca34a6d71c5"
      },
      "execution_count": null,
      "outputs": [
        {
          "output_type": "stream",
          "name": "stdout",
          "text": [
            "[1, 2, 5, 5, 6, 9]\n"
          ]
        }
      ]
    },
    {
      "cell_type": "markdown",
      "source": [
        "In this situation, lambda function is a solution.\n",
        "\n",
        "lambda Function\n",
        "\n",
        "A lambda function in Python is a small, anonymous function that is defined using the lambda keyword. It can take any number of arguments but can only have one expression. It is often used when a small function is needed temporarily for a short period of time.\n",
        "\n",
        "lambda arguments: expression\n",
        "\n",
        "*   arguments: The inputs to the function.\n",
        "*   expression: The operation that the function performs and returns."
      ],
      "metadata": {
        "id": "bYQtZNIFLdVd"
      }
    },
    {
      "cell_type": "code",
      "source": [
        "add = lambda x, y: x + y\n",
        "print(add(5, 3))\n"
      ],
      "metadata": {
        "colab": {
          "base_uri": "https://localhost:8080/"
        },
        "id": "Nn6lOBRGJJYM",
        "outputId": "aed6f4e0-807e-495f-996e-23b268a47642"
      },
      "execution_count": null,
      "outputs": [
        {
          "output_type": "stream",
          "name": "stdout",
          "text": [
            "8\n"
          ]
        }
      ]
    },
    {
      "cell_type": "code",
      "source": [
        "#Sorting with lambda:The lambda function is often used with the key parameter in the sorted() function to define custom sorting criteria.\n",
        "items = [(2, 'orange'), (6, 'apple'), (10, 'banana')]\n",
        "sorted_items=sorted(items, key= lambda x: x[1], reverse=False)\n",
        "print(sorted_items)\n",
        "#Here, member of iterable \"items\" will automtically goes to lambda variable x"
      ],
      "metadata": {
        "colab": {
          "base_uri": "https://localhost:8080/"
        },
        "id": "7vseMx5MMxTg",
        "outputId": "257bf45b-049b-4c0c-85b8-084b0989842e"
      },
      "execution_count": null,
      "outputs": [
        {
          "output_type": "stream",
          "name": "stdout",
          "text": [
            "[(6, 'apple'), (10, 'banana'), (2, 'orange')]\n"
          ]
        }
      ]
    },
    {
      "cell_type": "code",
      "source": [
        "#Sorting a List of Dictionaries by a Key\n",
        "#Suppose you have a list of dictionaries representing students and their grades,\n",
        "# and you want to sort the list by their grades:\n",
        "students = [\n",
        "    {\"name\": \"Alice\", \"grade\": 85},\n",
        "    {\"name\": \"Bob\", \"grade\": 92},\n",
        "    {\"name\": \"Charlie\", \"grade\": 78}\n",
        "]\n",
        "\n",
        "# Sort students by grade\n",
        "sorted_students = sorted(students, key=lambda student: student[\"grade\"],reverse=True)\n",
        "print(sorted_students)\n"
      ],
      "metadata": {
        "colab": {
          "base_uri": "https://localhost:8080/"
        },
        "id": "ixf_Kl_4gygg",
        "outputId": "03057e56-a0c3-49b5-970f-4640fe5159a4"
      },
      "execution_count": null,
      "outputs": [
        {
          "output_type": "stream",
          "name": "stdout",
          "text": [
            "[{'name': 'Bob', 'grade': 92}, {'name': 'Alice', 'grade': 85}, {'name': 'Charlie', 'grade': 78}]\n"
          ]
        }
      ]
    },
    {
      "cell_type": "code",
      "source": [
        "students = [\n",
        "    {\"name\": \"Alice\", \"grade\": 85},\n",
        "    {\"name\": \"Bob\", \"grade\": 92},\n",
        "    {\"name\": \"Charlie\", \"grade\": 78}\n",
        "]\n",
        "for student in students:\n",
        "  print(student)"
      ],
      "metadata": {
        "colab": {
          "base_uri": "https://localhost:8080/"
        },
        "id": "rALVIUuFOdVI",
        "outputId": "8ffdf481-d910-4509-b6ba-4a3a63e563e0"
      },
      "execution_count": null,
      "outputs": [
        {
          "output_type": "stream",
          "name": "stdout",
          "text": [
            "{'name': 'Alice', 'grade': 85}\n",
            "{'name': 'Bob', 'grade': 92}\n",
            "{'name': 'Charlie', 'grade': 78}\n"
          ]
        }
      ]
    },
    {
      "cell_type": "code",
      "source": [
        "#Sorting a List of Tuples by Multiple Criteria\n",
        "#Suppose you have a list of products, each represented by a tuple with a product name and price.\n",
        "#You want to sort the products by price first, and in case of a tie,\n",
        "#alphabetically by product name:\n",
        "products = [\n",
        "    ('apple', 10),\n",
        "    ('banana', 5),\n",
        "    ('pear', 10),\n",
        "    ('orange', 7)\n",
        "]\n",
        "\n",
        "# Sort by price first, and then by name if prices are the same\n",
        "sorted_products = sorted(products, key=lambda product: (product[1], product[0]))\n",
        "print(sorted_products)\n",
        "\n"
      ],
      "metadata": {
        "colab": {
          "base_uri": "https://localhost:8080/"
        },
        "id": "DaVWbExihtiH",
        "outputId": "0305f2fc-d2e6-4a5f-e9e6-6eda32e4fb65"
      },
      "execution_count": null,
      "outputs": [
        {
          "output_type": "stream",
          "name": "stdout",
          "text": [
            "[('banana', 5), ('orange', 7), ('apple', 10), ('pear', 10)]\n"
          ]
        }
      ]
    },
    {
      "cell_type": "code",
      "source": [
        "#You are working on a project to select suitable materials for a lightweight design.\n",
        "#You have a list of materials with their densities stored in tuples.\n",
        "#You need to sort the materials by their densities to identify the lightest materials.\n",
        "#List of tuples representing (Material, Density in kg/m³)\n",
        "materials = [(\"Aluminum\", 2700), (\"Steel\", 7850), (\"Copper\", 8960), (\"Titanium\", 4500)]\n",
        "#sort the material by density\n",
        "materials_sorted= sorted(materials, key= lambda material: material[1], reverse=True)\n",
        "print(materials_sorted)"
      ],
      "metadata": {
        "colab": {
          "base_uri": "https://localhost:8080/"
        },
        "id": "R7pQR7xOjYK6",
        "outputId": "8d62a73a-cef0-4482-ff3c-f8555ca87acc"
      },
      "execution_count": null,
      "outputs": [
        {
          "output_type": "stream",
          "name": "stdout",
          "text": [
            "[('Copper', 8960), ('Steel', 7850), ('Titanium', 4500), ('Aluminum', 2700)]\n"
          ]
        }
      ]
    },
    {
      "cell_type": "code",
      "source": [
        "#You are tasked with sorting a list of road projects based on multiple criteria: project duration and cost. You want to prioritize projects with shorter durations, and if two projects have the same duration,\n",
        "#sort them by cost.\n",
        "# List of tuples representing (Project Name, Duration in months, Cost in $ million)\n",
        "road_projects = [\n",
        "    (\"Project X\", 12, 5.2),\n",
        "    (\"Project Y\", 8, 4.1),\n",
        "    (\"Project Z\", 8, 6.0),\n",
        "    (\"Project W\", 15, 7.5)\n",
        "]\n",
        "sorted_projects=sorted(road_projects, key= lambda project:(project[1],project[2]))\n",
        "print(sorted_projects)"
      ],
      "metadata": {
        "colab": {
          "base_uri": "https://localhost:8080/"
        },
        "id": "_gspgPNnkGtc",
        "outputId": "40b71004-9d9a-4605-92a0-7e45bc0ca758"
      },
      "execution_count": null,
      "outputs": [
        {
          "output_type": "stream",
          "name": "stdout",
          "text": [
            "[('Project Y', 8, 4.1), ('Project Z', 8, 6.0), ('Project X', 12, 5.2), ('Project W', 15, 7.5)]\n"
          ]
        }
      ]
    }
  ]
}