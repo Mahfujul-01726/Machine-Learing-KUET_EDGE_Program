{
  "nbformat": 4,
  "nbformat_minor": 0,
  "metadata": {
    "colab": {
      "provenance": []
    },
    "kernelspec": {
      "name": "python3",
      "display_name": "Python 3"
    },
    "language_info": {
      "name": "python"
    }
  },
  "cells": [
    {
      "cell_type": "markdown",
      "source": [
        "# Today's Content\n"
      ],
      "metadata": {
        "id": "uXw4jMMotmDo"
      }
    },
    {
      "cell_type": "markdown",
      "source": [
        "# Python Lists\n",
        "* introduction\n",
        "* array vs list\n",
        "* how lists are stored in a memory\n",
        "* characteristics of python list\n",
        "* code examples of lists\n",
        "1. create and access a list\n",
        "2. append(), extend(), insert()\n",
        "3. Edit items in a list\n",
        "4. Deleting items from a list\n",
        "5. Arithmetic, membership and loop operations on a list\n",
        "6. various list functions\n",
        "7. list comprehension\n",
        "8. 2ways to traverse a list\n",
        "9. zip() function\n",
        "10. python list can store any kind of objects\n",
        "* disadvantages list can store any kind of objects\n",
        "please cover these topics with proper code and example"
      ],
      "metadata": {
        "id": "qKBi147nttWa"
      }
    },
    {
      "cell_type": "markdown",
      "source": [
        "# 1. Introduction to Python Lists\n",
        "A list in Python is an ordered collection of items, which can be of different types. Lists are mutable, meaning their elements can be changed after the list is created. They are one of the most versatile data types in Python.\n",
        "\n"
      ],
      "metadata": {
        "id": "nxxWz3C8t1_o"
      }
    },
    {
      "cell_type": "code",
      "source": [
        "# Example of a Python list\n",
        "my_list = [1, \"Hello\", 3.14, True]\n",
        "print(my_list)\n"
      ],
      "metadata": {
        "colab": {
          "base_uri": "https://localhost:8080/"
        },
        "id": "QKkfiuwIrR5K",
        "outputId": "8b0ab0c0-6b2f-489c-a912-97a3df16c6ac"
      },
      "execution_count": 1,
      "outputs": [
        {
          "output_type": "stream",
          "name": "stdout",
          "text": [
            "[1, 'Hello', 3.14, True]\n"
          ]
        }
      ]
    },
    {
      "cell_type": "markdown",
      "source": [
        "# 2. Array vs List\n",
        "* List: In Python, lists are dynamic arrays. They can hold mixed data types (integers, strings, booleans, etc.).\n",
        "* Array: An array (from the array module) in Python is a more restrictive type, usually containing only elements of the same type."
      ],
      "metadata": {
        "id": "dKcBTjDmuGwI"
      }
    },
    {
      "cell_type": "code",
      "source": [
        "# Example of an array (with the array module)\n",
        "import array\n",
        "arr = array.array('i', [1, 2, 3])  # 'i' indicates integers\n",
        "print(arr)\n"
      ],
      "metadata": {
        "colab": {
          "base_uri": "https://localhost:8080/"
        },
        "id": "jcOyr33arR2o",
        "outputId": "e745e2b1-5c89-4742-b2fa-e619d6194b6e"
      },
      "execution_count": 2,
      "outputs": [
        {
          "output_type": "stream",
          "name": "stdout",
          "text": [
            "array('i', [1, 2, 3])\n"
          ]
        }
      ]
    },
    {
      "cell_type": "markdown",
      "source": [
        "# 3. How Lists Are Stored in Memory\n",
        "Python lists are implemented as dynamic arrays internally. They are not fixed in size, and can grow or shrink as needed. This means the size of the list can be modified after creation. When a list is modified, the Python interpreter may need to reallocate memory for the list to accommodate additional elements."
      ],
      "metadata": {
        "id": "nVWQuPUnu8KQ"
      }
    },
    {
      "cell_type": "markdown",
      "source": [
        "# 4. Characteristics of Python Lists\n",
        "* Ordered: Lists maintain the order of elements.\n",
        "* Mutable: You can modify the list (add, remove, or change elements).\n",
        "* Can store any data type: Lists can contain items of different data types, including numbers, strings, and even other lists."
      ],
      "metadata": {
        "id": "ZRBnDXYxvEWP"
      }
    },
    {
      "cell_type": "markdown",
      "source": [
        "# 5. Code Examples of Lists"
      ],
      "metadata": {
        "id": "aQRCAV1KvQtI"
      }
    },
    {
      "cell_type": "markdown",
      "source": [
        "**1. Create and Access a List**"
      ],
      "metadata": {
        "id": "rJIbZW8jvUbw"
      }
    },
    {
      "cell_type": "code",
      "source": [
        "# Creating a list\n",
        "my_list = [10, 20, 30, 40, 50]\n",
        "\n",
        "# Accessing elements by index\n",
        "print(my_list[0])  # Output: 10\n",
        "print(my_list[-1]) # Output: 50 (last element)\n"
      ],
      "metadata": {
        "colab": {
          "base_uri": "https://localhost:8080/"
        },
        "id": "tykfV0TdrRyL",
        "outputId": "8b816f5e-d4a0-4b28-c91a-71db4c3c74cb"
      },
      "execution_count": 3,
      "outputs": [
        {
          "output_type": "stream",
          "name": "stdout",
          "text": [
            "10\n",
            "50\n"
          ]
        }
      ]
    },
    {
      "cell_type": "markdown",
      "source": [
        "**2. append(), extend(), insert()**\n",
        "* append(): Adds an item to the end of the list.\n",
        "* extend(): Adds multiple items (from another list or iterable) to the end of the list.\n",
        "* insert(): Inserts an item at a specific position in the list.\n",
        "python\n",
        "Copy code\n",
        "\n"
      ],
      "metadata": {
        "id": "Y9K9MUsuvdjI"
      }
    },
    {
      "cell_type": "code",
      "source": [
        "my_list = [1, 2, 3]\n",
        "\n",
        "# append()\n",
        "my_list.append(4)  # Adds 4 to the end\n",
        "print(my_list)  # Output: [1, 2, 3, 4]\n",
        "\n",
        "# extend()\n",
        "my_list.extend([5, 6])  # Adds elements 5 and 6\n",
        "print(my_list)  # Output: [1, 2, 3, 4, 5, 6]\n",
        "\n",
        "# insert()\n",
        "my_list.insert(2, \"Inserted\")  # Inserts \"Inserted\" at index 2\n",
        "print(my_list)  # Output: [1, 2, 'Inserted', 3, 4, 5, 6]\n"
      ],
      "metadata": {
        "colab": {
          "base_uri": "https://localhost:8080/"
        },
        "id": "ZzuFNf1grRvo",
        "outputId": "baa83e01-1f2d-42a9-db51-20729fd338ca"
      },
      "execution_count": 4,
      "outputs": [
        {
          "output_type": "stream",
          "name": "stdout",
          "text": [
            "[1, 2, 3, 4]\n",
            "[1, 2, 3, 4, 5, 6]\n",
            "[1, 2, 'Inserted', 3, 4, 5, 6]\n"
          ]
        }
      ]
    },
    {
      "cell_type": "markdown",
      "source": [
        "**3. Edit Items in a List**"
      ],
      "metadata": {
        "id": "2lYX6ga8wJU6"
      }
    },
    {
      "cell_type": "code",
      "source": [
        "my_list = [1, 2, 3, 4]\n",
        "my_list[2] = \"Updated\"  # Replaces the third element with 'Updated'\n",
        "print(my_list)  # Output: [1, 2, 'Updated', 4]\n"
      ],
      "metadata": {
        "colab": {
          "base_uri": "https://localhost:8080/"
        },
        "id": "c2V-q9C6rRtK",
        "outputId": "9837d53d-2493-45a6-c59b-271b8aca8bde"
      },
      "execution_count": 5,
      "outputs": [
        {
          "output_type": "stream",
          "name": "stdout",
          "text": [
            "[1, 2, 'Updated', 4]\n"
          ]
        }
      ]
    },
    {
      "cell_type": "markdown",
      "source": [
        "**4. Deleting Items from a List**\n",
        "* You can delete items using the del keyword, remove(), or pop()."
      ],
      "metadata": {
        "id": "z46klSm-wWaY"
      }
    },
    {
      "cell_type": "code",
      "source": [
        "# del: Removes an item by index\n",
        "del my_list[1]  # Deletes the second element\n",
        "print(my_list)  # Output: [1, 'Updated', 4]\n",
        "\n",
        "# remove(): Removes an item by value\n",
        "my_list.remove(\"Updated\")  # Removes the first occurrence of 'Updated'\n",
        "print(my_list)  # Output: [1, 4]\n",
        "\n",
        "# pop(): Removes an item by index and returns it\n",
        "popped_item = my_list.pop(1)\n",
        "print(popped_item)  # Output: 4\n",
        "print(my_list)  # Output: [1]\n"
      ],
      "metadata": {
        "colab": {
          "base_uri": "https://localhost:8080/"
        },
        "id": "QWcGNWsyrRq5",
        "outputId": "694080bb-69fc-464c-e76b-df157c65c1b5"
      },
      "execution_count": 6,
      "outputs": [
        {
          "output_type": "stream",
          "name": "stdout",
          "text": [
            "[1, 'Updated', 4]\n",
            "[1, 4]\n",
            "4\n",
            "[1]\n"
          ]
        }
      ]
    },
    {
      "cell_type": "markdown",
      "source": [
        "**5. Arithmetic, Membership, and Loop Operations on a List**\n",
        "* Arithmetic: You can perform arithmetic on list elements if they are numbers.\n",
        "* Membership: Check if an item exists in a list using in.\n",
        "* Loop Operations: You can loop over the list using for loop."
      ],
      "metadata": {
        "id": "4VxxzGrUwep5"
      }
    },
    {
      "cell_type": "code",
      "source": [
        "# Arithmetic (with numbers)\n",
        "nums = [1, 2, 3]\n",
        "nums = [x + 1 for x in nums]  # Adds 1 to each element\n",
        "print(nums)  # Output: [2, 3, 4]\n",
        "\n",
        "# Membership\n",
        "print(2 in nums)  # True\n",
        "\n",
        "# Loop\n",
        "for item in nums:\n",
        "    print(item)  # Prints each item in the list\n"
      ],
      "metadata": {
        "colab": {
          "base_uri": "https://localhost:8080/"
        },
        "id": "ALUV3FVYrRoY",
        "outputId": "9499fb45-1e78-4e73-de25-2c1f6cd6bb47"
      },
      "execution_count": 7,
      "outputs": [
        {
          "output_type": "stream",
          "name": "stdout",
          "text": [
            "[2, 3, 4]\n",
            "True\n",
            "2\n",
            "3\n",
            "4\n"
          ]
        }
      ]
    },
    {
      "cell_type": "markdown",
      "source": [
        "**6. Various List Functions**"
      ],
      "metadata": {
        "id": "1Q7Ywo4CwnMB"
      }
    },
    {
      "cell_type": "code",
      "source": [
        "my_list = [3, 1, 4, 1, 5, 9]\n",
        "\n",
        "# length\n",
        "print(len(my_list))  # Output: 6\n",
        "\n",
        "# max and min\n",
        "print(max(my_list))  # Output: 9\n",
        "print(min(my_list))  # Output: 1\n",
        "\n",
        "# sort\n",
        "my_list.sort()  # Sorts the list in ascending order\n",
        "print(my_list)  # Output: [1, 1, 3, 4, 5, 9]\n",
        "\n",
        "# reverse\n",
        "my_list.reverse()  # Reverses the list\n",
        "print(my_list)  # Output: [9, 5, 4, 3, 1, 1]\n"
      ],
      "metadata": {
        "colab": {
          "base_uri": "https://localhost:8080/"
        },
        "id": "QhdSmdeSrRmA",
        "outputId": "52e7552e-c895-4f64-8f3f-83e9abad0e91"
      },
      "execution_count": 8,
      "outputs": [
        {
          "output_type": "stream",
          "name": "stdout",
          "text": [
            "6\n",
            "9\n",
            "1\n",
            "[1, 1, 3, 4, 5, 9]\n",
            "[9, 5, 4, 3, 1, 1]\n"
          ]
        }
      ]
    },
    {
      "cell_type": "markdown",
      "source": [
        "**7. List Comprehension**\n",
        "* List comprehension is a concise way to create lists."
      ],
      "metadata": {
        "id": "8c7bFD2XwtkA"
      }
    },
    {
      "cell_type": "code",
      "source": [
        "# Create a list of squares using list comprehension\n",
        "squares = [x**2 for x in range(5)]\n",
        "print(squares)  # Output: [0, 1, 4, 9, 16]\n"
      ],
      "metadata": {
        "colab": {
          "base_uri": "https://localhost:8080/"
        },
        "id": "9luDqCKerRjj",
        "outputId": "5654fd97-0a4d-4e25-f067-ab521276ab89"
      },
      "execution_count": 9,
      "outputs": [
        {
          "output_type": "stream",
          "name": "stdout",
          "text": [
            "[0, 1, 4, 9, 16]\n"
          ]
        }
      ]
    },
    {
      "cell_type": "markdown",
      "source": [
        "**8. Two Ways to Traverse a List**\n",
        "* Using a for loop\n",
        "* Using a while loop"
      ],
      "metadata": {
        "id": "PsYA5o1lw0JY"
      }
    },
    {
      "cell_type": "code",
      "source": [
        "# Using a for loop\n",
        "my_list = [1, 2, 3, 4]\n",
        "for item in my_list:\n",
        "    print(item)\n",
        "\n",
        "# Using a while loop\n",
        "index = 0\n",
        "while index < len(my_list):\n",
        "    print(my_list[index])\n",
        "    index += 1\n"
      ],
      "metadata": {
        "colab": {
          "base_uri": "https://localhost:8080/"
        },
        "id": "lVoJLR0JrRfA",
        "outputId": "d05e3f0c-4984-4bf3-eae3-37e725e6e0d6"
      },
      "execution_count": 10,
      "outputs": [
        {
          "output_type": "stream",
          "name": "stdout",
          "text": [
            "1\n",
            "2\n",
            "3\n",
            "4\n",
            "1\n",
            "2\n",
            "3\n",
            "4\n"
          ]
        }
      ]
    },
    {
      "cell_type": "markdown",
      "source": [
        "**9. zip() Function**\n",
        "* The zip() function combines two or more lists element-wise into a tuple."
      ],
      "metadata": {
        "id": "BoHROk9QyRE4"
      }
    },
    {
      "cell_type": "code",
      "source": [
        "list1 = [1, 2, 3]\n",
        "list2 = ['a', 'b', 'c']\n",
        "zipped = zip(list1, list2)\n",
        "print(list(zipped))  # Output: [(1, 'a'), (2, 'b'), (3, 'c')]\n"
      ],
      "metadata": {
        "colab": {
          "base_uri": "https://localhost:8080/"
        },
        "id": "5YFJO10erRcY",
        "outputId": "12baf69d-33ff-46b5-8884-3986aa8cd659"
      },
      "execution_count": 11,
      "outputs": [
        {
          "output_type": "stream",
          "name": "stdout",
          "text": [
            "[(1, 'a'), (2, 'b'), (3, 'c')]\n"
          ]
        }
      ]
    },
    {
      "cell_type": "markdown",
      "source": [
        "**10. Python List Can Store Any Kind of Objects**\n",
        "* python lists can store any type of object: integers, strings, floating-point numbers, other lists, dictionaries, etc."
      ],
      "metadata": {
        "id": "DlflGUIm2a3C"
      }
    },
    {
      "cell_type": "code",
      "source": [
        "my_list = [10, \"Hello\", 3.14, [1, 2, 3], {\"key\": \"value\"}]\n",
        "print(my_list)\n"
      ],
      "metadata": {
        "colab": {
          "base_uri": "https://localhost:8080/"
        },
        "id": "JQ-drANArRaB",
        "outputId": "1480e33c-fe45-4ff9-fbe7-84b240f0c505"
      },
      "execution_count": 12,
      "outputs": [
        {
          "output_type": "stream",
          "name": "stdout",
          "text": [
            "[10, 'Hello', 3.14, [1, 2, 3], {'key': 'value'}]\n"
          ]
        }
      ]
    },
    {
      "cell_type": "markdown",
      "source": [
        "# Disadvantages of Storing Any Kind of Objects in a List\n",
        "While it's convenient to store any type of object in a list, it can lead to certain disadvantages:\n",
        "\n",
        "* Lack of Type Safety: Since lists can hold different data types, there may be issues when performing operations on the list if the elements are not of the expected type.\n",
        "* Increased Complexity: Working with mixed data types can increase the complexity of code and make it harder to maintain or debug.\n",
        "* Performance Issues: Storing diverse objects (such as integers, strings, or custom objects) in a list can potentially lead to performance degradation due to type-checking at runtime."
      ],
      "metadata": {
        "id": "kstpWWMm2n2Y"
      }
    },
    {
      "cell_type": "code",
      "execution_count": 13,
      "metadata": {
        "id": "H06JoxRKrQ5z"
      },
      "outputs": [],
      "source": [
        "mixed_list = [1, \"hello\", 3.14, [1, 2], {\"key\": \"value\"}]\n",
        "# Operations might cause issues, such as trying to perform arithmetic on strings\n"
      ]
    }
  ]
}