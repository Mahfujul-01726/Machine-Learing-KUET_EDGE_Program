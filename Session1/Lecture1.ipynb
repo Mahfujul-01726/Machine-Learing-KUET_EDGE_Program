{
  "nbformat": 4,
  "nbformat_minor": 0,
  "metadata": {
    "colab": {
      "provenance": []
    },
    "kernelspec": {
      "name": "python3",
      "display_name": "Python 3"
    },
    "language_info": {
      "name": "python"
    }
  },
  "cells": [
    {
      "cell_type": "markdown",
      "source": [
        "# Lecture 1: Introduction to Python and Variables"
      ],
      "metadata": {
        "id": "_bfUW9nSkRWN"
      }
    },
    {
      "cell_type": "markdown",
      "source": [
        "#  Part 1: Introduction to Python"
      ],
      "metadata": {
        "id": "NMaCyUyBkgcW"
      }
    },
    {
      "cell_type": "code",
      "source": [
        "print(\"Hello, World!\")"
      ],
      "metadata": {
        "colab": {
          "base_uri": "https://localhost:8080/"
        },
        "id": "j_rjjZhLkKc-",
        "outputId": "817d9a04-2306-4d5c-ff1f-a2e60a58233d"
      },
      "execution_count": 1,
      "outputs": [
        {
          "output_type": "stream",
          "name": "stdout",
          "text": [
            "Hello, World!\n"
          ]
        }
      ]
    },
    {
      "cell_type": "markdown",
      "source": [
        "#  Part 2: Variables and Data Types"
      ],
      "metadata": {
        "id": "ymYlk2Qxkq-N"
      }
    },
    {
      "cell_type": "code",
      "source": [
        "# Variables and assignment\n",
        "x = 5\n",
        "y = 3.14\n",
        "name = \"Alice\"\n",
        "is_student = True\n",
        "# Checking types\n",
        "print(type(x)) # Output: <class 'int'>\n",
        "print(type(y)) # Output: <class 'float'>\n",
        "print(type(name)) # Output: <class 'str'>\n",
        "print(type(is_student)) # Output: <class 'bool'>\n",
        "# Type conversion\n",
        "a = \"123\"\n",
        "b = int(a)\n",
        "print(type(b)) # Output: <class 'int'>"
      ],
      "metadata": {
        "colab": {
          "base_uri": "https://localhost:8080/"
        },
        "id": "robwP5J8kKa3",
        "outputId": "cd1c9d52-ccc2-4633-de51-ad162d73f919"
      },
      "execution_count": 3,
      "outputs": [
        {
          "output_type": "stream",
          "name": "stdout",
          "text": [
            "<class 'int'>\n",
            "<class 'float'>\n",
            "<class 'str'>\n",
            "<class 'bool'>\n",
            "<class 'int'>\n"
          ]
        }
      ]
    },
    {
      "cell_type": "markdown",
      "source": [
        "#  Part 3: Basic Input and Output"
      ],
      "metadata": {
        "id": "TQXQ4G8olCLe"
      }
    },
    {
      "cell_type": "code",
      "source": [
        " # Basic output\n",
        " print(\"Hello, World!\")\n",
        " print(\"Hello\", \"World\", sep=\", \", end=\"!\\n\")\n",
        " # Basic input\n",
        "name = input(\"Enter your name: \")\n",
        " print(\"Hello, \" + name)\n",
        " # Converting input data\n",
        " age = input(\"Enter your age: \")\n",
        " age = int(age)\n",
        " print(f\"Next year, you will be {age + 1} years old.\")"
      ],
      "metadata": {
        "colab": {
          "base_uri": "https://localhost:8080/"
        },
        "id": "poNWolXIkKYU",
        "outputId": "990ba37f-ae66-4a93-eef5-323c0b62419d"
      },
      "execution_count": 1,
      "outputs": [
        {
          "output_type": "stream",
          "name": "stdout",
          "text": [
            "Hello, World!\n",
            "Hello, World!\n",
            "Enter your name: Md. Mahfujul Karim\n",
            "Hello, Md. Mahfujul Karim\n",
            "Enter your age: 23\n",
            "Next year, you will be 24 years old.\n"
          ]
        }
      ]
    },
    {
      "cell_type": "markdown",
      "source": [
        "#  Exercises:\n",
        " 1. Write a script that takes two numbers as input and prints their sum.\n",
        " 2. Write a script that asks the user for their favorite color and prints a message including\n",
        " their input."
      ],
      "metadata": {
        "id": "sk1X8555lodl"
      }
    },
    {
      "cell_type": "code",
      "source": [
        "# Script to take two numbers as input and print their sum\n",
        "num1 = float(input(\"Enter the first number: \"))\n",
        "num2 = float(input(\"Enter the second number: \"))\n",
        "\n",
        "# Calculate the sum\n",
        "result = num1 + num2\n",
        "\n",
        "# Print the result\n",
        "print(f\"The sum of {num1} and {num2} is {result}.\")\n"
      ],
      "metadata": {
        "colab": {
          "base_uri": "https://localhost:8080/"
        },
        "id": "MBDum_yEkKVc",
        "outputId": "1ad5a207-83c0-4113-a472-14c2aed517b8"
      },
      "execution_count": 2,
      "outputs": [
        {
          "output_type": "stream",
          "name": "stdout",
          "text": [
            "Enter the first number: 12\n",
            "Enter the second number: 34\n",
            "The sum of 12.0 and 34.0 is 46.0.\n"
          ]
        }
      ]
    },
    {
      "cell_type": "code",
      "source": [
        "# Script to ask the user for their favorite color\n",
        "favorite_color = input(\"What is your favorite color? \")\n",
        "\n",
        "# Print a message including their input\n",
        "print(f\"Wow, {favorite_color} is a great choice! It's such a lovely color.\")\n"
      ],
      "metadata": {
        "colab": {
          "base_uri": "https://localhost:8080/"
        },
        "id": "y2MwshmikKR0",
        "outputId": "83b1fc9d-1c4b-43f0-c518-af4bec0f0ca8"
      },
      "execution_count": 3,
      "outputs": [
        {
          "output_type": "stream",
          "name": "stdout",
          "text": [
            "What is your favorite color? White\n",
            "Wow, White is a great choice! It's such a lovely color.\n"
          ]
        }
      ]
    },
    {
      "cell_type": "markdown",
      "source": [
        "# Part 4: Type Conversion and Operations"
      ],
      "metadata": {
        "id": "sKiYqgrFmAB1"
      }
    },
    {
      "cell_type": "code",
      "source": [
        " # Implicit type conversion\n",
        " result = 5 + 3.14\n",
        " print(result) # Output: 8.14"
      ],
      "metadata": {
        "colab": {
          "base_uri": "https://localhost:8080/"
        },
        "id": "fZzeQHi5kKPl",
        "outputId": "ffae0253-4b35-4ffd-b7ad-9022a0a85457"
      },
      "execution_count": 5,
      "outputs": [
        {
          "output_type": "stream",
          "name": "stdout",
          "text": [
            "8.14\n"
          ]
        }
      ]
    },
    {
      "cell_type": "code",
      "source": [
        " # Explicit type conversion\n",
        " num_str = \"123\"\n",
        " num_int = int(num_str)\n",
        " print(num_int + 1) # Output: 124"
      ],
      "metadata": {
        "colab": {
          "base_uri": "https://localhost:8080/"
        },
        "id": "bStvGOzlkKNV",
        "outputId": "d95c413e-0c0c-4751-906b-c0bae880a638"
      },
      "execution_count": 6,
      "outputs": [
        {
          "output_type": "stream",
          "name": "stdout",
          "text": [
            "124\n"
          ]
        }
      ]
    },
    {
      "cell_type": "code",
      "source": [
        "# Arithmetic operations\n",
        "a = 10\n",
        "b = 3\n",
        "print(a + b) # Output: 13\n",
        "print(a- b) # Output: 7\n",
        "print(a * b) # Output: 30"
      ],
      "metadata": {
        "colab": {
          "base_uri": "https://localhost:8080/"
        },
        "id": "xqXRhxqJkKKu",
        "outputId": "6e537f9e-4efd-42e2-85df-b2fb120213c5"
      },
      "execution_count": 8,
      "outputs": [
        {
          "output_type": "stream",
          "name": "stdout",
          "text": [
            "13\n",
            "7\n",
            "30\n"
          ]
        }
      ]
    },
    {
      "cell_type": "code",
      "source": [
        "a = 10\n",
        "b = 3\n",
        "print(a / b)\n",
        "print(a % b) # Output: 1\n",
        "print(a // b) # Output: 3\n",
        "print(a ** b) # Output: 1000"
      ],
      "metadata": {
        "colab": {
          "base_uri": "https://localhost:8080/"
        },
        "id": "YFT3ZfRTmdoH",
        "outputId": "e0e8f793-b955-4013-b4ae-2893abd19a82"
      },
      "execution_count": 10,
      "outputs": [
        {
          "output_type": "stream",
          "name": "stdout",
          "text": [
            "3.3333333333333335\n",
            "1\n",
            "3\n",
            "1000\n"
          ]
        }
      ]
    },
    {
      "cell_type": "code",
      "source": [
        " # Comparison operations\n",
        " print(a == b) # Output: False\n",
        " print(a != b) # Output: True\n",
        " print(a > b) # Output: True\n",
        " print(a < b) # Output: False\n",
        " print(a >= b) # Output: True\n",
        " print(a <= b) # Output: False"
      ],
      "metadata": {
        "colab": {
          "base_uri": "https://localhost:8080/"
        },
        "id": "Ac8_QxRSmdmF",
        "outputId": "77f802d3-d8eb-433c-d1f4-7331f652630f"
      },
      "execution_count": 11,
      "outputs": [
        {
          "output_type": "stream",
          "name": "stdout",
          "text": [
            "False\n",
            "True\n",
            "True\n",
            "False\n",
            "True\n",
            "False\n"
          ]
        }
      ]
    },
    {
      "cell_type": "code",
      "source": [
        "# Logical operations\n",
        "x = True\n",
        "y = False\n",
        "print(x and y) # Output: False\n",
        "print(x or y) # Output: True\n",
        "print(not x) # Output: False"
      ],
      "metadata": {
        "colab": {
          "base_uri": "https://localhost:8080/"
        },
        "id": "Bg6eRsz3mdjj",
        "outputId": "a3578bb6-56c3-423b-ade1-7d1761977ef0"
      },
      "execution_count": 13,
      "outputs": [
        {
          "output_type": "stream",
          "name": "stdout",
          "text": [
            "False\n",
            "True\n",
            "False\n"
          ]
        }
      ]
    },
    {
      "cell_type": "markdown",
      "source": [
        "# Exercise:\n",
        "Write a script that converts a\n",
        " temperature from Celsius to Fahrenheit.\n",
        " Celsius to Fahrenheit formula is\n",
        " °F = °C×(9/5)+32."
      ],
      "metadata": {
        "id": "atX-Oq4JpxVb"
      }
    },
    {
      "cell_type": "code",
      "source": [
        "# Script to convert Celsius to Fahrenheit\n",
        "# Input: temperature in Celsius\n",
        "celsius = float(input(\"Enter the temperature in Celsius: \"))\n",
        "\n",
        "# Conversion formula\n",
        "fahrenheit = celsius * (9 / 5) + 32\n",
        "\n",
        "# Output the result\n",
        "print(f\"{celsius}°C is equal to {fahrenheit}°F.\")\n"
      ],
      "metadata": {
        "colab": {
          "base_uri": "https://localhost:8080/"
        },
        "id": "MBwknpm1ps5S",
        "outputId": "f32e923a-709c-473b-8b19-9886e2bea41c"
      },
      "execution_count": 14,
      "outputs": [
        {
          "output_type": "stream",
          "name": "stdout",
          "text": [
            "Enter the temperature in Celsius: 34\n",
            "34.0°C is equal to 93.2°F.\n"
          ]
        }
      ]
    },
    {
      "cell_type": "markdown",
      "source": [
        "# 2.Create a script that asks the user for two numbers and prints the result of various arithmetic operations on them."
      ],
      "metadata": {
        "id": "9Pfl0wSlqTRz"
      }
    },
    {
      "cell_type": "code",
      "source": [
        "# Script to perform arithmetic operations on two numbers\n",
        "# Input: two numbers from the user\n",
        "num1 = float(input(\"Enter the first number: \"))\n",
        "num2 = float(input(\"Enter the second number: \"))\n",
        "\n",
        "# Perform arithmetic operations\n",
        "addition = num1 + num2\n",
        "subtraction = num1 - num2\n",
        "multiplication = num1 * num2\n",
        "division = num1 / num2 if num2 != 0 else \"undefined (cannot divide by zero)\"\n",
        "modulus = num1 % num2 if num2 != 0 else \"undefined (cannot find modulus with zero)\"\n",
        "exponentiation = num1 ** num2\n",
        "\n",
        "# Print the results\n",
        "print(\"\\nArithmetic Operations Results:\")\n",
        "print(f\"Addition: {num1} + {num2} = {addition}\")\n",
        "print(f\"Subtraction: {num1} - {num2} = {subtraction}\")\n",
        "print(f\"Multiplication: {num1} * {num2} = {multiplication}\")\n",
        "print(f\"Division: {num1} / {num2} = {division}\")\n",
        "print(f\"Modulus: {num1} % {num2} = {modulus}\")\n",
        "print(f\"Exponentiation: {num1} ** {num2} = {exponentiation}\")\n"
      ],
      "metadata": {
        "colab": {
          "base_uri": "https://localhost:8080/"
        },
        "id": "oRg2IEaBps3M",
        "outputId": "ac5f4049-2f15-4542-e128-5d10dc9d3da5"
      },
      "execution_count": 15,
      "outputs": [
        {
          "output_type": "stream",
          "name": "stdout",
          "text": [
            "Enter the first number: 12\n",
            "Enter the second number: 34\n",
            "\n",
            "Arithmetic Operations Results:\n",
            "Addition: 12.0 + 34.0 = 46.0\n",
            "Subtraction: 12.0 - 34.0 = -22.0\n",
            "Multiplication: 12.0 * 34.0 = 408.0\n",
            "Division: 12.0 / 34.0 = 0.35294117647058826\n",
            "Modulus: 12.0 % 34.0 = 12.0\n",
            "Exponentiation: 12.0 ** 34.0 = 4.922235242952027e+36\n"
          ]
        }
      ]
    },
    {
      "cell_type": "markdown",
      "source": [
        "# 3. Write a program that compares two user inputted numbers and prints the result of each comparison operation."
      ],
      "metadata": {
        "id": "nNS5NlkRqwsj"
      }
    },
    {
      "cell_type": "code",
      "source": [
        "# Script to compare two numbers\n",
        "# Input: two numbers from the user\n",
        "num1 = float(input(\"Enter the first number: \"))\n",
        "num2 = float(input(\"Enter the second number: \"))\n",
        "\n",
        "# Perform comparison operations\n",
        "is_equal = num1 == num2\n",
        "is_not_equal = num1 != num2\n",
        "is_greater = num1 > num2\n",
        "is_less = num1 < num2\n",
        "is_greater_or_equal = num1 >= num2\n",
        "is_less_or_equal = num1 <= num2\n",
        "\n",
        "# Print the results\n",
        "print(\"\\nComparison Operations Results:\")\n",
        "print(f\"{num1} == {num2}: {is_equal}\")\n",
        "print(f\"{num1} != {num2}: {is_not_equal}\")\n",
        "print(f\"{num1} > {num2}: {is_greater}\")\n",
        "print(f\"{num1} < {num2}: {is_less}\")\n",
        "print(f\"{num1} >= {num2}: {is_greater_or_equal}\")\n",
        "print(f\"{num1} <= {num2}: {is_less_or_equal}\")\n"
      ],
      "metadata": {
        "colab": {
          "base_uri": "https://localhost:8080/"
        },
        "id": "StSqCCk5ps0q",
        "outputId": "63ed1ad9-b49d-473f-8260-6c0ef35eb9a5"
      },
      "execution_count": 16,
      "outputs": [
        {
          "output_type": "stream",
          "name": "stdout",
          "text": [
            "Enter the first number: 34\n",
            "Enter the second number: 35\n",
            "\n",
            "Comparison Operations Results:\n",
            "34.0 == 35.0: False\n",
            "34.0 != 35.0: True\n",
            "34.0 > 35.0: False\n",
            "34.0 < 35.0: True\n",
            "34.0 >= 35.0: False\n",
            "34.0 <= 35.0: True\n"
          ]
        }
      ]
    },
    {
      "cell_type": "markdown",
      "source": [
        "# Part 5: Putting It All Together"
      ],
      "metadata": {
        "id": "3DLihLSzrEbz"
      }
    },
    {
      "cell_type": "markdown",
      "source": [
        "#  ○ Write a complete program that incorporates variables, input, output, type conversion, and basic operations"
      ],
      "metadata": {
        "id": "HIpfzSXFrJPy"
      }
    },
    {
      "cell_type": "code",
      "source": [
        " # Greet the user\n",
        " name = input(\"Enter your name: \")\n",
        " print(f\"Hello, {name}!\")\n",
        " # Ask for age and calculate next year's age\n",
        " age = input(\"Enter your age: \")\n",
        " age = int(age)\n",
        " print(f\"Next year, you will be {age + 1} years old.\")\n",
        " # Ask for two numbers and perform arithmetic operations\n",
        " num1 = float(input(\"Enter the first number: \"))\n",
        " num2 = float(input(\"Enter the second number: \"))\n",
        " sum_result = num1 + num2\n",
        " diff_result = num1- num2\n",
        " prod_result = num1 * num2\n",
        " div_result = num1 / num2\n",
        " mod_result = num1 % num2\n",
        " print(f\"The sum of {num1} and {num2} is {sum_result}.\")\n",
        " print(f\"The difference between {num1} and {num2} is {diff_result}.\")\n",
        " print(f\"The product of {num1} and {num2} is {prod_result}.\")\n",
        " print(f\"The division of {num1} by {num2} gives {div_result}.\")\n",
        " print(f\"The remainder when {num1} is divided by {num2} is{mod_result}.\")"
      ],
      "metadata": {
        "colab": {
          "base_uri": "https://localhost:8080/"
        },
        "id": "I8m9LMCVmdhY",
        "outputId": "c7bd868a-b1cf-4fc9-9ae7-c4b48272d38d"
      },
      "execution_count": 18,
      "outputs": [
        {
          "output_type": "stream",
          "name": "stdout",
          "text": [
            "Enter your name: mahfuj\n",
            "Hello, mahfuj!\n",
            "Enter your age: 56\n",
            "Next year, you will be 57 years old.\n",
            "Enter the first number: 5791\n",
            "Enter the second number: 8899\n",
            "The sum of 5791.0 and 8899.0 is 14690.0.\n",
            "The difference between 5791.0 and 8899.0 is -3108.0.\n",
            "The product of 5791.0 and 8899.0 is 51534109.0.\n",
            "The division of 5791.0 by 8899.0 gives 0.6507472749747163.\n",
            "The remainder when 5791.0 is divided by 8899.0 is5791.0.\n"
          ]
        }
      ]
    }
  ]
}