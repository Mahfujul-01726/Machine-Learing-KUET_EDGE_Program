{
  "nbformat": 4,
  "nbformat_minor": 0,
  "metadata": {
    "colab": {
      "provenance": []
    },
    "kernelspec": {
      "name": "python3",
      "display_name": "Python 3"
    },
    "language_info": {
      "name": "python"
    }
  },
  "cells": [
    {
      "cell_type": "markdown",
      "source": [
        "# 📜 Today's Context:\n",
        "\n",
        "**Python strings**\n",
        "\n",
        "1. Introduction\n",
        "2.Break, continue, pass statement in loops\n",
        "3.Strings\n",
        "4.String indexing\n",
        "5.String slicing\n",
        "6.Edit and delete a string\n",
        "7.Operations on string\n",
        "8.Common string functions\n",
        "\n",
        "\n",
        "\n"
      ],
      "metadata": {
        "id": "wc60ElLbebtw"
      }
    },
    {
      "cell_type": "markdown",
      "source": [
        "# 1.Introduction to Strings:\n",
        "In Python, a string is a sequence of characters enclosed within single, double, or triple quotes."
      ],
      "metadata": {
        "id": "P25O1AqdfLRZ"
      }
    },
    {
      "cell_type": "code",
      "source": [
        "# String using single quotes\n",
        "string1 = 'Hello'\n",
        "\n",
        "# String using double quotes\n",
        "string2 = \"World\"\n",
        "\n",
        "# String using triple quotes (multi-line string)\n",
        "string3 = '''This is\n",
        "a multi-line\n",
        "string.'''\n",
        "\n",
        "print(string1)\n",
        "print(string2)\n",
        "print(string3)\n"
      ],
      "metadata": {
        "colab": {
          "base_uri": "https://localhost:8080/"
        },
        "id": "YzJm71pAeZok",
        "outputId": "d2acf52f-aa6c-42a1-d52d-0810821c5350"
      },
      "execution_count": 1,
      "outputs": [
        {
          "output_type": "stream",
          "name": "stdout",
          "text": [
            "Hello\n",
            "World\n",
            "This is\n",
            "a multi-line\n",
            "string.\n"
          ]
        }
      ]
    },
    {
      "cell_type": "markdown",
      "source": [
        "# 2.Break, Continue, Pass Statements in Loops\n",
        "\n",
        "\n",
        "\n",
        "*   break: Terminates the loop.\n",
        "*   continue: Skips the current iteration and moves to the next iteration.\n",
        "*   pass: Does nothing and acts as a placeholder.\n",
        "\n",
        "\n",
        "\n",
        "\n"
      ],
      "metadata": {
        "id": "0ISysyuoffFY"
      }
    },
    {
      "cell_type": "code",
      "source": [
        "# Using break, continue, and pass in a loop\n",
        "\n",
        "for i in range(5):\n",
        "    if i == 3:\n",
        "        break  # Break the loop when i is 3\n",
        "    print(\"Break Example:\", i)\n",
        "\n",
        "for i in range(5):\n",
        "    if i == 2:\n",
        "        continue  # Skip iteration when i is 2\n",
        "    print(\"Continue Example:\", i)\n",
        "\n",
        "for i in range(5):\n",
        "    if i == 4:\n",
        "        pass  # Placeholder, does nothing\n",
        "    print(\"Pass Example:\", i)\n"
      ],
      "metadata": {
        "colab": {
          "base_uri": "https://localhost:8080/"
        },
        "id": "MzzTk-GOeZmi",
        "outputId": "0d332313-16cd-40a6-fbbd-4f55b7a6ac5b"
      },
      "execution_count": 2,
      "outputs": [
        {
          "output_type": "stream",
          "name": "stdout",
          "text": [
            "Break Example: 0\n",
            "Break Example: 1\n",
            "Break Example: 2\n",
            "Continue Example: 0\n",
            "Continue Example: 1\n",
            "Continue Example: 3\n",
            "Continue Example: 4\n",
            "Pass Example: 0\n",
            "Pass Example: 1\n",
            "Pass Example: 2\n",
            "Pass Example: 3\n",
            "Pass Example: 4\n"
          ]
        }
      ]
    },
    {
      "cell_type": "markdown",
      "source": [
        "# 3. Strings\n",
        "Strings in Python are immutable, which means their values cannot be changed once created.\n"
      ],
      "metadata": {
        "id": "x__nj1JUg0Ug"
      }
    },
    {
      "cell_type": "code",
      "source": [
        "s = \"Python\"\n",
        "print(s)\n"
      ],
      "metadata": {
        "colab": {
          "base_uri": "https://localhost:8080/"
        },
        "id": "pFOQgbMyeZj5",
        "outputId": "6ce7253a-cddd-46e9-9700-f13a1c082547"
      },
      "execution_count": 3,
      "outputs": [
        {
          "output_type": "stream",
          "name": "stdout",
          "text": [
            "Python\n"
          ]
        }
      ]
    },
    {
      "cell_type": "markdown",
      "source": [
        "# 4. String Indexing\n",
        "Strings are indexed starting from 0. You can access individual characters using their index."
      ],
      "metadata": {
        "id": "HHxN15RGhdqY"
      }
    },
    {
      "cell_type": "markdown",
      "source": [
        "![Screenshot 2024-12-04 223336.png](data:image/png;base64,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)"
      ],
      "metadata": {
        "id": "8E0CBZJMhlIo"
      }
    },
    {
      "cell_type": "markdown",
      "source": [
        "# Positive Indexing"
      ],
      "metadata": {
        "id": "QfUJlQ8ChuJ5"
      }
    },
    {
      "cell_type": "code",
      "source": [
        "# declaring the string\n",
        "str = \"Geeks for Geeks !\"\n",
        "\n",
        "# accessing the character of str at 0th index\n",
        "print(str[0])\n",
        "\n",
        "# accessing the character of str at 6th index\n",
        "print(str[6])\n",
        "\n",
        "# accessing the character of str at 10th index\n",
        "print(str[10])"
      ],
      "metadata": {
        "colab": {
          "base_uri": "https://localhost:8080/"
        },
        "id": "C51iftoEeZhI",
        "outputId": "86d501c1-ffca-42e6-d6dc-c04b577f8779"
      },
      "execution_count": 4,
      "outputs": [
        {
          "output_type": "stream",
          "name": "stdout",
          "text": [
            "G\n",
            "f\n",
            "G\n"
          ]
        }
      ]
    },
    {
      "cell_type": "markdown",
      "source": [
        "# Negative Indexing"
      ],
      "metadata": {
        "id": "QTb2XU3ih-_o"
      }
    },
    {
      "cell_type": "code",
      "source": [
        "# declaring the string\n",
        "str = \"Geeks for Geeks !\"\n",
        "\n",
        "# accessing the character of str at last index\n",
        "print(str[-1])\n",
        "\n",
        "# accessing the character of str at 5th index from the last\n",
        "print(str[-5])\n",
        "\n",
        "# accessing the character of str at 10th index from the last\n",
        "print(str[-10])"
      ],
      "metadata": {
        "colab": {
          "base_uri": "https://localhost:8080/"
        },
        "id": "8pHyCjkceZc5",
        "outputId": "852c1cac-eb39-4a4b-bfc7-1c2354ad53cf"
      },
      "execution_count": 5,
      "outputs": [
        {
          "output_type": "stream",
          "name": "stdout",
          "text": [
            "!\n",
            "e\n",
            "o\n"
          ]
        }
      ]
    },
    {
      "cell_type": "markdown",
      "source": [
        "# 5.String Slicing\n",
        "You can extract a substring by slicing. The syntax is string[start:end], where start is inclusive, and end is exclusive."
      ],
      "metadata": {
        "id": "fI1-0j9SmdjZ"
      }
    },
    {
      "cell_type": "code",
      "source": [
        "s = \"Hello World\"\n",
        "print(s[0:5])   # 'Hello' (from index 0 to 4)\n",
        "print(s[6:])    # 'World' (from index 6 to end)\n",
        "print(s[:5])    # 'Hello' (from start to index 4)\n",
        "print(s[-5:])   # 'World' (last 5 characters)\n"
      ],
      "metadata": {
        "colab": {
          "base_uri": "https://localhost:8080/"
        },
        "id": "l8LCMsC0eZa6",
        "outputId": "d6d5d933-f41c-4080-9fa8-0a359c2251fb"
      },
      "execution_count": 6,
      "outputs": [
        {
          "output_type": "stream",
          "name": "stdout",
          "text": [
            "Hello\n",
            "World\n",
            "Hello\n",
            "World\n"
          ]
        }
      ]
    },
    {
      "cell_type": "markdown",
      "source": [
        "# string[start : end : step]\n",
        "\n",
        "\n",
        "* start : We provide the starting index.\n",
        "* end : We provide the end index(this is not included in substring).\n",
        "* step : It is an optional argument that determines the increment between each index for slicing."
      ],
      "metadata": {
        "id": "mr3p-vkGn1Jg"
      }
    },
    {
      "cell_type": "code",
      "source": [
        "# declaring the string\n",
        "str =\"Geeks for Geeks !\"\n",
        "\n",
        "# slicing using indexing sequence\n",
        "print(str[: 3])\n",
        "print(str[1 : 5 : 2])\n",
        "print(str[-1 : -12 : -2])"
      ],
      "metadata": {
        "colab": {
          "base_uri": "https://localhost:8080/"
        },
        "id": "tOJ1JEmNeZYB",
        "outputId": "550f5959-f450-4ab0-c0ab-2f9de4ceb0bc"
      },
      "execution_count": 7,
      "outputs": [
        {
          "output_type": "stream",
          "name": "stdout",
          "text": [
            "Gee\n",
            "ek\n",
            "!seGrf\n"
          ]
        }
      ]
    },
    {
      "cell_type": "code",
      "source": [
        "# declaring the string\n",
        "str =\"Geeks for Geeks !\"\n",
        "\n",
        "print(\"Original String :-\")\n",
        "print(str)\n",
        "\n",
        "# reversing the string using slicing\n",
        "print(\"Reverse String :-\")\n",
        "print(str[: : -1])"
      ],
      "metadata": {
        "colab": {
          "base_uri": "https://localhost:8080/"
        },
        "id": "HHN-J_n8oBt5",
        "outputId": "1af9c7df-291c-4e5e-8fe4-db5776fd5146"
      },
      "execution_count": 8,
      "outputs": [
        {
          "output_type": "stream",
          "name": "stdout",
          "text": [
            "Original String :-\n",
            "Geeks for Geeks !\n",
            "Reverse String :-\n",
            "! skeeG rof skeeG\n"
          ]
        }
      ]
    },
    {
      "cell_type": "markdown",
      "source": [
        "# 6. Edit and Delete a string\n",
        "Since strings are immutable, you cannot edit them directly. However, you can create a new string by concatenating or replacing parts of the original string."
      ],
      "metadata": {
        "id": "UiQtUFZOoZFR"
      }
    },
    {
      "cell_type": "markdown",
      "source": [
        "**Edit:**"
      ],
      "metadata": {
        "id": "keyCJ-sVoixu"
      }
    },
    {
      "cell_type": "code",
      "source": [
        "s = \"Hello World\"\n",
        "s = s.replace(\"World\", \"Python\")  # Replace \"World\" with \"Python\"\n",
        "print(s)\n"
      ],
      "metadata": {
        "colab": {
          "base_uri": "https://localhost:8080/"
        },
        "id": "jfXuOgu8oBrj",
        "outputId": "59c64a64-cbb1-450f-da56-84be27107708"
      },
      "execution_count": 9,
      "outputs": [
        {
          "output_type": "stream",
          "name": "stdout",
          "text": [
            "Hello Python\n"
          ]
        }
      ]
    },
    {
      "cell_type": "markdown",
      "source": [
        "**Delete:**"
      ],
      "metadata": {
        "id": "uP-CdGjtpfaA"
      }
    },
    {
      "cell_type": "code",
      "source": [
        "s = \"Hello World\"\n",
        "s = s.replace(\"World\", \"\")  # Remove \"World\"\n",
        "print(s)\n"
      ],
      "metadata": {
        "colab": {
          "base_uri": "https://localhost:8080/"
        },
        "id": "pPmIacq-oBo5",
        "outputId": "b1339880-921b-4eb3-cc49-ac657383811c"
      },
      "execution_count": 10,
      "outputs": [
        {
          "output_type": "stream",
          "name": "stdout",
          "text": [
            "Hello \n"
          ]
        }
      ]
    },
    {
      "cell_type": "markdown",
      "source": [
        "# 7. Operations on Strings\n",
        "Here are some common string operations:"
      ],
      "metadata": {
        "id": "-fY-oWmOpxI6"
      }
    },
    {
      "cell_type": "markdown",
      "source": [
        "**Concatenation:**"
      ],
      "metadata": {
        "id": "jNMqMYNLp7qA"
      }
    },
    {
      "cell_type": "code",
      "source": [
        "s1 = \"Hello\"\n",
        "s2 = \"World\"\n",
        "s3 = s1 + \" \" + s2  # Concatenation\n",
        "print(s3)\n"
      ],
      "metadata": {
        "colab": {
          "base_uri": "https://localhost:8080/"
        },
        "id": "lfkk2Cg4oBmZ",
        "outputId": "648f22d5-794e-41ab-fa1b-510a366c150c"
      },
      "execution_count": 11,
      "outputs": [
        {
          "output_type": "stream",
          "name": "stdout",
          "text": [
            "Hello World\n"
          ]
        }
      ]
    },
    {
      "cell_type": "markdown",
      "source": [
        "**Repetition:**"
      ],
      "metadata": {
        "id": "pGOHCfYrqB7g"
      }
    },
    {
      "cell_type": "code",
      "source": [
        "s = \"Python \"\n",
        "s = s * 3  # Repeats the string three times\n",
        "print(s)\n"
      ],
      "metadata": {
        "colab": {
          "base_uri": "https://localhost:8080/"
        },
        "id": "qA4zYcOzp7FZ",
        "outputId": "4808bc30-0832-4992-f80b-b577c94c2791"
      },
      "execution_count": 12,
      "outputs": [
        {
          "output_type": "stream",
          "name": "stdout",
          "text": [
            "Python Python Python \n"
          ]
        }
      ]
    },
    {
      "cell_type": "markdown",
      "source": [
        "**Length:**"
      ],
      "metadata": {
        "id": "PQNaI4KBqJS4"
      }
    },
    {
      "cell_type": "code",
      "source": [
        "s = \"Hello\"\n",
        "print(len(s))  # Length of the string (5)\n"
      ],
      "metadata": {
        "colab": {
          "base_uri": "https://localhost:8080/"
        },
        "id": "kOOtaNYep7DI",
        "outputId": "dcdba267-99c6-471f-c2ed-78b11cc057e9"
      },
      "execution_count": 13,
      "outputs": [
        {
          "output_type": "stream",
          "name": "stdout",
          "text": [
            "5\n"
          ]
        }
      ]
    },
    {
      "cell_type": "markdown",
      "source": [
        "# Membership (checking if a substring is in the string):"
      ],
      "metadata": {
        "id": "6LFx9Hifqb4g"
      }
    },
    {
      "cell_type": "code",
      "source": [
        "s = \"Hello World\"\n",
        "print(\"Hello\" in s)  # True\n",
        "print(\"Python\" in s)  # False\n"
      ],
      "metadata": {
        "colab": {
          "base_uri": "https://localhost:8080/"
        },
        "id": "X7JqHMvOp7Aq",
        "outputId": "cbcda09c-d74e-4eaf-dadb-8eb32b37a20a"
      },
      "execution_count": 14,
      "outputs": [
        {
          "output_type": "stream",
          "name": "stdout",
          "text": [
            "True\n",
            "False\n"
          ]
        }
      ]
    },
    {
      "cell_type": "markdown",
      "source": [
        "# 8. Common String Functions\n",
        "Here are some commonly used string functions:\n",
        "\n",
        "* lower(): Converts all characters to lowercase.\n",
        "* upper(): Converts all characters to uppercase.\n",
        "* strip(): Removes leading and trailing spaces.\n",
        "* replace(): Replaces a substring with another substring.\n",
        "* split(): Splits the string into a list based on a separator.\n",
        "* join(): Joins a list of strings into a single string."
      ],
      "metadata": {
        "id": "hze6X3-eqlyg"
      }
    },
    {
      "cell_type": "code",
      "source": [
        "s = \" Hello World! \"\n",
        "\n",
        "# Lowercase and Uppercase\n",
        "print(s.lower())  # \" hello world! \"\n",
        "print(s.upper())  # \" HELLO WORLD! \"\n",
        "\n",
        "# Strip\n",
        "print(s.strip())  # \"Hello World!\"\n",
        "\n",
        "# Replace\n",
        "s2 = s.replace(\"World\", \"Python\")\n",
        "print(s2)  # \" Hello Python! \"\n",
        "\n",
        "# Split\n",
        "words = s.split()\n",
        "print(words)  # ['Hello', 'World!']\n",
        "\n",
        "# Join\n",
        "joined_string = \"-\".join(words)\n",
        "print(joined_string)  # \"Hello-World!\"\n"
      ],
      "metadata": {
        "colab": {
          "base_uri": "https://localhost:8080/"
        },
        "id": "ETsTmehZp68Q",
        "outputId": "9ff79463-94ca-4164-9507-1e5a95833572"
      },
      "execution_count": 15,
      "outputs": [
        {
          "output_type": "stream",
          "name": "stdout",
          "text": [
            " hello world! \n",
            " HELLO WORLD! \n",
            "Hello World!\n",
            " Hello Python! \n",
            "['Hello', 'World!']\n",
            "Hello-World!\n"
          ]
        }
      ]
    }
  ]
}